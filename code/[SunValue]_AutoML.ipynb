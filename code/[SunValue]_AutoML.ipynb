{
 "cells": [
  {
   "cell_type": "markdown",
   "id": "k7eulrgaQwYy",
   "metadata": {
    "id": "k7eulrgaQwYy"
   },
   "source": [
    "## Import"
   ]
  },
  {
   "cell_type": "code",
   "execution_count": 1,
   "id": "rBvX-8P2QwYy",
   "metadata": {
    "ExecuteTime": {
     "end_time": "2022-07-11T08:41:57.003103Z",
     "start_time": "2022-07-11T08:41:53.892893Z"
    },
    "executionInfo": {
     "elapsed": 2132,
     "status": "ok",
     "timestamp": 1683473184964,
     "user": {
      "displayName": "이승윤",
      "userId": "17995305622900705411"
     },
     "user_tz": -540
    },
    "id": "rBvX-8P2QwYy"
   },
   "outputs": [],
   "source": [
    "# preprocessing\n",
    "import numpy as np\n",
    "import pandas as pd\n",
    "import tqdm\n",
    "import random\n",
    "import os\n",
    "\n",
    "# imputer\n",
    "from sklearn.experimental import enable_iterative_imputer\n",
    "from sklearn.impute import IterativeImputer\n",
    "from sklearn.preprocessing import LabelEncoder\n",
    "from sklearn.preprocessing import StandardScaler\n",
    "\n",
    "# 경고 무시\n",
    "import warnings\n",
    "warnings.filterwarnings('ignore')\n",
    "\n",
    "# model learning\n",
    "from sklearn.model_selection import train_test_split\n",
    "from supervised.automl import AutoML\n",
    "from sklearn.utils.class_weight import compute_sample_weight\n",
    "import statsmodels.api as sm\n",
    "\n",
    "# 평가 지표\n",
    "from sklearn.metrics import mean_absolute_error\n",
    "\n",
    "# 모델 저장\n",
    "import pickle"
   ]
  },
  {
   "cell_type": "markdown",
   "id": "QT7_IBn9QwYz",
   "metadata": {
    "id": "QT7_IBn9QwYz"
   },
   "source": [
    "## Fixed Random-Seed"
   ]
  },
  {
   "cell_type": "code",
   "execution_count": 2,
   "id": "KgyHxME7QwYz",
   "metadata": {
    "ExecuteTime": {
     "end_time": "2022-07-11T08:41:57.009050Z",
     "start_time": "2022-07-11T08:41:57.006949Z"
    },
    "executionInfo": {
     "elapsed": 2,
     "status": "ok",
     "timestamp": 1683473189486,
     "user": {
      "displayName": "이승윤",
      "userId": "17995305622900705411"
     },
     "user_tz": -540
    },
    "id": "KgyHxME7QwYz"
   },
   "outputs": [],
   "source": [
    "def seed_everything(seed):\n",
    "    random.seed(seed)\n",
    "    os.environ['PYTHONHASHSEED'] = str(seed)\n",
    "    np.random.seed(seed)\n",
    "\n",
    "seed_everything(42) # Seed 고정"
   ]
  },
  {
   "cell_type": "markdown",
   "id": "a0b96368",
   "metadata": {},
   "source": [
    "## Load Data"
   ]
  },
  {
   "cell_type": "code",
   "execution_count": 3,
   "id": "3979c375",
   "metadata": {},
   "outputs": [],
   "source": [
    "train_df = pd.read_csv('../data/train.csv')\n",
    "test_df = pd.read_csv('../data/test.csv')\n",
    "building_info = pd.read_csv('../data/building_info.csv')"
   ]
  },
  {
   "cell_type": "markdown",
   "id": "afc314de",
   "metadata": {},
   "source": [
    "## Change Names"
   ]
  },
  {
   "cell_type": "code",
   "execution_count": 4,
   "id": "78d84d29",
   "metadata": {},
   "outputs": [],
   "source": [
    "translation_dict = {\n",
    "    '건물기타': 'Other Buildings',\n",
    "    '공공': 'Public',\n",
    "    '대학교': 'University',\n",
    "    '데이터센터': 'Data Center',\n",
    "    '백화점및아울렛': 'Department Store and Outlet',\n",
    "    '병원': 'Hospital',\n",
    "    '상용': 'Commercial',\n",
    "    '아파트': 'Apartment',\n",
    "    '연구소': 'Research Institute',\n",
    "    '지식산업센터': 'Knowledge Industry Center',\n",
    "    '할인마트': 'Discount Mart',\n",
    "    '호텔및리조트': 'Hotel and Resort'\n",
    "}\n",
    "\n",
    "building_info['건물유형'] = building_info['건물유형'].replace(translation_dict)\n",
    "# building_info.drop('Unnamed: 0', axis = 1 , inplace=True)"
   ]
  },
  {
   "cell_type": "code",
   "execution_count": 5,
   "id": "9a30922f",
   "metadata": {},
   "outputs": [],
   "source": [
    "train_df.columns = ['num_date_time', '건물번호', '일시', '기온', '강수량', '풍속', '습도',\n",
    "       '일조', '일사', '전력소비량']"
   ]
  },
  {
   "cell_type": "code",
   "execution_count": 6,
   "id": "c87464ae",
   "metadata": {},
   "outputs": [],
   "source": [
    "test_df.columns = ['num_date_time', '건물번호', '일시', '기온', '강수량', '풍속', '습도']"
   ]
  },
  {
   "cell_type": "code",
   "execution_count": 7,
   "id": "8d282c6a",
   "metadata": {},
   "outputs": [],
   "source": [
    "building_info.columns = ['건물번호', '건물유형', '연면적', '냉방면적', '태양광용량', 'ESS저장용량',\n",
    "       'PCS용량']"
   ]
  },
  {
   "cell_type": "markdown",
   "id": "d97e1337",
   "metadata": {},
   "source": [
    "## Encoding"
   ]
  },
  {
   "cell_type": "code",
   "execution_count": 8,
   "id": "51a7a3b8",
   "metadata": {},
   "outputs": [],
   "source": [
    "# one hot encoding 생성\n",
    "building_info = pd.get_dummies(building_info, columns=['건물유형'], drop_first=True)"
   ]
  },
  {
   "cell_type": "code",
   "execution_count": 9,
   "id": "26609bb4",
   "metadata": {},
   "outputs": [],
   "source": [
    "# LabelEncoder를 객체로 생성\n",
    "#encoder = LabelEncoder()\n",
    "\n",
    "# fit, transform 메소드를 통한 레이블 인코딩\n",
    "#encoder.fit(building_info['건물유형'])\n",
    "#building_info['건물유형'] = encoder.transform(building_info['건물유형'])"
   ]
  },
  {
   "cell_type": "markdown",
   "id": "5ae00c02",
   "metadata": {},
   "source": [
    "## Merge building info"
   ]
  },
  {
   "cell_type": "code",
   "execution_count": 10,
   "id": "d67ef797",
   "metadata": {},
   "outputs": [],
   "source": [
    "building_info['태양광용량'][building_info['태양광용량'] == '-'] = np.nan\n",
    "building_info['ESS저장용량'][building_info['ESS저장용량'] == '-'] = np.nan\n",
    "building_info['PCS용량'][building_info['PCS용량'] == '-'] = np.nan"
   ]
  },
  {
   "cell_type": "code",
   "execution_count": 11,
   "id": "7e552a26",
   "metadata": {},
   "outputs": [],
   "source": [
    "# 태양광 사용하는지 마는지 여부\n",
    "building_info['태양광사용여부'] = 0"
   ]
  },
  {
   "cell_type": "code",
   "execution_count": 12,
   "id": "6bb13423",
   "metadata": {},
   "outputs": [],
   "source": [
    "building_info['태양광사용여부'][(building_info['태양광용량'].notnull()) | (building_info['ESS저장용량'].notnull()) | (building_info['PCS용량'].notnull())] = 1"
   ]
  },
  {
   "cell_type": "code",
   "execution_count": 13,
   "id": "56c0c425",
   "metadata": {},
   "outputs": [],
   "source": [
    "train_df = pd.merge(train_df, building_info, on='건물번호', how='left')\n",
    "test_df = pd.merge(test_df, building_info, on='건물번호', how='left')"
   ]
  },
  {
   "cell_type": "markdown",
   "id": "r-3_zmrwQwYz",
   "metadata": {
    "id": "r-3_zmrwQwYz"
   },
   "source": [
    "## Train Data Pre-Processing"
   ]
  },
  {
   "cell_type": "code",
   "execution_count": 14,
   "id": "c358c077",
   "metadata": {},
   "outputs": [
    {
     "data": {
      "text/plain": [
       "num_date_time                            0\n",
       "건물번호                                     0\n",
       "일시                                       0\n",
       "기온                                       0\n",
       "강수량                                 160069\n",
       "풍속                                      19\n",
       "습도                                       9\n",
       "일조                                   75182\n",
       "일사                                   87913\n",
       "전력소비량                                    0\n",
       "연면적                                      0\n",
       "냉방면적                                     0\n",
       "태양광용량                               130560\n",
       "ESS저장용량                             193800\n",
       "PCS용량                               193800\n",
       "건물유형_Commercial                          0\n",
       "건물유형_Data Center                         0\n",
       "건물유형_Department Store and Outlet         0\n",
       "건물유형_Discount Mart                       0\n",
       "건물유형_Hospital                            0\n",
       "건물유형_Hotel and Resort                    0\n",
       "건물유형_Knowledge Industry Center           0\n",
       "건물유형_Other Buildings                     0\n",
       "건물유형_Public                              0\n",
       "건물유형_Research Institute                  0\n",
       "건물유형_University                          0\n",
       "태양광사용여부                                  0\n",
       "dtype: int64"
      ]
     },
     "execution_count": 14,
     "metadata": {},
     "output_type": "execute_result"
    }
   ],
   "source": [
    "train_df.isna().sum()"
   ]
  },
  {
   "cell_type": "markdown",
   "id": "72dcd233",
   "metadata": {},
   "source": [
    "- 결측치가 시급하다. 아무리봐도 처리 해야할 것 같다."
   ]
  },
  {
   "cell_type": "code",
   "execution_count": 15,
   "id": "5e6cae2e",
   "metadata": {},
   "outputs": [],
   "source": [
    "#시계열 특성을 학습에 반영하기 위해 일시를 월, 일, 시간으로 나눕니다\n",
    "train_df['월'] = train_df['일시'].apply(lambda x : int(x[4:6]))\n",
    "#train_df['일'] = train_df['일시'].apply(lambda x : int(x[6:8]))\n",
    "train_df['시'] = train_df['일시'].apply(lambda x : int(x[9:11]))"
   ]
  },
  {
   "cell_type": "code",
   "execution_count": 16,
   "id": "10a29c1a",
   "metadata": {},
   "outputs": [],
   "source": [
    "train_df['일시'] = pd.to_datetime(train_df['일시'], format='%Y%m%d %H')"
   ]
  },
  {
   "cell_type": "code",
   "execution_count": 17,
   "id": "5db467cb",
   "metadata": {},
   "outputs": [],
   "source": [
    "# 요일 추가 (0이 월요일 6이 일요일)\n",
    "train_df['주'] = train_df['일시'].dt.dayofweek"
   ]
  },
  {
   "cell_type": "code",
   "execution_count": 18,
   "id": "df13595e",
   "metadata": {},
   "outputs": [],
   "source": [
    "train_df['일조'][(train_df['일조'].isna()) & ((train_df['시'] <= 5) | (train_df['시'] >= 21))] = 0\n",
    "train_df['일사'][(train_df['일사'].isna()) & ((train_df['시'] <= 5) | (train_df['시'] >= 21))] = 0"
   ]
  },
  {
   "cell_type": "code",
   "execution_count": 19,
   "id": "af266d18",
   "metadata": {},
   "outputs": [],
   "source": [
    "train_df['풍속'][train_df['풍속'].isna()] = 0\n",
    "train_df['습도'][train_df['습도'].isna()] = 0"
   ]
  },
  {
   "cell_type": "code",
   "execution_count": 20,
   "id": "653a2deb",
   "metadata": {},
   "outputs": [],
   "source": [
    "# imputation for mice\n",
    "imputer_mice = IterativeImputer(random_state=42)\n",
    "imputer_mice.fit(train_df[['기온', '풍속', '습도', '일조', '일사']])\n",
    "\n",
    "# 데이터 변환 (array로 반환하기 때문에 필요에 맞는 형태로 변환 후 사용)\n",
    "train_df[['기온', '풍속', '습도', '일조', '일사']] = pd.DataFrame(imputer_mice.transform(train_df[['기온', '풍속', '습도', '일조', '일사']]),\n",
    "                         columns=['기온', '풍속', '습도', '일조', '일사'])"
   ]
  },
  {
   "cell_type": "code",
   "execution_count": 21,
   "id": "fa4f1fc9",
   "metadata": {},
   "outputs": [],
   "source": [
    "# 숫자 보정\n",
    "train_df['일조'][train_df['일조'] < 0] = 0\n",
    "train_df['일사'][train_df['일사'] < 0] = 0"
   ]
  },
  {
   "cell_type": "code",
   "execution_count": 22,
   "id": "ea73aaba",
   "metadata": {},
   "outputs": [],
   "source": [
    "# 변수 정리\n",
    "train_df2 = train_df.drop(columns=['num_date_time', '일시',\n",
    "                                 '태양광용량','ESS저장용량','PCS용량', '강수량'])"
   ]
  },
  {
   "cell_type": "code",
   "execution_count": 23,
   "id": "4f4779c5",
   "metadata": {},
   "outputs": [],
   "source": [
    "# 강수량 결측치는 0으로 보정 -> 비 안왔을것이라 예상하고 진행함\n",
    "# train_df2['강수량(mm)'][train_df2['강수량(mm)'].isna()] = 0"
   ]
  },
  {
   "cell_type": "code",
   "execution_count": 24,
   "id": "77cca1b7",
   "metadata": {},
   "outputs": [],
   "source": [
    "# imputation for mice\n",
    "#imputer_mice = IterativeImputer(random_state=42)\n",
    "#imputer_mice.fit(train_df2)\n",
    "\n",
    "# 데이터 변환 (array로 반환하기 때문에 필요에 맞는 형태로 변환 후 사용)\n",
    "#train_df2 = pd.DataFrame(imputer_mice.transform(train_df2),\n",
    "#                         columns=train_df2.columns)"
   ]
  },
  {
   "cell_type": "code",
   "execution_count": 25,
   "id": "07aac8ed",
   "metadata": {},
   "outputs": [],
   "source": [
    "# 그냥 0으로 채우기\n",
    "#train_df2[train_df2.isna()] = 0"
   ]
  },
  {
   "cell_type": "markdown",
   "id": "7eba5985",
   "metadata": {},
   "source": [
    "## Append Value"
   ]
  },
  {
   "cell_type": "code",
   "execution_count": 26,
   "id": "01db2158",
   "metadata": {},
   "outputs": [],
   "source": [
    "# 온도에 따른 포화 수증기압(mb)\n",
    "#train_df2['포화수증기압'] = 6.11*10**((7.5*train_df2['기온'])/(237.3 + train_df2['기온']))"
   ]
  },
  {
   "cell_type": "code",
   "execution_count": 27,
   "id": "41eba007",
   "metadata": {},
   "outputs": [],
   "source": [
    "# 현재 대기의 수증기압(mb)\n",
    "#train_df2['대기압'] = train_df2['습도'] * train_df2['포화수증기압'] / 100"
   ]
  },
  {
   "cell_type": "code",
   "execution_count": 28,
   "id": "6a84b061",
   "metadata": {},
   "outputs": [],
   "source": [
    "# 절대습도(g/m^3)\n",
    "#train_df2['절대습도'] = (0.794*train_df2['대기압'])/(1+0.00366*train_df2['기온'])"
   ]
  },
  {
   "cell_type": "code",
   "execution_count": 29,
   "id": "8741d129",
   "metadata": {},
   "outputs": [],
   "source": [
    "# 공기중의 혼합비(mb)\n",
    "#train_df2['혼합비'] = 0.622 * train_df2['대기압']/(1013.25 - train_df2['대기압'])"
   ]
  },
  {
   "cell_type": "code",
   "execution_count": 30,
   "id": "b8130d86",
   "metadata": {},
   "outputs": [],
   "source": [
    "# 습구온도\n",
    "#train_df2['습구온도'] = train_df2['기온']*np.arctan(0.151977+(train_df2['습도'] + 8.313659)**0.5) + np.arctan(train_df2['기온'] + train_df2['습도']) - np.arctan(train_df2['습도'] - 1.676331) +0.00391838*(train_df2['습도']**1.5)*np.arctan(0.023101*train_df2['습도'])-4.686035"
   ]
  },
  {
   "cell_type": "code",
   "execution_count": 31,
   "id": "4c80407d",
   "metadata": {},
   "outputs": [],
   "source": [
    "# 불쾌지수\n",
    "#train_df2['불쾌지수'] = 9/5*train_df2['기온'] - 0.55*(1-0.01*train_df2['습도'])*(9/5*train_df2['기온'] - 26) + 32"
   ]
  },
  {
   "cell_type": "code",
   "execution_count": 32,
   "id": "03c978c0",
   "metadata": {},
   "outputs": [],
   "source": [
    "# 더위체감지수\n",
    "#train_df2['더위체감지수'] = -0.24418 + 0.553991*train_df2['습구온도'] + 0.455346*train_df2['기온'] - 0.00217*train_df2['습구온도']**2 + 0.002782*train_df2['습구온도']*train_df2['기온'] + 3"
   ]
  },
  {
   "cell_type": "code",
   "execution_count": 33,
   "id": "1698ce2e",
   "metadata": {},
   "outputs": [],
   "source": [
    "# np.select\n",
    "#condlist = [\n",
    "#    (train_df2['더위체감지수'] < 21),\n",
    "#    (train_df2['더위체감지수'] < 25) & (train_df2['더위체감지수'] >= 21),\n",
    "#    (train_df2['더위체감지수'] < 28) & (train_df2['더위체감지수'] >= 25),\n",
    "#    (train_df2['더위체감지수'] < 31) & (train_df2['더위체감지수'] >= 28),\n",
    "#    (train_df2['더위체감지수'] >= 31)\n",
    "#            ]\n",
    "\n",
    "#choicelist = [0, 1, 2, 3, 4]"
   ]
  },
  {
   "cell_type": "code",
   "execution_count": 34,
   "id": "606ccb39",
   "metadata": {},
   "outputs": [],
   "source": [
    "# 범주형 체감지수\n",
    "#train_df2['더위체감지수_범주'] = np.select(condlist, choicelist)"
   ]
  },
  {
   "cell_type": "code",
   "execution_count": 35,
   "id": "420da51a",
   "metadata": {},
   "outputs": [],
   "source": [
    "# 열지수\n",
    "#train_df2['열지수'] = (5/9)*(-42.379 + (2.04901523 * ((9/5)*train_df2['기온']+32)) + (10.14333127 * train_df2['습도']) - (0.22475541 * ((9/5)*train_df2['기온']+32)*train_df2['습도']) - (6.83783e-3 * ((9/5)*train_df2['기온']+32)**2) - (5.481717e-2 * train_df2['습도']**2) + (1.22874e-3 * ((9/5)*train_df2['기온']+32)**2*train_df2['습도']) + (8.5282e-4 * ((9/5)*train_df2['기온']+32)*train_df2['습도']**2) - (1.99e-6 * ((9/5)*train_df2['기온']+32)**2*train_df2['습도']**2) - 32)"
   ]
  },
  {
   "cell_type": "code",
   "execution_count": 36,
   "id": "2534e456",
   "metadata": {},
   "outputs": [],
   "source": [
    "# 평균냉방면적\n",
    "train_df2['평균냉방면적'] = train_df2['냉방면적']/train_df2['연면적']"
   ]
  },
  {
   "cell_type": "code",
   "execution_count": 37,
   "id": "10ff21e3",
   "metadata": {},
   "outputs": [],
   "source": [
    "# onehot 주\n",
    "#train_df2 = pd.get_dummies(train_df2, columns=['주'], drop_first=True)"
   ]
  },
  {
   "cell_type": "code",
   "execution_count": 38,
   "id": "e8c0a111",
   "metadata": {},
   "outputs": [],
   "source": [
    "# 훈련 및 테스트 데이터 셋\n",
    "train_x = train_df2[train_df2.columns.difference(['전력소비량'])]\n",
    "train_y = train_df2['전력소비량']"
   ]
  },
  {
   "cell_type": "markdown",
   "id": "b724dfdb",
   "metadata": {},
   "source": [
    "# BoxCox"
   ]
  },
  {
   "cell_type": "code",
   "execution_count": 39,
   "id": "9a53eeb1",
   "metadata": {},
   "outputs": [],
   "source": [
    "# 가중치\n",
    "boxcox = 0.21"
   ]
  },
  {
   "cell_type": "code",
   "execution_count": 40,
   "id": "9fd98d43",
   "metadata": {},
   "outputs": [],
   "source": [
    "# 적용\n",
    "train_y_root_twice = train_y**boxcox"
   ]
  },
  {
   "cell_type": "markdown",
   "id": "024384df",
   "metadata": {},
   "source": [
    "## Value Check"
   ]
  },
  {
   "cell_type": "code",
   "execution_count": 41,
   "id": "abb39807",
   "metadata": {},
   "outputs": [],
   "source": [
    "results = sm.OLS(train_y_root_twice, sm.add_constant(train_x)).fit()"
   ]
  },
  {
   "cell_type": "code",
   "execution_count": 42,
   "id": "325b6b19",
   "metadata": {
    "scrolled": false
   },
   "outputs": [
    {
     "data": {
      "text/html": [
       "<table class=\"simpletable\">\n",
       "<caption>OLS Regression Results</caption>\n",
       "<tr>\n",
       "  <th>Dep. Variable:</th>          <td>전력소비량</td>      <th>  R-squared:         </th>  <td>   0.400</td>  \n",
       "</tr>\n",
       "<tr>\n",
       "  <th>Model:</th>                   <td>OLS</td>       <th>  Adj. R-squared:    </th>  <td>   0.400</td>  \n",
       "</tr>\n",
       "<tr>\n",
       "  <th>Method:</th>             <td>Least Squares</td>  <th>  F-statistic:       </th>  <td>   5674.</td>  \n",
       "</tr>\n",
       "<tr>\n",
       "  <th>Date:</th>             <td>Fri, 11 Aug 2023</td> <th>  Prob (F-statistic):</th>   <td>  0.00</td>   \n",
       "</tr>\n",
       "<tr>\n",
       "  <th>Time:</th>                 <td>21:16:41</td>     <th>  Log-Likelihood:    </th> <td>-1.9070e+05</td>\n",
       "</tr>\n",
       "<tr>\n",
       "  <th>No. Observations:</th>      <td>204000</td>      <th>  AIC:               </th>  <td>3.814e+05</td> \n",
       "</tr>\n",
       "<tr>\n",
       "  <th>Df Residuals:</th>          <td>203975</td>      <th>  BIC:               </th>  <td>3.817e+05</td> \n",
       "</tr>\n",
       "<tr>\n",
       "  <th>Df Model:</th>              <td>    24</td>      <th>                     </th>      <td> </td>     \n",
       "</tr>\n",
       "<tr>\n",
       "  <th>Covariance Type:</th>      <td>nonrobust</td>    <th>                     </th>      <td> </td>     \n",
       "</tr>\n",
       "</table>\n",
       "<table class=\"simpletable\">\n",
       "<tr>\n",
       "                  <td></td>                    <th>coef</th>     <th>std err</th>      <th>t</th>      <th>P>|t|</th>  <th>[0.025</th>    <th>0.975]</th>  \n",
       "</tr>\n",
       "<tr>\n",
       "  <th>const</th>                            <td>    5.7199</td> <td>    0.038</td> <td>  151.673</td> <td> 0.000</td> <td>    5.646</td> <td>    5.794</td>\n",
       "</tr>\n",
       "<tr>\n",
       "  <th>건물번호</th>                             <td>   -0.0475</td> <td>    0.001</td> <td>  -92.041</td> <td> 0.000</td> <td>   -0.048</td> <td>   -0.046</td>\n",
       "</tr>\n",
       "<tr>\n",
       "  <th>건물유형_Commercial</th>                  <td>    0.3288</td> <td>    0.008</td> <td>   39.211</td> <td> 0.000</td> <td>    0.312</td> <td>    0.345</td>\n",
       "</tr>\n",
       "<tr>\n",
       "  <th>건물유형_Data Center</th>                 <td>    0.1810</td> <td>    0.018</td> <td>   10.244</td> <td> 0.000</td> <td>    0.146</td> <td>    0.216</td>\n",
       "</tr>\n",
       "<tr>\n",
       "  <th>건물유형_Department Store and Outlet</th> <td>   -0.5982</td> <td>    0.014</td> <td>  -41.948</td> <td> 0.000</td> <td>   -0.626</td> <td>   -0.570</td>\n",
       "</tr>\n",
       "<tr>\n",
       "  <th>건물유형_Discount Mart</th>               <td>    1.4269</td> <td>    0.014</td> <td>   99.534</td> <td> 0.000</td> <td>    1.399</td> <td>    1.455</td>\n",
       "</tr>\n",
       "<tr>\n",
       "  <th>건물유형_Hospital</th>                    <td>    0.2045</td> <td>    0.011</td> <td>   18.318</td> <td> 0.000</td> <td>    0.183</td> <td>    0.226</td>\n",
       "</tr>\n",
       "<tr>\n",
       "  <th>건물유형_Hotel and Resort</th>            <td>    1.7965</td> <td>    0.018</td> <td>  100.120</td> <td> 0.000</td> <td>    1.761</td> <td>    1.832</td>\n",
       "</tr>\n",
       "<tr>\n",
       "  <th>건물유형_Knowledge Industry Center</th>   <td>    1.2686</td> <td>    0.011</td> <td>  118.137</td> <td> 0.000</td> <td>    1.248</td> <td>    1.290</td>\n",
       "</tr>\n",
       "<tr>\n",
       "  <th>건물유형_Other Buildings</th>             <td>   -2.0946</td> <td>    0.030</td> <td>  -70.222</td> <td> 0.000</td> <td>   -2.153</td> <td>   -2.036</td>\n",
       "</tr>\n",
       "<tr>\n",
       "  <th>건물유형_Public</th>                      <td>   -1.7424</td> <td>    0.024</td> <td>  -71.306</td> <td> 0.000</td> <td>   -1.790</td> <td>   -1.694</td>\n",
       "</tr>\n",
       "<tr>\n",
       "  <th>건물유형_Research Institute</th>          <td>    1.2754</td> <td>    0.009</td> <td>  144.122</td> <td> 0.000</td> <td>    1.258</td> <td>    1.293</td>\n",
       "</tr>\n",
       "<tr>\n",
       "  <th>건물유형_University</th>                  <td>   -0.5289</td> <td>    0.021</td> <td>  -25.725</td> <td> 0.000</td> <td>   -0.569</td> <td>   -0.489</td>\n",
       "</tr>\n",
       "<tr>\n",
       "  <th>기온</th>                               <td>    0.0152</td> <td>    0.001</td> <td>   28.204</td> <td> 0.000</td> <td>    0.014</td> <td>    0.016</td>\n",
       "</tr>\n",
       "<tr>\n",
       "  <th>냉방면적</th>                             <td>-2.453e-06</td> <td> 4.34e-08</td> <td>  -56.477</td> <td> 0.000</td> <td>-2.54e-06</td> <td>-2.37e-06</td>\n",
       "</tr>\n",
       "<tr>\n",
       "  <th>습도</th>                               <td>    0.0010</td> <td>    0.000</td> <td>    7.406</td> <td> 0.000</td> <td>    0.001</td> <td>    0.001</td>\n",
       "</tr>\n",
       "<tr>\n",
       "  <th>시</th>                                <td>    0.0134</td> <td>    0.000</td> <td>   63.108</td> <td> 0.000</td> <td>    0.013</td> <td>    0.014</td>\n",
       "</tr>\n",
       "<tr>\n",
       "  <th>연면적</th>                              <td> 2.102e-06</td> <td> 3.69e-08</td> <td>   57.022</td> <td> 0.000</td> <td> 2.03e-06</td> <td> 2.17e-06</td>\n",
       "</tr>\n",
       "<tr>\n",
       "  <th>월</th>                                <td>    0.0572</td> <td>    0.002</td> <td>   25.405</td> <td> 0.000</td> <td>    0.053</td> <td>    0.062</td>\n",
       "</tr>\n",
       "<tr>\n",
       "  <th>일사</th>                               <td>    0.2093</td> <td>    0.003</td> <td>   71.295</td> <td> 0.000</td> <td>    0.204</td> <td>    0.215</td>\n",
       "</tr>\n",
       "<tr>\n",
       "  <th>일조</th>                               <td>   -0.2016</td> <td>    0.007</td> <td>  -27.949</td> <td> 0.000</td> <td>   -0.216</td> <td>   -0.187</td>\n",
       "</tr>\n",
       "<tr>\n",
       "  <th>주</th>                                <td>   -0.0183</td> <td>    0.001</td> <td>  -26.328</td> <td> 0.000</td> <td>   -0.020</td> <td>   -0.017</td>\n",
       "</tr>\n",
       "<tr>\n",
       "  <th>태양광사용여부</th>                          <td>   -0.0067</td> <td>    0.004</td> <td>   -1.774</td> <td> 0.076</td> <td>   -0.014</td> <td>    0.001</td>\n",
       "</tr>\n",
       "<tr>\n",
       "  <th>평균냉방면적</th>                           <td>    0.5464</td> <td>    0.009</td> <td>   62.836</td> <td> 0.000</td> <td>    0.529</td> <td>    0.563</td>\n",
       "</tr>\n",
       "<tr>\n",
       "  <th>풍속</th>                               <td>    0.0625</td> <td>    0.001</td> <td>   57.425</td> <td> 0.000</td> <td>    0.060</td> <td>    0.065</td>\n",
       "</tr>\n",
       "</table>\n",
       "<table class=\"simpletable\">\n",
       "<tr>\n",
       "  <th>Omnibus:</th>       <td>7835.515</td> <th>  Durbin-Watson:     </th> <td>   0.070</td> \n",
       "</tr>\n",
       "<tr>\n",
       "  <th>Prob(Omnibus):</th>  <td> 0.000</td>  <th>  Jarque-Bera (JB):  </th> <td>10150.233</td>\n",
       "</tr>\n",
       "<tr>\n",
       "  <th>Skew:</th>           <td> 0.417</td>  <th>  Prob(JB):          </th> <td>    0.00</td> \n",
       "</tr>\n",
       "<tr>\n",
       "  <th>Kurtosis:</th>       <td> 3.706</td>  <th>  Cond. No.          </th> <td>7.92e+07</td> \n",
       "</tr>\n",
       "</table><br/><br/>Notes:<br/>[1] Standard Errors assume that the covariance matrix of the errors is correctly specified.<br/>[2] The condition number is large, 7.92e+07. This might indicate that there are<br/>strong multicollinearity or other numerical problems."
      ],
      "text/plain": [
       "<class 'statsmodels.iolib.summary.Summary'>\n",
       "\"\"\"\n",
       "                            OLS Regression Results                            \n",
       "==============================================================================\n",
       "Dep. Variable:                  전력소비량   R-squared:                       0.400\n",
       "Model:                            OLS   Adj. R-squared:                  0.400\n",
       "Method:                 Least Squares   F-statistic:                     5674.\n",
       "Date:                Fri, 11 Aug 2023   Prob (F-statistic):               0.00\n",
       "Time:                        21:16:41   Log-Likelihood:            -1.9070e+05\n",
       "No. Observations:              204000   AIC:                         3.814e+05\n",
       "Df Residuals:                  203975   BIC:                         3.817e+05\n",
       "Df Model:                          24                                         \n",
       "Covariance Type:            nonrobust                                         \n",
       "====================================================================================================\n",
       "                                       coef    std err          t      P>|t|      [0.025      0.975]\n",
       "----------------------------------------------------------------------------------------------------\n",
       "const                                5.7199      0.038    151.673      0.000       5.646       5.794\n",
       "건물번호                                -0.0475      0.001    -92.041      0.000      -0.048      -0.046\n",
       "건물유형_Commercial                      0.3288      0.008     39.211      0.000       0.312       0.345\n",
       "건물유형_Data Center                     0.1810      0.018     10.244      0.000       0.146       0.216\n",
       "건물유형_Department Store and Outlet    -0.5982      0.014    -41.948      0.000      -0.626      -0.570\n",
       "건물유형_Discount Mart                   1.4269      0.014     99.534      0.000       1.399       1.455\n",
       "건물유형_Hospital                        0.2045      0.011     18.318      0.000       0.183       0.226\n",
       "건물유형_Hotel and Resort                1.7965      0.018    100.120      0.000       1.761       1.832\n",
       "건물유형_Knowledge Industry Center       1.2686      0.011    118.137      0.000       1.248       1.290\n",
       "건물유형_Other Buildings                -2.0946      0.030    -70.222      0.000      -2.153      -2.036\n",
       "건물유형_Public                         -1.7424      0.024    -71.306      0.000      -1.790      -1.694\n",
       "건물유형_Research Institute              1.2754      0.009    144.122      0.000       1.258       1.293\n",
       "건물유형_University                     -0.5289      0.021    -25.725      0.000      -0.569      -0.489\n",
       "기온                                   0.0152      0.001     28.204      0.000       0.014       0.016\n",
       "냉방면적                             -2.453e-06   4.34e-08    -56.477      0.000   -2.54e-06   -2.37e-06\n",
       "습도                                   0.0010      0.000      7.406      0.000       0.001       0.001\n",
       "시                                    0.0134      0.000     63.108      0.000       0.013       0.014\n",
       "연면적                               2.102e-06   3.69e-08     57.022      0.000    2.03e-06    2.17e-06\n",
       "월                                    0.0572      0.002     25.405      0.000       0.053       0.062\n",
       "일사                                   0.2093      0.003     71.295      0.000       0.204       0.215\n",
       "일조                                  -0.2016      0.007    -27.949      0.000      -0.216      -0.187\n",
       "주                                   -0.0183      0.001    -26.328      0.000      -0.020      -0.017\n",
       "태양광사용여부                             -0.0067      0.004     -1.774      0.076      -0.014       0.001\n",
       "평균냉방면적                               0.5464      0.009     62.836      0.000       0.529       0.563\n",
       "풍속                                   0.0625      0.001     57.425      0.000       0.060       0.065\n",
       "==============================================================================\n",
       "Omnibus:                     7835.515   Durbin-Watson:                   0.070\n",
       "Prob(Omnibus):                  0.000   Jarque-Bera (JB):            10150.233\n",
       "Skew:                           0.417   Prob(JB):                         0.00\n",
       "Kurtosis:                       3.706   Cond. No.                     7.92e+07\n",
       "==============================================================================\n",
       "\n",
       "Notes:\n",
       "[1] Standard Errors assume that the covariance matrix of the errors is correctly specified.\n",
       "[2] The condition number is large, 7.92e+07. This might indicate that there are\n",
       "strong multicollinearity or other numerical problems.\n",
       "\"\"\""
      ]
     },
     "execution_count": 42,
     "metadata": {},
     "output_type": "execute_result"
    }
   ],
   "source": [
    "results.summary()"
   ]
  },
  {
   "cell_type": "markdown",
   "id": "080c935d",
   "metadata": {},
   "source": [
    "## Standard Scaling"
   ]
  },
  {
   "cell_type": "code",
   "execution_count": 43,
   "id": "eff4a671",
   "metadata": {},
   "outputs": [],
   "source": [
    "# 표준화\n",
    "#std_scaler = StandardScaler()\n",
    "#train_x = std_scaler.fit_transform(train_x)"
   ]
  },
  {
   "cell_type": "markdown",
   "id": "ZC7hzMtOQwY0",
   "metadata": {
    "id": "ZC7hzMtOQwY0"
   },
   "source": [
    "## Regression Model Fit"
   ]
  },
  {
   "cell_type": "code",
   "execution_count": 44,
   "id": "1aX-3v6JrpX6",
   "metadata": {
    "colab": {
     "base_uri": "https://localhost:8080/",
     "height": 75
    },
    "executionInfo": {
     "elapsed": 22,
     "status": "ok",
     "timestamp": 1683473315989,
     "user": {
      "displayName": "이승윤",
      "userId": "17995305622900705411"
     },
     "user_tz": -540
    },
    "id": "1aX-3v6JrpX6",
    "outputId": "99876b02-be42-4e2a-8b13-844328b558fe"
   },
   "outputs": [],
   "source": [
    "# automl modeling\n",
    "automl = AutoML(mode=\"Compete\",\n",
    "                total_time_limit = 3600*3,\n",
    "                algorithms=[\"Baseline\",\n",
    "                            \"CatBoost\",\n",
    "                            \"Xgboost\",\n",
    "                            \"Random Forest\",\n",
    "                            \"Extra Trees\",\n",
    "                            \"LightGBM\",\n",
    "                            \"Neural Network\"], \n",
    "                ml_task = \"regression\",\n",
    "                eval_metric = 'mae',\n",
    "                random_state = 42,\n",
    "                results_path = '../model/AutoML_OneHot_0.21_imputate_2value_sunbattery_NA0/'\n",
    "               )"
   ]
  },
  {
   "cell_type": "code",
   "execution_count": 45,
   "id": "f587fb63",
   "metadata": {
    "scrolled": false
   },
   "outputs": [
    {
     "name": "stdout",
     "output_type": "stream",
     "text": [
      "AutoML directory: ../model/AutoML_OneHot_0.21_imputate_2value_sunbattery_NA0/\n",
      "The task is regression with evaluation metric mae\n",
      "AutoML will use algorithms: ['Baseline', 'CatBoost', 'Xgboost', 'Random Forest', 'Extra Trees', 'LightGBM', 'Neural Network']\n",
      "AutoML will stack models\n",
      "AutoML will ensemble available models\n",
      "AutoML steps: ['adjust_validation', 'simple_algorithms', 'default_algorithms', 'not_so_random', 'golden_features', 'kmeans_features', 'insert_random_feature', 'features_selection', 'hill_climbing_1', 'hill_climbing_2', 'boost_on_errors', 'ensemble', 'stack', 'ensemble_stacked']\n",
      "* Step adjust_validation will try to check up to 1 model\n",
      "1_DecisionTree mae 0.426946 trained in 1.02 seconds\n",
      "Adjust validation. Remove: 1_DecisionTree\n",
      "Validation strategy: 10-fold CV Shuffle\n",
      "* Step simple_algorithms will try to check up to 1 model\n",
      "1_Baseline mae 0.620316 trained in 4.04 seconds\n",
      "* Step default_algorithms will try to check up to 6 models\n",
      "2_Default_LightGBM mae 0.045742 trained in 1075.58 seconds\n",
      "3_Default_Xgboost mae 0.051202 trained in 1287.58 seconds\n",
      "4_Default_CatBoost mae 0.056995 trained in 841.91 seconds\n",
      "* Step not_so_random will try to check up to 54 models\n",
      "14_LightGBM mae 0.051144 trained in 554.39 seconds\n",
      "5_Xgboost mae 0.051487 trained in 962.42 seconds\n",
      "23_CatBoost mae 0.053988 trained in 908.22 seconds\n",
      "* Step golden_features will try to check up to 3 models\n",
      "None 10\n",
      "Add Golden Feature: 연면적_sum_냉방면적\n",
      "Add Golden Feature: 건물번호_diff_건물유형_Commercial\n",
      "Add Golden Feature: 건물유형_University_sum_건물번호\n",
      "Add Golden Feature: 건물유형_Research Institute_sum_건물번호\n",
      "Add Golden Feature: 건물번호_diff_건물유형_Research Institute\n",
      "Add Golden Feature: 건물번호_diff_평균냉방면적\n",
      "Add Golden Feature: 평균냉방면적_sum_건물번호\n",
      "Add Golden Feature: 건물번호_diff_건물유형_Public\n",
      "Add Golden Feature: 건물유형_Other Buildings_sum_건물번호\n",
      "Add Golden Feature: 건물번호_diff_건물유형_Other Buildings\n",
      "Created 10 Golden Features in 15.84 seconds.\n",
      "2_Default_LightGBM_GoldenFeatures mae 0.045593 trained in 1226.92 seconds\n",
      "Skip kmeans_features because of the time limit.\n",
      "Not enough time to perform features selection. Skip\n",
      "Time needed for features selection ~ 4029.0 seconds\n",
      "Please increase total_time_limit to at least (40346 seconds) to have features selection\n",
      "Skip insert_random_feature because no parameters were generated.\n",
      "Skip features_selection because no parameters were generated.\n",
      "* Step hill_climbing_1 will try to check up to 11 models\n",
      "24_LightGBM_GoldenFeatures mae 0.045593 trained in 1208.68 seconds\n",
      "* Step hill_climbing_2 will try to check up to 11 models\n",
      "25_LightGBM_GoldenFeatures mae 0.046041 trained in 856.87 seconds\n",
      "* Step boost_on_errors will try to check up to 1 model\n",
      "2_Default_LightGBM_BoostOnErrors mae 0.045957 trained in 1003.09 seconds\n",
      "* Step ensemble will try to check up to 1 model\n",
      "Ensemble mae 0.044073 trained in 1.01 seconds\n",
      "* Step stack will try to check up to 9 models\n",
      "2_Default_LightGBM_GoldenFeatures_Stacked mae 0.043922 trained in 110.31 seconds\n",
      "3_Default_Xgboost_Stacked mae 0.04401 trained in 137.23 seconds\n",
      "23_CatBoost_Stacked mae 0.044075 trained in 533.33 seconds\n",
      "24_LightGBM_GoldenFeatures_Stacked not trained. Stop training after the first fold. Time needed to train on the first fold 10.0 seconds. The time estimate for training on all folds is larger than total_time_limit.\n",
      "5_Xgboost_Stacked not trained. Stop training after the first fold. Time needed to train on the first fold 7.0 seconds. The time estimate for training on all folds is larger than total_time_limit.\n",
      "4_Default_CatBoost_Stacked not trained. Stop training after the first fold. Time needed to train on the first fold 31.0 seconds. The time estimate for training on all folds is larger than total_time_limit.\n",
      "2_Default_LightGBM_Stacked not trained. Stop training after the first fold. Time needed to train on the first fold 7.0 seconds. The time estimate for training on all folds is larger than total_time_limit.\n",
      "* Step ensemble_stacked will try to check up to 1 model\n",
      "Ensemble_Stacked mae 0.043467 trained in 1.75 seconds\n",
      "AutoML fit time: 10811.31 seconds\n",
      "AutoML best model: Ensemble_Stacked\n"
     ]
    },
    {
     "data": {
      "text/plain": [
       "AutoML(algorithms=['Baseline', 'CatBoost', 'Xgboost', 'Random Forest',\n",
       "                   'Extra Trees', 'LightGBM', 'Neural Network'],\n",
       "       eval_metric='mae', ml_task='regression', mode='Compete', random_state=42,\n",
       "       results_path='../model/AutoML_OneHot_0.21_imputate_2value_sunbattery_NA0/',\n",
       "       total_time_limit=10800)"
      ]
     },
     "execution_count": 45,
     "metadata": {},
     "output_type": "execute_result"
    }
   ],
   "source": [
    "# fitting\n",
    "automl.fit(train_x, train_y_root_twice)"
   ]
  },
  {
   "cell_type": "markdown",
   "id": "e59c15c2",
   "metadata": {},
   "source": [
    "## Test Data Pre-Processing"
   ]
  },
  {
   "cell_type": "code",
   "execution_count": 46,
   "id": "4ef9d2af",
   "metadata": {},
   "outputs": [],
   "source": [
    "test_df['월'] = test_df['일시'].apply(lambda x : int(x[4:6]))\n",
    "#test_df['일'] = test_df['일시'].apply(lambda x : int(x[6:8]))\n",
    "test_df['시'] = test_df['일시'].apply(lambda x : int(x[9:11]))"
   ]
  },
  {
   "cell_type": "code",
   "execution_count": 47,
   "id": "6b2c409b",
   "metadata": {},
   "outputs": [],
   "source": [
    "test_df['일시'] = pd.to_datetime(test_df['일시'], format='%Y%m%d %H')"
   ]
  },
  {
   "cell_type": "code",
   "execution_count": 48,
   "id": "d807185f",
   "metadata": {},
   "outputs": [],
   "source": [
    "# 요일 추가 (0이 월요일 6이 일요일)\n",
    "test_df['주'] = test_df['일시'].dt.dayofweek"
   ]
  },
  {
   "cell_type": "code",
   "execution_count": 49,
   "id": "a92bcaa7",
   "metadata": {},
   "outputs": [],
   "source": [
    "# 없는 변수 추가하기\n",
    "test_df['일조'] = np.nan\n",
    "test_df['일사'] = np.nan\n",
    "\n",
    "# 데이터 변환 (array로 반환하기 때문에 필요에 맞는 형태로 변환 후 사용)\n",
    "test_df[['기온', '풍속', '습도', '일조', '일사']] = pd.DataFrame(imputer_mice.transform(test_df[['기온', '풍속', '습도', '일조', '일사']]),\n",
    "                         columns=['기온', '풍속', '습도', '일조', '일사'])"
   ]
  },
  {
   "cell_type": "code",
   "execution_count": 50,
   "id": "1bf1893a",
   "metadata": {},
   "outputs": [],
   "source": [
    "# 숫자 보정\n",
    "test_df['일조'][test_df['일조'] < 0] = 0\n",
    "test_df['일사'][test_df['일사'] < 0] = 0"
   ]
  },
  {
   "cell_type": "code",
   "execution_count": 51,
   "id": "3ffcb2ae",
   "metadata": {},
   "outputs": [],
   "source": [
    "# 변수 정리\n",
    "test_df2 = test_df.drop(columns=['num_date_time', '일시',\n",
    "                                 '태양광용량','ESS저장용량','PCS용량', '강수량'])"
   ]
  },
  {
   "cell_type": "markdown",
   "id": "8a7096fc",
   "metadata": {},
   "source": [
    "## Append Value"
   ]
  },
  {
   "cell_type": "code",
   "execution_count": 52,
   "id": "12e36f72",
   "metadata": {},
   "outputs": [],
   "source": [
    "# 온도에 따른 포화 수증기압(mb)\n",
    "#test_df2['포화수증기압'] = 6.11*10**((7.5*test_df2['기온'])/(237.3 + test_df2['기온']))"
   ]
  },
  {
   "cell_type": "code",
   "execution_count": 53,
   "id": "72352918",
   "metadata": {},
   "outputs": [],
   "source": [
    "# 현재 대기의 수증기압(mb)\n",
    "#test_df2['대기압'] = test_df2['습도'] * test_df2['포화수증기압'] / 100"
   ]
  },
  {
   "cell_type": "code",
   "execution_count": 54,
   "id": "a44cbfb5",
   "metadata": {},
   "outputs": [],
   "source": [
    "# 절대습도(g/m^3)\n",
    "#test_df2['절대습도'] = (0.794*test_df2['대기압'])/(1+0.00366*test_df2['기온'])"
   ]
  },
  {
   "cell_type": "code",
   "execution_count": 55,
   "id": "b62398c5",
   "metadata": {},
   "outputs": [],
   "source": [
    "# 공기중의 혼합비(mb)\n",
    "#test_df2['혼합비'] = 0.622 * test_df2['대기압']/(1013.25 - test_df2['대기압'])"
   ]
  },
  {
   "cell_type": "code",
   "execution_count": 56,
   "id": "238a44d4",
   "metadata": {},
   "outputs": [],
   "source": [
    "# 습구온도\n",
    "#test_df2['습구온도'] = test_df2['기온']*np.arctan(0.151977+(test_df2['습도'] + 8.313659)**0.5) + np.arctan(test_df2['기온'] + test_df2['습도']) - np.arctan(test_df2['습도'] - 1.676331) +0.00391838*(test_df2['습도']**1.5)*np.arctan(0.023101*test_df2['습도'])-4.686035"
   ]
  },
  {
   "cell_type": "code",
   "execution_count": 57,
   "id": "b8152801",
   "metadata": {},
   "outputs": [],
   "source": [
    "# 불쾌지수\n",
    "#test_df2['불쾌지수'] = 9/5*test_df2['기온'] - 0.55*(1-0.01*test_df2['습도'])*(9/5*test_df2['기온'] - 26) + 32"
   ]
  },
  {
   "cell_type": "code",
   "execution_count": 58,
   "id": "ebc89e1f",
   "metadata": {},
   "outputs": [],
   "source": [
    "# 더위체감지수\n",
    "#test_df2['더위체감지수'] = -0.24418 + 0.553991*test_df2['습구온도'] + 0.455346*test_df2['기온'] - 0.00217*test_df2['습구온도']**2 + 0.002782*test_df2['습구온도']*test_df2['기온'] + 3"
   ]
  },
  {
   "cell_type": "code",
   "execution_count": 59,
   "id": "0a0e3c65",
   "metadata": {},
   "outputs": [],
   "source": [
    "# np.select\n",
    "#condlist = [\n",
    "#    (test_df2['더위체감지수'] < 21),\n",
    "#    (test_df2['더위체감지수'] < 25) & (test_df2['더위체감지수'] >= 21),\n",
    "#    (test_df2['더위체감지수'] < 28) & (test_df2['더위체감지수'] >= 25),\n",
    "#    (test_df2['더위체감지수'] < 31) & (test_df2['더위체감지수'] >= 28),\n",
    "#    (test_df2['더위체감지수'] >= 31)\n",
    "#           ]\n",
    "\n",
    "#choicelist = [0, 1, 2, 3, 4]"
   ]
  },
  {
   "cell_type": "code",
   "execution_count": 60,
   "id": "eef3ef31",
   "metadata": {},
   "outputs": [],
   "source": [
    "# 범주형 체감지수\n",
    "#test_df2['더위체감지수_범주'] = np.select(condlist, choicelist)"
   ]
  },
  {
   "cell_type": "code",
   "execution_count": 61,
   "id": "702a3c45",
   "metadata": {},
   "outputs": [],
   "source": [
    "# 열지수\n",
    "#test_df2['열지수'] = (5/9)*(-42.379 + (2.04901523 * ((9/5)*test_df2['기온']+32)) + (10.14333127 * test_df2['습도']) - (0.22475541 * ((9/5)*test_df2['기온']+32)*test_df2['습도']) - (6.83783e-3 * ((9/5)*test_df2['기온']+32)**2) - (5.481717e-2 * test_df2['습도']**2) + (1.22874e-3 * ((9/5)*test_df2['기온']+32)**2*test_df2['습도']) + (8.5282e-4 * ((9/5)*test_df2['기온']+32)*test_df2['습도']**2) - (1.99e-6 * ((9/5)*test_df2['기온']+32)**2*test_df2['습도']**2) - 32)"
   ]
  },
  {
   "cell_type": "code",
   "execution_count": 62,
   "id": "cffef504",
   "metadata": {},
   "outputs": [],
   "source": [
    "# 평균냉방면적\n",
    "test_df2['평균냉방면적'] = test_df2['냉방면적']/test_df2['연면적']"
   ]
  },
  {
   "cell_type": "code",
   "execution_count": 63,
   "id": "5bc84ad4",
   "metadata": {},
   "outputs": [],
   "source": [
    "# onehot 주\n",
    "#test_df2 = pd.get_dummies(test_df2, columns=['주'], drop_first=True)"
   ]
  },
  {
   "cell_type": "code",
   "execution_count": 64,
   "id": "f0f7c0f0",
   "metadata": {},
   "outputs": [],
   "source": [
    "# test_df2 = std_scaler.fit_transform(test_df2)"
   ]
  },
  {
   "cell_type": "code",
   "execution_count": 65,
   "id": "1a6ab8cf",
   "metadata": {},
   "outputs": [],
   "source": [
    "# 훈련 및 테스트 데이터 셋\n",
    "#test_df2 = test_df2[test_df2.columns.difference(['냉방면적', '연면적', '습도', '월', '건물번호', '기온'])]"
   ]
  },
  {
   "cell_type": "markdown",
   "id": "Uj-WTX6oQwY0",
   "metadata": {
    "id": "Uj-WTX6oQwY0"
   },
   "source": [
    "## Inference"
   ]
  },
  {
   "cell_type": "code",
   "execution_count": 66,
   "id": "ENCOoU00QwY0",
   "metadata": {
    "executionInfo": {
     "elapsed": 7,
     "status": "ok",
     "timestamp": 1683473315989,
     "user": {
      "displayName": "이승윤",
      "userId": "17995305622900705411"
     },
     "user_tz": -540
    },
    "id": "ENCOoU00QwY0"
   },
   "outputs": [],
   "source": [
    "preds = automl.predict(test_df2)"
   ]
  },
  {
   "cell_type": "markdown",
   "id": "5FMPeTISQwY0",
   "metadata": {
    "id": "5FMPeTISQwY0"
   },
   "source": [
    "## Submission"
   ]
  },
  {
   "cell_type": "code",
   "execution_count": 67,
   "id": "AXO-EmaQQwY0",
   "metadata": {
    "executionInfo": {
     "elapsed": 368,
     "status": "ok",
     "timestamp": 1683473316927,
     "user": {
      "displayName": "이승윤",
      "userId": "17995305622900705411"
     },
     "user_tz": -540
    },
    "id": "AXO-EmaQQwY0"
   },
   "outputs": [
    {
     "data": {
      "text/html": [
       "<div>\n",
       "<style scoped>\n",
       "    .dataframe tbody tr th:only-of-type {\n",
       "        vertical-align: middle;\n",
       "    }\n",
       "\n",
       "    .dataframe tbody tr th {\n",
       "        vertical-align: top;\n",
       "    }\n",
       "\n",
       "    .dataframe thead th {\n",
       "        text-align: right;\n",
       "    }\n",
       "</style>\n",
       "<table border=\"1\" class=\"dataframe\">\n",
       "  <thead>\n",
       "    <tr style=\"text-align: right;\">\n",
       "      <th></th>\n",
       "      <th>num_date_time</th>\n",
       "      <th>answer</th>\n",
       "    </tr>\n",
       "  </thead>\n",
       "  <tbody>\n",
       "    <tr>\n",
       "      <th>0</th>\n",
       "      <td>1_20220825 00</td>\n",
       "      <td>0</td>\n",
       "    </tr>\n",
       "    <tr>\n",
       "      <th>1</th>\n",
       "      <td>1_20220825 01</td>\n",
       "      <td>0</td>\n",
       "    </tr>\n",
       "    <tr>\n",
       "      <th>2</th>\n",
       "      <td>1_20220825 02</td>\n",
       "      <td>0</td>\n",
       "    </tr>\n",
       "    <tr>\n",
       "      <th>3</th>\n",
       "      <td>1_20220825 03</td>\n",
       "      <td>0</td>\n",
       "    </tr>\n",
       "    <tr>\n",
       "      <th>4</th>\n",
       "      <td>1_20220825 04</td>\n",
       "      <td>0</td>\n",
       "    </tr>\n",
       "    <tr>\n",
       "      <th>...</th>\n",
       "      <td>...</td>\n",
       "      <td>...</td>\n",
       "    </tr>\n",
       "    <tr>\n",
       "      <th>16795</th>\n",
       "      <td>100_20220831 19</td>\n",
       "      <td>0</td>\n",
       "    </tr>\n",
       "    <tr>\n",
       "      <th>16796</th>\n",
       "      <td>100_20220831 20</td>\n",
       "      <td>0</td>\n",
       "    </tr>\n",
       "    <tr>\n",
       "      <th>16797</th>\n",
       "      <td>100_20220831 21</td>\n",
       "      <td>0</td>\n",
       "    </tr>\n",
       "    <tr>\n",
       "      <th>16798</th>\n",
       "      <td>100_20220831 22</td>\n",
       "      <td>0</td>\n",
       "    </tr>\n",
       "    <tr>\n",
       "      <th>16799</th>\n",
       "      <td>100_20220831 23</td>\n",
       "      <td>0</td>\n",
       "    </tr>\n",
       "  </tbody>\n",
       "</table>\n",
       "<p>16800 rows × 2 columns</p>\n",
       "</div>"
      ],
      "text/plain": [
       "         num_date_time  answer\n",
       "0        1_20220825 00       0\n",
       "1        1_20220825 01       0\n",
       "2        1_20220825 02       0\n",
       "3        1_20220825 03       0\n",
       "4        1_20220825 04       0\n",
       "...                ...     ...\n",
       "16795  100_20220831 19       0\n",
       "16796  100_20220831 20       0\n",
       "16797  100_20220831 21       0\n",
       "16798  100_20220831 22       0\n",
       "16799  100_20220831 23       0\n",
       "\n",
       "[16800 rows x 2 columns]"
      ]
     },
     "execution_count": 67,
     "metadata": {},
     "output_type": "execute_result"
    }
   ],
   "source": [
    "submission = pd.read_csv('../data/sample_submission.csv')\n",
    "submission"
   ]
  },
  {
   "cell_type": "code",
   "execution_count": 68,
   "id": "a4bfa9ac",
   "metadata": {},
   "outputs": [
    {
     "data": {
      "text/html": [
       "<div>\n",
       "<style scoped>\n",
       "    .dataframe tbody tr th:only-of-type {\n",
       "        vertical-align: middle;\n",
       "    }\n",
       "\n",
       "    .dataframe tbody tr th {\n",
       "        vertical-align: top;\n",
       "    }\n",
       "\n",
       "    .dataframe thead th {\n",
       "        text-align: right;\n",
       "    }\n",
       "</style>\n",
       "<table border=\"1\" class=\"dataframe\">\n",
       "  <thead>\n",
       "    <tr style=\"text-align: right;\">\n",
       "      <th></th>\n",
       "      <th>num_date_time</th>\n",
       "      <th>answer</th>\n",
       "    </tr>\n",
       "  </thead>\n",
       "  <tbody>\n",
       "    <tr>\n",
       "      <th>0</th>\n",
       "      <td>1_20220825 00</td>\n",
       "      <td>2277.779088</td>\n",
       "    </tr>\n",
       "    <tr>\n",
       "      <th>1</th>\n",
       "      <td>1_20220825 01</td>\n",
       "      <td>2129.518909</td>\n",
       "    </tr>\n",
       "    <tr>\n",
       "      <th>2</th>\n",
       "      <td>1_20220825 02</td>\n",
       "      <td>2094.568663</td>\n",
       "    </tr>\n",
       "    <tr>\n",
       "      <th>3</th>\n",
       "      <td>1_20220825 03</td>\n",
       "      <td>1936.096423</td>\n",
       "    </tr>\n",
       "    <tr>\n",
       "      <th>4</th>\n",
       "      <td>1_20220825 04</td>\n",
       "      <td>1935.976379</td>\n",
       "    </tr>\n",
       "    <tr>\n",
       "      <th>...</th>\n",
       "      <td>...</td>\n",
       "      <td>...</td>\n",
       "    </tr>\n",
       "    <tr>\n",
       "      <th>16795</th>\n",
       "      <td>100_20220831 19</td>\n",
       "      <td>892.203778</td>\n",
       "    </tr>\n",
       "    <tr>\n",
       "      <th>16796</th>\n",
       "      <td>100_20220831 20</td>\n",
       "      <td>786.494305</td>\n",
       "    </tr>\n",
       "    <tr>\n",
       "      <th>16797</th>\n",
       "      <td>100_20220831 21</td>\n",
       "      <td>700.185735</td>\n",
       "    </tr>\n",
       "    <tr>\n",
       "      <th>16798</th>\n",
       "      <td>100_20220831 22</td>\n",
       "      <td>608.916946</td>\n",
       "    </tr>\n",
       "    <tr>\n",
       "      <th>16799</th>\n",
       "      <td>100_20220831 23</td>\n",
       "      <td>522.053356</td>\n",
       "    </tr>\n",
       "  </tbody>\n",
       "</table>\n",
       "<p>16800 rows × 2 columns</p>\n",
       "</div>"
      ],
      "text/plain": [
       "         num_date_time       answer\n",
       "0        1_20220825 00  2277.779088\n",
       "1        1_20220825 01  2129.518909\n",
       "2        1_20220825 02  2094.568663\n",
       "3        1_20220825 03  1936.096423\n",
       "4        1_20220825 04  1935.976379\n",
       "...                ...          ...\n",
       "16795  100_20220831 19   892.203778\n",
       "16796  100_20220831 20   786.494305\n",
       "16797  100_20220831 21   700.185735\n",
       "16798  100_20220831 22   608.916946\n",
       "16799  100_20220831 23   522.053356\n",
       "\n",
       "[16800 rows x 2 columns]"
      ]
     },
     "execution_count": 68,
     "metadata": {},
     "output_type": "execute_result"
    }
   ],
   "source": [
    "submission['answer'] = preds**(1/boxcox)\n",
    "submission"
   ]
  },
  {
   "cell_type": "code",
   "execution_count": 69,
   "id": "830d6036",
   "metadata": {},
   "outputs": [],
   "source": [
    "submission.to_csv('../data/AutoML_OneHot_0.21_imputate_2value_sunbattery_NA0.csv', index=False)"
   ]
  }
 ],
 "metadata": {
  "accelerator": "GPU",
  "colab": {
   "provenance": []
  },
  "gpuClass": "standard",
  "kernelspec": {
   "display_name": "please",
   "language": "python",
   "name": "please"
  },
  "language_info": {
   "codemirror_mode": {
    "name": "ipython",
    "version": 3
   },
   "file_extension": ".py",
   "mimetype": "text/x-python",
   "name": "python",
   "nbconvert_exporter": "python",
   "pygments_lexer": "ipython3",
   "version": "3.7.13"
  },
  "toc": {
   "base_numbering": 1,
   "nav_menu": {},
   "number_sections": true,
   "sideBar": true,
   "skip_h1_title": false,
   "title_cell": "Table of Contents",
   "title_sidebar": "Contents",
   "toc_cell": false,
   "toc_position": {},
   "toc_section_display": true,
   "toc_window_display": false
  },
  "widgets": {
   "application/vnd.jupyter.widget-state+json": {
    "09436c3ae2a44a8ca51ee1103b963ada": {
     "model_module": "@jupyter-widgets/base",
     "model_module_version": "1.2.0",
     "model_name": "LayoutModel",
     "state": {
      "_model_module": "@jupyter-widgets/base",
      "_model_module_version": "1.2.0",
      "_model_name": "LayoutModel",
      "_view_count": null,
      "_view_module": "@jupyter-widgets/base",
      "_view_module_version": "1.2.0",
      "_view_name": "LayoutView",
      "align_content": null,
      "align_items": null,
      "align_self": null,
      "border": null,
      "bottom": null,
      "display": null,
      "flex": null,
      "flex_flow": null,
      "grid_area": null,
      "grid_auto_columns": null,
      "grid_auto_flow": null,
      "grid_auto_rows": null,
      "grid_column": null,
      "grid_gap": null,
      "grid_row": null,
      "grid_template_areas": null,
      "grid_template_columns": null,
      "grid_template_rows": null,
      "height": null,
      "justify_content": null,
      "justify_items": null,
      "left": null,
      "margin": null,
      "max_height": null,
      "max_width": null,
      "min_height": null,
      "min_width": null,
      "object_fit": null,
      "object_position": null,
      "order": null,
      "overflow": null,
      "overflow_x": null,
      "overflow_y": null,
      "padding": null,
      "right": null,
      "top": null,
      "visibility": null,
      "width": null
     }
    },
    "29d20f64d430441ea9364b13dfef101b": {
     "model_module": "@jupyter-widgets/base",
     "model_module_version": "1.2.0",
     "model_name": "LayoutModel",
     "state": {
      "_model_module": "@jupyter-widgets/base",
      "_model_module_version": "1.2.0",
      "_model_name": "LayoutModel",
      "_view_count": null,
      "_view_module": "@jupyter-widgets/base",
      "_view_module_version": "1.2.0",
      "_view_name": "LayoutView",
      "align_content": null,
      "align_items": null,
      "align_self": null,
      "border": null,
      "bottom": null,
      "display": null,
      "flex": null,
      "flex_flow": null,
      "grid_area": null,
      "grid_auto_columns": null,
      "grid_auto_flow": null,
      "grid_auto_rows": null,
      "grid_column": null,
      "grid_gap": null,
      "grid_row": null,
      "grid_template_areas": null,
      "grid_template_columns": null,
      "grid_template_rows": null,
      "height": null,
      "justify_content": null,
      "justify_items": null,
      "left": null,
      "margin": null,
      "max_height": null,
      "max_width": null,
      "min_height": null,
      "min_width": null,
      "object_fit": null,
      "object_position": null,
      "order": null,
      "overflow": null,
      "overflow_x": null,
      "overflow_y": null,
      "padding": null,
      "right": null,
      "top": null,
      "visibility": null,
      "width": null
     }
    },
    "4a9ef407319c43bcb20106c47f0db180": {
     "model_module": "@jupyter-widgets/controls",
     "model_module_version": "1.5.0",
     "model_name": "HTMLModel",
     "state": {
      "_dom_classes": [],
      "_model_module": "@jupyter-widgets/controls",
      "_model_module_version": "1.5.0",
      "_model_name": "HTMLModel",
      "_view_count": null,
      "_view_module": "@jupyter-widgets/controls",
      "_view_module_version": "1.5.0",
      "_view_name": "HTMLView",
      "description": "",
      "description_tooltip": null,
      "layout": "IPY_MODEL_09436c3ae2a44a8ca51ee1103b963ada",
      "placeholder": "​",
      "style": "IPY_MODEL_f6d802990a2344db99bf282c663efa5a",
      "value": "100%"
     }
    },
    "4c356887768a4330ab0b0eec28984484": {
     "model_module": "@jupyter-widgets/controls",
     "model_module_version": "1.5.0",
     "model_name": "DescriptionStyleModel",
     "state": {
      "_model_module": "@jupyter-widgets/controls",
      "_model_module_version": "1.5.0",
      "_model_name": "DescriptionStyleModel",
      "_view_count": null,
      "_view_module": "@jupyter-widgets/base",
      "_view_module_version": "1.2.0",
      "_view_name": "StyleView",
      "description_width": ""
     }
    },
    "520b45d5f972463da632a32f96c71ee4": {
     "model_module": "@jupyter-widgets/controls",
     "model_module_version": "1.5.0",
     "model_name": "HTMLModel",
     "state": {
      "_dom_classes": [],
      "_model_module": "@jupyter-widgets/controls",
      "_model_module_version": "1.5.0",
      "_model_name": "HTMLModel",
      "_view_count": null,
      "_view_module": "@jupyter-widgets/controls",
      "_view_module_version": "1.5.0",
      "_view_name": "HTMLView",
      "description": "",
      "description_tooltip": null,
      "layout": "IPY_MODEL_29d20f64d430441ea9364b13dfef101b",
      "placeholder": "​",
      "style": "IPY_MODEL_e7d3b9b9d1224868988e665b4c677357",
      "value": " 1881/1881 [00:24&lt;00:00, 97.61it/s]"
     }
    },
    "53ccb4062ee94e0c84618143ff39ce05": {
     "model_module": "@jupyter-widgets/base",
     "model_module_version": "1.2.0",
     "model_name": "LayoutModel",
     "state": {
      "_model_module": "@jupyter-widgets/base",
      "_model_module_version": "1.2.0",
      "_model_name": "LayoutModel",
      "_view_count": null,
      "_view_module": "@jupyter-widgets/base",
      "_view_module_version": "1.2.0",
      "_view_name": "LayoutView",
      "align_content": null,
      "align_items": null,
      "align_self": null,
      "border": null,
      "bottom": null,
      "display": null,
      "flex": null,
      "flex_flow": null,
      "grid_area": null,
      "grid_auto_columns": null,
      "grid_auto_flow": null,
      "grid_auto_rows": null,
      "grid_column": null,
      "grid_gap": null,
      "grid_row": null,
      "grid_template_areas": null,
      "grid_template_columns": null,
      "grid_template_rows": null,
      "height": null,
      "justify_content": null,
      "justify_items": null,
      "left": null,
      "margin": null,
      "max_height": null,
      "max_width": null,
      "min_height": null,
      "min_width": null,
      "object_fit": null,
      "object_position": null,
      "order": null,
      "overflow": null,
      "overflow_x": null,
      "overflow_y": null,
      "padding": null,
      "right": null,
      "top": null,
      "visibility": null,
      "width": null
     }
    },
    "55e857853048445b87cea2de151ba035": {
     "model_module": "@jupyter-widgets/base",
     "model_module_version": "1.2.0",
     "model_name": "LayoutModel",
     "state": {
      "_model_module": "@jupyter-widgets/base",
      "_model_module_version": "1.2.0",
      "_model_name": "LayoutModel",
      "_view_count": null,
      "_view_module": "@jupyter-widgets/base",
      "_view_module_version": "1.2.0",
      "_view_name": "LayoutView",
      "align_content": null,
      "align_items": null,
      "align_self": null,
      "border": null,
      "bottom": null,
      "display": null,
      "flex": null,
      "flex_flow": null,
      "grid_area": null,
      "grid_auto_columns": null,
      "grid_auto_flow": null,
      "grid_auto_rows": null,
      "grid_column": null,
      "grid_gap": null,
      "grid_row": null,
      "grid_template_areas": null,
      "grid_template_columns": null,
      "grid_template_rows": null,
      "height": null,
      "justify_content": null,
      "justify_items": null,
      "left": null,
      "margin": null,
      "max_height": null,
      "max_width": null,
      "min_height": null,
      "min_width": null,
      "object_fit": null,
      "object_position": null,
      "order": null,
      "overflow": null,
      "overflow_x": null,
      "overflow_y": null,
      "padding": null,
      "right": null,
      "top": null,
      "visibility": null,
      "width": null
     }
    },
    "790f3379b0364c88ae6bdec739b97248": {
     "model_module": "@jupyter-widgets/base",
     "model_module_version": "1.2.0",
     "model_name": "LayoutModel",
     "state": {
      "_model_module": "@jupyter-widgets/base",
      "_model_module_version": "1.2.0",
      "_model_name": "LayoutModel",
      "_view_count": null,
      "_view_module": "@jupyter-widgets/base",
      "_view_module_version": "1.2.0",
      "_view_name": "LayoutView",
      "align_content": null,
      "align_items": null,
      "align_self": null,
      "border": null,
      "bottom": null,
      "display": null,
      "flex": null,
      "flex_flow": null,
      "grid_area": null,
      "grid_auto_columns": null,
      "grid_auto_flow": null,
      "grid_auto_rows": null,
      "grid_column": null,
      "grid_gap": null,
      "grid_row": null,
      "grid_template_areas": null,
      "grid_template_columns": null,
      "grid_template_rows": null,
      "height": null,
      "justify_content": null,
      "justify_items": null,
      "left": null,
      "margin": null,
      "max_height": null,
      "max_width": null,
      "min_height": null,
      "min_width": null,
      "object_fit": null,
      "object_position": null,
      "order": null,
      "overflow": null,
      "overflow_x": null,
      "overflow_y": null,
      "padding": null,
      "right": null,
      "top": null,
      "visibility": null,
      "width": null
     }
    },
    "7a0c9eaf1d1e4a56a195dff77a7ed5f9": {
     "model_module": "@jupyter-widgets/controls",
     "model_module_version": "1.5.0",
     "model_name": "FloatProgressModel",
     "state": {
      "_dom_classes": [],
      "_model_module": "@jupyter-widgets/controls",
      "_model_module_version": "1.5.0",
      "_model_name": "FloatProgressModel",
      "_view_count": null,
      "_view_module": "@jupyter-widgets/controls",
      "_view_module_version": "1.5.0",
      "_view_name": "ProgressView",
      "bar_style": "success",
      "description": "",
      "description_tooltip": null,
      "layout": "IPY_MODEL_bb35a24296ed455a872731cef7333ffb",
      "max": 5001,
      "min": 0,
      "orientation": "horizontal",
      "style": "IPY_MODEL_dc7da92e2f454f79b07c3ca86c3cc9d4",
      "value": 5001
     }
    },
    "911d4b1f888540eb96b8b6a48134f078": {
     "model_module": "@jupyter-widgets/base",
     "model_module_version": "1.2.0",
     "model_name": "LayoutModel",
     "state": {
      "_model_module": "@jupyter-widgets/base",
      "_model_module_version": "1.2.0",
      "_model_name": "LayoutModel",
      "_view_count": null,
      "_view_module": "@jupyter-widgets/base",
      "_view_module_version": "1.2.0",
      "_view_name": "LayoutView",
      "align_content": null,
      "align_items": null,
      "align_self": null,
      "border": null,
      "bottom": null,
      "display": null,
      "flex": null,
      "flex_flow": null,
      "grid_area": null,
      "grid_auto_columns": null,
      "grid_auto_flow": null,
      "grid_auto_rows": null,
      "grid_column": null,
      "grid_gap": null,
      "grid_row": null,
      "grid_template_areas": null,
      "grid_template_columns": null,
      "grid_template_rows": null,
      "height": null,
      "justify_content": null,
      "justify_items": null,
      "left": null,
      "margin": null,
      "max_height": null,
      "max_width": null,
      "min_height": null,
      "min_width": null,
      "object_fit": null,
      "object_position": null,
      "order": null,
      "overflow": null,
      "overflow_x": null,
      "overflow_y": null,
      "padding": null,
      "right": null,
      "top": null,
      "visibility": null,
      "width": null
     }
    },
    "918b0c55f55f4b799fb41adb002c5f1f": {
     "model_module": "@jupyter-widgets/controls",
     "model_module_version": "1.5.0",
     "model_name": "HBoxModel",
     "state": {
      "_dom_classes": [],
      "_model_module": "@jupyter-widgets/controls",
      "_model_module_version": "1.5.0",
      "_model_name": "HBoxModel",
      "_view_count": null,
      "_view_module": "@jupyter-widgets/controls",
      "_view_module_version": "1.5.0",
      "_view_name": "HBoxView",
      "box_style": "",
      "children": [
       "IPY_MODEL_9a823940919d4e068c01e31276740b0f",
       "IPY_MODEL_9fe2d03a06474596b0547d0410da8064",
       "IPY_MODEL_520b45d5f972463da632a32f96c71ee4"
      ],
      "layout": "IPY_MODEL_911d4b1f888540eb96b8b6a48134f078"
     }
    },
    "9a823940919d4e068c01e31276740b0f": {
     "model_module": "@jupyter-widgets/controls",
     "model_module_version": "1.5.0",
     "model_name": "HTMLModel",
     "state": {
      "_dom_classes": [],
      "_model_module": "@jupyter-widgets/controls",
      "_model_module_version": "1.5.0",
      "_model_name": "HTMLModel",
      "_view_count": null,
      "_view_module": "@jupyter-widgets/controls",
      "_view_module_version": "1.5.0",
      "_view_name": "HTMLView",
      "description": "",
      "description_tooltip": null,
      "layout": "IPY_MODEL_53ccb4062ee94e0c84618143ff39ce05",
      "placeholder": "​",
      "style": "IPY_MODEL_df5b9e6414d449f0961eecec22b16991",
      "value": "100%"
     }
    },
    "9fe2d03a06474596b0547d0410da8064": {
     "model_module": "@jupyter-widgets/controls",
     "model_module_version": "1.5.0",
     "model_name": "FloatProgressModel",
     "state": {
      "_dom_classes": [],
      "_model_module": "@jupyter-widgets/controls",
      "_model_module_version": "1.5.0",
      "_model_name": "FloatProgressModel",
      "_view_count": null,
      "_view_module": "@jupyter-widgets/controls",
      "_view_module_version": "1.5.0",
      "_view_name": "ProgressView",
      "bar_style": "success",
      "description": "",
      "description_tooltip": null,
      "layout": "IPY_MODEL_790f3379b0364c88ae6bdec739b97248",
      "max": 1881,
      "min": 0,
      "orientation": "horizontal",
      "style": "IPY_MODEL_e5a69cc464fe42f6be81a34ed57b1686",
      "value": 1881
     }
    },
    "a194d82dd952480387bf1f599a8e52e5": {
     "model_module": "@jupyter-widgets/base",
     "model_module_version": "1.2.0",
     "model_name": "LayoutModel",
     "state": {
      "_model_module": "@jupyter-widgets/base",
      "_model_module_version": "1.2.0",
      "_model_name": "LayoutModel",
      "_view_count": null,
      "_view_module": "@jupyter-widgets/base",
      "_view_module_version": "1.2.0",
      "_view_name": "LayoutView",
      "align_content": null,
      "align_items": null,
      "align_self": null,
      "border": null,
      "bottom": null,
      "display": null,
      "flex": null,
      "flex_flow": null,
      "grid_area": null,
      "grid_auto_columns": null,
      "grid_auto_flow": null,
      "grid_auto_rows": null,
      "grid_column": null,
      "grid_gap": null,
      "grid_row": null,
      "grid_template_areas": null,
      "grid_template_columns": null,
      "grid_template_rows": null,
      "height": null,
      "justify_content": null,
      "justify_items": null,
      "left": null,
      "margin": null,
      "max_height": null,
      "max_width": null,
      "min_height": null,
      "min_width": null,
      "object_fit": null,
      "object_position": null,
      "order": null,
      "overflow": null,
      "overflow_x": null,
      "overflow_y": null,
      "padding": null,
      "right": null,
      "top": null,
      "visibility": null,
      "width": null
     }
    },
    "bb35a24296ed455a872731cef7333ffb": {
     "model_module": "@jupyter-widgets/base",
     "model_module_version": "1.2.0",
     "model_name": "LayoutModel",
     "state": {
      "_model_module": "@jupyter-widgets/base",
      "_model_module_version": "1.2.0",
      "_model_name": "LayoutModel",
      "_view_count": null,
      "_view_module": "@jupyter-widgets/base",
      "_view_module_version": "1.2.0",
      "_view_name": "LayoutView",
      "align_content": null,
      "align_items": null,
      "align_self": null,
      "border": null,
      "bottom": null,
      "display": null,
      "flex": null,
      "flex_flow": null,
      "grid_area": null,
      "grid_auto_columns": null,
      "grid_auto_flow": null,
      "grid_auto_rows": null,
      "grid_column": null,
      "grid_gap": null,
      "grid_row": null,
      "grid_template_areas": null,
      "grid_template_columns": null,
      "grid_template_rows": null,
      "height": null,
      "justify_content": null,
      "justify_items": null,
      "left": null,
      "margin": null,
      "max_height": null,
      "max_width": null,
      "min_height": null,
      "min_width": null,
      "object_fit": null,
      "object_position": null,
      "order": null,
      "overflow": null,
      "overflow_x": null,
      "overflow_y": null,
      "padding": null,
      "right": null,
      "top": null,
      "visibility": null,
      "width": null
     }
    },
    "d5a7c1d85e63402ebd0c36cb6883ab33": {
     "model_module": "@jupyter-widgets/controls",
     "model_module_version": "1.5.0",
     "model_name": "HTMLModel",
     "state": {
      "_dom_classes": [],
      "_model_module": "@jupyter-widgets/controls",
      "_model_module_version": "1.5.0",
      "_model_name": "HTMLModel",
      "_view_count": null,
      "_view_module": "@jupyter-widgets/controls",
      "_view_module_version": "1.5.0",
      "_view_name": "HTMLView",
      "description": "",
      "description_tooltip": null,
      "layout": "IPY_MODEL_a194d82dd952480387bf1f599a8e52e5",
      "placeholder": "​",
      "style": "IPY_MODEL_4c356887768a4330ab0b0eec28984484",
      "value": " 5001/5001 [01:11&lt;00:00, 106.18it/s]"
     }
    },
    "dc7da92e2f454f79b07c3ca86c3cc9d4": {
     "model_module": "@jupyter-widgets/controls",
     "model_module_version": "1.5.0",
     "model_name": "ProgressStyleModel",
     "state": {
      "_model_module": "@jupyter-widgets/controls",
      "_model_module_version": "1.5.0",
      "_model_name": "ProgressStyleModel",
      "_view_count": null,
      "_view_module": "@jupyter-widgets/base",
      "_view_module_version": "1.2.0",
      "_view_name": "StyleView",
      "bar_color": null,
      "description_width": ""
     }
    },
    "df5b9e6414d449f0961eecec22b16991": {
     "model_module": "@jupyter-widgets/controls",
     "model_module_version": "1.5.0",
     "model_name": "DescriptionStyleModel",
     "state": {
      "_model_module": "@jupyter-widgets/controls",
      "_model_module_version": "1.5.0",
      "_model_name": "DescriptionStyleModel",
      "_view_count": null,
      "_view_module": "@jupyter-widgets/base",
      "_view_module_version": "1.2.0",
      "_view_name": "StyleView",
      "description_width": ""
     }
    },
    "e5a69cc464fe42f6be81a34ed57b1686": {
     "model_module": "@jupyter-widgets/controls",
     "model_module_version": "1.5.0",
     "model_name": "ProgressStyleModel",
     "state": {
      "_model_module": "@jupyter-widgets/controls",
      "_model_module_version": "1.5.0",
      "_model_name": "ProgressStyleModel",
      "_view_count": null,
      "_view_module": "@jupyter-widgets/base",
      "_view_module_version": "1.2.0",
      "_view_name": "StyleView",
      "bar_color": null,
      "description_width": ""
     }
    },
    "e7d3b9b9d1224868988e665b4c677357": {
     "model_module": "@jupyter-widgets/controls",
     "model_module_version": "1.5.0",
     "model_name": "DescriptionStyleModel",
     "state": {
      "_model_module": "@jupyter-widgets/controls",
      "_model_module_version": "1.5.0",
      "_model_name": "DescriptionStyleModel",
      "_view_count": null,
      "_view_module": "@jupyter-widgets/base",
      "_view_module_version": "1.2.0",
      "_view_name": "StyleView",
      "description_width": ""
     }
    },
    "f6d802990a2344db99bf282c663efa5a": {
     "model_module": "@jupyter-widgets/controls",
     "model_module_version": "1.5.0",
     "model_name": "DescriptionStyleModel",
     "state": {
      "_model_module": "@jupyter-widgets/controls",
      "_model_module_version": "1.5.0",
      "_model_name": "DescriptionStyleModel",
      "_view_count": null,
      "_view_module": "@jupyter-widgets/base",
      "_view_module_version": "1.2.0",
      "_view_name": "StyleView",
      "description_width": ""
     }
    },
    "fca0079f6a714ac7885e1474711d7913": {
     "model_module": "@jupyter-widgets/controls",
     "model_module_version": "1.5.0",
     "model_name": "HBoxModel",
     "state": {
      "_dom_classes": [],
      "_model_module": "@jupyter-widgets/controls",
      "_model_module_version": "1.5.0",
      "_model_name": "HBoxModel",
      "_view_count": null,
      "_view_module": "@jupyter-widgets/controls",
      "_view_module_version": "1.5.0",
      "_view_name": "HBoxView",
      "box_style": "",
      "children": [
       "IPY_MODEL_4a9ef407319c43bcb20106c47f0db180",
       "IPY_MODEL_7a0c9eaf1d1e4a56a195dff77a7ed5f9",
       "IPY_MODEL_d5a7c1d85e63402ebd0c36cb6883ab33"
      ],
      "layout": "IPY_MODEL_55e857853048445b87cea2de151ba035"
     }
    }
   }
  }
 },
 "nbformat": 4,
 "nbformat_minor": 5
}
