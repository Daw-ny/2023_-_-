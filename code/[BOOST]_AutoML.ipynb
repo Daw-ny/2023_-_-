{
 "cells": [
  {
   "cell_type": "markdown",
   "id": "k7eulrgaQwYy",
   "metadata": {
    "id": "k7eulrgaQwYy"
   },
   "source": [
    "## Import"
   ]
  },
  {
   "cell_type": "code",
   "execution_count": 1,
   "id": "rBvX-8P2QwYy",
   "metadata": {
    "ExecuteTime": {
     "end_time": "2022-07-11T08:41:57.003103Z",
     "start_time": "2022-07-11T08:41:53.892893Z"
    },
    "executionInfo": {
     "elapsed": 2132,
     "status": "ok",
     "timestamp": 1683473184964,
     "user": {
      "displayName": "이승윤",
      "userId": "17995305622900705411"
     },
     "user_tz": -540
    },
    "id": "rBvX-8P2QwYy"
   },
   "outputs": [],
   "source": [
    "# preprocessing\n",
    "import numpy as np\n",
    "import pandas as pd\n",
    "import tqdm\n",
    "import random\n",
    "import os\n",
    "import numba\n",
    "\n",
    "# lableEncoder\n",
    "from sklearn.preprocessing import LabelEncoder\n",
    "from sklearn.preprocessing import StandardScaler\n",
    "\n",
    "# 경고 무시\n",
    "import warnings\n",
    "warnings.filterwarnings('ignore')\n",
    "\n",
    "# model learning\n",
    "from sklearn.model_selection import train_test_split\n",
    "from supervised.automl import AutoML\n",
    "from sklearn.utils.class_weight import compute_sample_weight\n",
    "import statsmodels.api as sm\n",
    "\n",
    "# 평가 지표\n",
    "from sklearn.metrics import mean_absolute_error\n",
    "\n",
    "# 모델 저장\n",
    "import pickle"
   ]
  },
  {
   "cell_type": "markdown",
   "id": "QT7_IBn9QwYz",
   "metadata": {
    "id": "QT7_IBn9QwYz"
   },
   "source": [
    "## Fixed Random-Seed"
   ]
  },
  {
   "cell_type": "code",
   "execution_count": 2,
   "id": "KgyHxME7QwYz",
   "metadata": {
    "ExecuteTime": {
     "end_time": "2022-07-11T08:41:57.009050Z",
     "start_time": "2022-07-11T08:41:57.006949Z"
    },
    "executionInfo": {
     "elapsed": 2,
     "status": "ok",
     "timestamp": 1683473189486,
     "user": {
      "displayName": "이승윤",
      "userId": "17995305622900705411"
     },
     "user_tz": -540
    },
    "id": "KgyHxME7QwYz"
   },
   "outputs": [],
   "source": [
    "def seed_everything(seed):\n",
    "    random.seed(seed)\n",
    "    os.environ['PYTHONHASHSEED'] = str(seed)\n",
    "    np.random.seed(seed)\n",
    "\n",
    "seed_everything(42) # Seed 고정"
   ]
  },
  {
   "cell_type": "markdown",
   "id": "a0b96368",
   "metadata": {},
   "source": [
    "## Load Data"
   ]
  },
  {
   "cell_type": "code",
   "execution_count": 3,
   "id": "3979c375",
   "metadata": {},
   "outputs": [],
   "source": [
    "train_df = pd.read_csv('../data/train.csv')\n",
    "test_df = pd.read_csv('../data/test.csv')\n",
    "building_info = pd.read_csv('../data/building_info.csv')"
   ]
  },
  {
   "cell_type": "markdown",
   "id": "afc314de",
   "metadata": {},
   "source": [
    "## Change Names"
   ]
  },
  {
   "cell_type": "code",
   "execution_count": 4,
   "id": "78d84d29",
   "metadata": {},
   "outputs": [],
   "source": [
    "#translation_dict = {\n",
    "#    '건물기타': 'Other Buildings',\n",
    "#    '공공': 'Public',\n",
    "#    '대학교': 'University',\n",
    "#    '데이터센터': 'Data Center',\n",
    "#    '백화점및아울렛': 'Department Store and Outlet',\n",
    "#    '병원': 'Hospital',\n",
    "#    '상용': 'Commercial',\n",
    "#    '아파트': 'Apartment',\n",
    "#    '연구소': 'Research Institute',\n",
    "#    '지식산업센터': 'Knowledge Industry Center',\n",
    "#    '할인마트': 'Discount Mart',\n",
    "#    '호텔및리조트': 'Hotel and Resort'\n",
    "#}\n",
    "\n",
    "#building_info['건물유형'] = building_info['건물유형'].replace(translation_dict)\n",
    "# building_info.drop('Unnamed: 0', axis = 1 , inplace=True)"
   ]
  },
  {
   "cell_type": "code",
   "execution_count": 5,
   "id": "9a30922f",
   "metadata": {},
   "outputs": [],
   "source": [
    "train_df.columns = ['num_date_time', '건물번호', '일시', '기온', '강수량', '풍속', '습도',\n",
    "       '일조', '일사', '전력소비량']"
   ]
  },
  {
   "cell_type": "code",
   "execution_count": 6,
   "id": "c87464ae",
   "metadata": {},
   "outputs": [],
   "source": [
    "test_df.columns = ['num_date_time', '건물번호', '일시', '기온', '강수량', '풍속', '습도']"
   ]
  },
  {
   "cell_type": "code",
   "execution_count": 7,
   "id": "8d282c6a",
   "metadata": {},
   "outputs": [],
   "source": [
    "building_info.columns = ['건물번호', '건물유형', '연면적', '냉방면적', '태양광용량', 'ESS저장용량',\n",
    "       'PCS용량']"
   ]
  },
  {
   "cell_type": "markdown",
   "id": "d97e1337",
   "metadata": {},
   "source": [
    "## Encoding"
   ]
  },
  {
   "cell_type": "code",
   "execution_count": 8,
   "id": "51a7a3b8",
   "metadata": {},
   "outputs": [],
   "source": [
    "# one hot encoding 생성\n",
    "#building_info = pd.get_dummies(building_info, columns=['건물유형'], drop_first=True)"
   ]
  },
  {
   "cell_type": "code",
   "execution_count": 9,
   "id": "26609bb4",
   "metadata": {},
   "outputs": [],
   "source": [
    "# LabelEncoder를 객체로 생성\n",
    "#encoder = LabelEncoder()\n",
    "\n",
    "# fit, transform 메소드를 통한 레이블 인코딩\n",
    "#encoder.fit(building_info['건물유형'])\n",
    "#building_info['건물유형'] = encoder.transform(building_info['건물유형'])"
   ]
  },
  {
   "cell_type": "markdown",
   "id": "5ae00c02",
   "metadata": {},
   "source": [
    "## Merge building info"
   ]
  },
  {
   "cell_type": "code",
   "execution_count": 10,
   "id": "d67ef797",
   "metadata": {},
   "outputs": [],
   "source": [
    "#building_info['태양광용량'][building_info['태양광용량'] == '-'] = np.nan\n",
    "#building_info['ESS저장용량'][building_info['ESS저장용량'] == '-'] = np.nan\n",
    "#building_info['PCS용량'][building_info['PCS용량'] == '-'] = np.nan"
   ]
  },
  {
   "cell_type": "code",
   "execution_count": 11,
   "id": "7e552a26",
   "metadata": {},
   "outputs": [],
   "source": [
    "# 태양광 사용하는지 마는지 여부\n",
    "#building_info['태양광사용여부'] = 0"
   ]
  },
  {
   "cell_type": "code",
   "execution_count": 12,
   "id": "6bb13423",
   "metadata": {},
   "outputs": [],
   "source": [
    "#building_info['태양광사용여부'][(building_info['태양광용량'].notnull()) | (building_info['ESS저장용량'].notnull()) | (building_info['PCS용량'].notnull())] = 1"
   ]
  },
  {
   "cell_type": "code",
   "execution_count": 13,
   "id": "56c0c425",
   "metadata": {},
   "outputs": [],
   "source": [
    "train_df = pd.merge(train_df, building_info, on='건물번호', how='left')\n",
    "test_df = pd.merge(test_df, building_info, on='건물번호', how='left')"
   ]
  },
  {
   "cell_type": "markdown",
   "id": "r-3_zmrwQwYz",
   "metadata": {
    "id": "r-3_zmrwQwYz"
   },
   "source": [
    "## Train Data Pre-Processing"
   ]
  },
  {
   "cell_type": "code",
   "execution_count": 14,
   "id": "c358c077",
   "metadata": {
    "scrolled": false
   },
   "outputs": [
    {
     "data": {
      "text/plain": [
       "num_date_time         0\n",
       "건물번호                  0\n",
       "일시                    0\n",
       "기온                    0\n",
       "강수량              160069\n",
       "풍속                   19\n",
       "습도                    9\n",
       "일조                75182\n",
       "일사                87913\n",
       "전력소비량                 0\n",
       "건물유형                  0\n",
       "연면적                   0\n",
       "냉방면적                  0\n",
       "태양광용량                 0\n",
       "ESS저장용량               0\n",
       "PCS용량                 0\n",
       "dtype: int64"
      ]
     },
     "execution_count": 14,
     "metadata": {},
     "output_type": "execute_result"
    }
   ],
   "source": [
    "train_df.isna().sum()"
   ]
  },
  {
   "cell_type": "markdown",
   "id": "72dcd233",
   "metadata": {},
   "source": [
    "- 결측치가 시급하다. 아무리봐도 처리 해야할 것 같다."
   ]
  },
  {
   "cell_type": "code",
   "execution_count": 15,
   "id": "5e6cae2e",
   "metadata": {},
   "outputs": [],
   "source": [
    "#시계열 특성을 학습에 반영하기 위해 일시를 월, 일, 시간으로 나눕니다\n",
    "train_df['월'] = train_df['일시'].apply(lambda x : int(x[4:6]))\n",
    "#train_df['일'] = train_df['일시'].apply(lambda x : int(x[6:8]))\n",
    "train_df['시'] = train_df['일시'].apply(lambda x : int(x[9:11]))"
   ]
  },
  {
   "cell_type": "code",
   "execution_count": 16,
   "id": "10a29c1a",
   "metadata": {},
   "outputs": [],
   "source": [
    "train_df['일시'] = pd.to_datetime(train_df['일시'], format='%Y%m%d %H')"
   ]
  },
  {
   "cell_type": "code",
   "execution_count": 17,
   "id": "5db467cb",
   "metadata": {},
   "outputs": [],
   "source": [
    "# 요일 추가 (0이 월요일 6이 일요일)\n",
    "train_df['주'] = train_df['일시'].dt.dayofweek"
   ]
  },
  {
   "cell_type": "code",
   "execution_count": 18,
   "id": "df13595e",
   "metadata": {},
   "outputs": [],
   "source": [
    "#train_df['일조'][(train_df['일조'].isna()) & ((train_df['시'] <= 5) | (train_df['시'] >= 21))] = 0\n",
    "#train_df['일사'][(train_df['일사'].isna()) & ((train_df['시'] <= 5) | (train_df['시'] >= 21))] = 0"
   ]
  },
  {
   "cell_type": "code",
   "execution_count": 19,
   "id": "af266d18",
   "metadata": {},
   "outputs": [],
   "source": [
    "train_df['풍속'][train_df['풍속'].isna()] = 0\n",
    "train_df['습도'][train_df['습도'].isna()] = 0"
   ]
  },
  {
   "cell_type": "code",
   "execution_count": 20,
   "id": "653a2deb",
   "metadata": {},
   "outputs": [],
   "source": [
    "# imputation for mice\n",
    "#imputer_mice = IterativeImputer(random_state=42)\n",
    "#imputer_mice.fit(train_df[['기온', '풍속', '습도', '일조', '일사']])\n",
    "\n",
    "# 데이터 변환 (array로 반환하기 때문에 필요에 맞는 형태로 변환 후 사용)\n",
    "#train_df[['기온', '풍속', '습도', '일조', '일사']] = pd.DataFrame(imputer_mice.transform(train_df[['기온', '풍속', '습도', '일조', '일사']]),\n",
    "#                         columns=['기온', '풍속', '습도', '일조', '일사'])"
   ]
  },
  {
   "cell_type": "code",
   "execution_count": 21,
   "id": "fa4f1fc9",
   "metadata": {},
   "outputs": [],
   "source": [
    "# 숫자 보정\n",
    "#train_df['일조'][train_df['일조'] < 0] = 0\n",
    "#train_df['일사'][train_df['일사'] < 0] = 0"
   ]
  },
  {
   "cell_type": "code",
   "execution_count": 22,
   "id": "ea73aaba",
   "metadata": {},
   "outputs": [],
   "source": [
    "# 변수 정리\n",
    "train_df2 = train_df.drop(columns=['num_date_time', '일시',\n",
    "                                 '태양광용량','ESS저장용량','PCS용량', '강수량', '일조', '일사', '건물유형'])"
   ]
  },
  {
   "cell_type": "code",
   "execution_count": 23,
   "id": "4f4779c5",
   "metadata": {},
   "outputs": [],
   "source": [
    "# 강수량 결측치는 0으로 보정 -> 비 안왔을것이라 예상하고 진행함\n",
    "# train_df2['강수량(mm)'][train_df2['강수량(mm)'].isna()] = 0"
   ]
  },
  {
   "cell_type": "code",
   "execution_count": 24,
   "id": "77cca1b7",
   "metadata": {},
   "outputs": [],
   "source": [
    "# imputation for mice\n",
    "#imputer_mice = IterativeImputer(random_state=42)\n",
    "#imputer_mice.fit(train_df2)\n",
    "\n",
    "# 데이터 변환 (array로 반환하기 때문에 필요에 맞는 형태로 변환 후 사용)\n",
    "#train_df2 = pd.DataFrame(imputer_mice.transform(train_df2),\n",
    "#                         columns=train_df2.columns)"
   ]
  },
  {
   "cell_type": "code",
   "execution_count": 25,
   "id": "07aac8ed",
   "metadata": {},
   "outputs": [],
   "source": [
    "# 그냥 0으로 채우기\n",
    "#train_df2[train_df2.isna()] = 0"
   ]
  },
  {
   "cell_type": "markdown",
   "id": "7eba5985",
   "metadata": {},
   "source": [
    "## Append Value"
   ]
  },
  {
   "cell_type": "code",
   "execution_count": 26,
   "id": "01db2158",
   "metadata": {},
   "outputs": [],
   "source": [
    "# 온도에 따른 포화 수증기압(mb)\n",
    "#train_df2['포화수증기압'] = 6.11*10**((7.5*train_df2['기온'])/(237.3 + train_df2['기온']))"
   ]
  },
  {
   "cell_type": "code",
   "execution_count": 27,
   "id": "41eba007",
   "metadata": {},
   "outputs": [],
   "source": [
    "# 현재 대기의 수증기압(mb)\n",
    "#train_df2['대기압'] = train_df2['습도'] * train_df2['포화수증기압'] / 100"
   ]
  },
  {
   "cell_type": "code",
   "execution_count": 28,
   "id": "6a84b061",
   "metadata": {},
   "outputs": [],
   "source": [
    "# 절대습도(g/m^3)\n",
    "#train_df2['절대습도'] = (0.794*train_df2['대기압'])/(1+0.00366*train_df2['기온'])"
   ]
  },
  {
   "cell_type": "code",
   "execution_count": 29,
   "id": "8741d129",
   "metadata": {},
   "outputs": [],
   "source": [
    "# 공기중의 혼합비(mb)\n",
    "#train_df2['혼합비'] = 0.622 * train_df2['대기압']/(1013.25 - train_df2['대기압'])"
   ]
  },
  {
   "cell_type": "code",
   "execution_count": 30,
   "id": "b8130d86",
   "metadata": {},
   "outputs": [],
   "source": [
    "# 습구온도\n",
    "#train_df2['습구온도'] = train_df2['기온']*np.arctan(0.151977+(train_df2['습도'] + 8.313659)**0.5) + np.arctan(train_df2['기온'] + train_df2['습도']) - np.arctan(train_df2['습도'] - 1.676331) +0.00391838*(train_df2['습도']**1.5)*np.arctan(0.023101*train_df2['습도'])-4.686035"
   ]
  },
  {
   "cell_type": "code",
   "execution_count": 31,
   "id": "4c80407d",
   "metadata": {},
   "outputs": [],
   "source": [
    "# 불쾌지수\n",
    "#train_df2['불쾌지수'] = 9/5*train_df2['기온'] - 0.55*(1-0.01*train_df2['습도'])*(9/5*train_df2['기온'] - 26) + 32"
   ]
  },
  {
   "cell_type": "code",
   "execution_count": 32,
   "id": "03c978c0",
   "metadata": {},
   "outputs": [],
   "source": [
    "# 더위체감지수\n",
    "#train_df2['더위체감지수'] = -0.24418 + 0.553991*train_df2['습구온도'] + 0.455346*train_df2['기온'] - 0.00217*train_df2['습구온도']**2 + 0.002782*train_df2['습구온도']*train_df2['기온'] + 3"
   ]
  },
  {
   "cell_type": "code",
   "execution_count": 33,
   "id": "1698ce2e",
   "metadata": {},
   "outputs": [],
   "source": [
    "# np.select\n",
    "#condlist = [\n",
    "#    (train_df2['더위체감지수'] < 21),\n",
    "#    (train_df2['더위체감지수'] < 25) & (train_df2['더위체감지수'] >= 21),\n",
    "#    (train_df2['더위체감지수'] < 28) & (train_df2['더위체감지수'] >= 25),\n",
    "#    (train_df2['더위체감지수'] < 31) & (train_df2['더위체감지수'] >= 28),\n",
    "#    (train_df2['더위체감지수'] >= 31)\n",
    "#            ]\n",
    "\n",
    "#choicelist = [0, 1, 2, 3, 4]"
   ]
  },
  {
   "cell_type": "code",
   "execution_count": 34,
   "id": "606ccb39",
   "metadata": {},
   "outputs": [],
   "source": [
    "# 범주형 체감지수\n",
    "#train_df2['더위체감지수_범주'] = np.select(condlist, choicelist)"
   ]
  },
  {
   "cell_type": "code",
   "execution_count": 35,
   "id": "420da51a",
   "metadata": {},
   "outputs": [],
   "source": [
    "# 열지수\n",
    "#train_df2['열지수'] = (5/9)*(-42.379 + (2.04901523 * ((9/5)*train_df2['기온']+32)) + (10.14333127 * train_df2['습도']) - (0.22475541 * ((9/5)*train_df2['기온']+32)*train_df2['습도']) - (6.83783e-3 * ((9/5)*train_df2['기온']+32)**2) - (5.481717e-2 * train_df2['습도']**2) + (1.22874e-3 * ((9/5)*train_df2['기온']+32)**2*train_df2['습도']) + (8.5282e-4 * ((9/5)*train_df2['기온']+32)*train_df2['습도']**2) - (1.99e-6 * ((9/5)*train_df2['기온']+32)**2*train_df2['습도']**2) - 32)"
   ]
  },
  {
   "cell_type": "code",
   "execution_count": 36,
   "id": "2534e456",
   "metadata": {},
   "outputs": [],
   "source": [
    "# 평균냉방면적\n",
    "#train_df2['평균냉방면적'] = train_df2['냉방면적']/train_df2['연면적']"
   ]
  },
  {
   "cell_type": "code",
   "execution_count": 37,
   "id": "10ff21e3",
   "metadata": {},
   "outputs": [],
   "source": [
    "# onehot 주\n",
    "#train_df2 = pd.get_dummies(train_df2, columns=['주'], drop_first=True)"
   ]
  },
  {
   "cell_type": "code",
   "execution_count": 38,
   "id": "e8c0a111",
   "metadata": {},
   "outputs": [],
   "source": [
    "# 훈련 및 테스트 데이터 셋\n",
    "train_x = train_df2[train_df2.columns.difference(['전력소비량', '냉방면적', '연면적'])]\n",
    "train_y = train_df2['전력소비량']"
   ]
  },
  {
   "cell_type": "markdown",
   "id": "b724dfdb",
   "metadata": {},
   "source": [
    "# BoxCox"
   ]
  },
  {
   "cell_type": "code",
   "execution_count": 39,
   "id": "9a53eeb1",
   "metadata": {},
   "outputs": [],
   "source": [
    "# 가중치\n",
    "boxcox = 0.21"
   ]
  },
  {
   "cell_type": "code",
   "execution_count": 40,
   "id": "9fd98d43",
   "metadata": {},
   "outputs": [],
   "source": [
    "# 적용\n",
    "train_y_boxcox = train_y**boxcox"
   ]
  },
  {
   "cell_type": "markdown",
   "id": "e59c15c2",
   "metadata": {},
   "source": [
    "## Test Data Pre-Processing"
   ]
  },
  {
   "cell_type": "code",
   "execution_count": 41,
   "id": "4ef9d2af",
   "metadata": {},
   "outputs": [],
   "source": [
    "test_df['월'] = test_df['일시'].apply(lambda x : int(x[4:6]))\n",
    "#test_df['일'] = test_df['일시'].apply(lambda x : int(x[6:8]))\n",
    "test_df['시'] = test_df['일시'].apply(lambda x : int(x[9:11]))"
   ]
  },
  {
   "cell_type": "code",
   "execution_count": 42,
   "id": "6b2c409b",
   "metadata": {},
   "outputs": [],
   "source": [
    "test_df['일시'] = pd.to_datetime(test_df['일시'], format='%Y%m%d %H')"
   ]
  },
  {
   "cell_type": "code",
   "execution_count": 43,
   "id": "d807185f",
   "metadata": {},
   "outputs": [],
   "source": [
    "# 요일 추가 (0이 월요일 6이 일요일)\n",
    "test_df['주'] = test_df['일시'].dt.dayofweek"
   ]
  },
  {
   "cell_type": "code",
   "execution_count": 44,
   "id": "a92bcaa7",
   "metadata": {},
   "outputs": [],
   "source": [
    "# 없는 변수 추가하기\n",
    "#test_df['일조'] = np.nan\n",
    "#test_df['일사'] = np.nan\n",
    "\n",
    "# 데이터 변환 (array로 반환하기 때문에 필요에 맞는 형태로 변환 후 사용)\n",
    "#test_df[['기온', '풍속', '습도', '일조', '일사']] = pd.DataFrame(imputer_mice.transform(test_df[['기온', '풍속', '습도', '일조', '일사']]),\n",
    "#                         columns=['기온', '풍속', '습도', '일조', '일사'])"
   ]
  },
  {
   "cell_type": "code",
   "execution_count": 45,
   "id": "1bf1893a",
   "metadata": {},
   "outputs": [],
   "source": [
    "# 숫자 보정\n",
    "#test_df['일조'][test_df['일조'] < 0] = 0\n",
    "#test_df['일사'][test_df['일사'] < 0] = 0"
   ]
  },
  {
   "cell_type": "code",
   "execution_count": 46,
   "id": "3ffcb2ae",
   "metadata": {},
   "outputs": [],
   "source": [
    "# 변수 정리\n",
    "test_df2 = test_df.drop(columns=['num_date_time', '일시',\n",
    "                                 '태양광용량','ESS저장용량','PCS용량', '강수량', '건물유형', '연면적',\n",
    "                                '냉방면적'])"
   ]
  },
  {
   "cell_type": "markdown",
   "id": "8a7096fc",
   "metadata": {},
   "source": [
    "## Append Value"
   ]
  },
  {
   "cell_type": "code",
   "execution_count": 47,
   "id": "12e36f72",
   "metadata": {},
   "outputs": [],
   "source": [
    "# 온도에 따른 포화 수증기압(mb)\n",
    "#test_df2['포화수증기압'] = 6.11*10**((7.5*test_df2['기온'])/(237.3 + test_df2['기온']))"
   ]
  },
  {
   "cell_type": "code",
   "execution_count": 48,
   "id": "72352918",
   "metadata": {},
   "outputs": [],
   "source": [
    "# 현재 대기의 수증기압(mb)\n",
    "#test_df2['대기압'] = test_df2['습도'] * test_df2['포화수증기압'] / 100"
   ]
  },
  {
   "cell_type": "code",
   "execution_count": 49,
   "id": "a44cbfb5",
   "metadata": {},
   "outputs": [],
   "source": [
    "# 절대습도(g/m^3)\n",
    "#test_df2['절대습도'] = (0.794*test_df2['대기압'])/(1+0.00366*test_df2['기온'])"
   ]
  },
  {
   "cell_type": "code",
   "execution_count": 50,
   "id": "b62398c5",
   "metadata": {},
   "outputs": [],
   "source": [
    "# 공기중의 혼합비(mb)\n",
    "#test_df2['혼합비'] = 0.622 * test_df2['대기압']/(1013.25 - test_df2['대기압'])"
   ]
  },
  {
   "cell_type": "code",
   "execution_count": 51,
   "id": "238a44d4",
   "metadata": {},
   "outputs": [],
   "source": [
    "# 습구온도\n",
    "#test_df2['습구온도'] = test_df2['기온']*np.arctan(0.151977+(test_df2['습도'] + 8.313659)**0.5) + np.arctan(test_df2['기온'] + test_df2['습도']) - np.arctan(test_df2['습도'] - 1.676331) +0.00391838*(test_df2['습도']**1.5)*np.arctan(0.023101*test_df2['습도'])-4.686035"
   ]
  },
  {
   "cell_type": "code",
   "execution_count": 52,
   "id": "b8152801",
   "metadata": {},
   "outputs": [],
   "source": [
    "# 불쾌지수\n",
    "#test_df2['불쾌지수'] = 9/5*test_df2['기온'] - 0.55*(1-0.01*test_df2['습도'])*(9/5*test_df2['기온'] - 26) + 32"
   ]
  },
  {
   "cell_type": "code",
   "execution_count": 53,
   "id": "ebc89e1f",
   "metadata": {},
   "outputs": [],
   "source": [
    "# 더위체감지수\n",
    "#test_df2['더위체감지수'] = -0.24418 + 0.553991*test_df2['습구온도'] + 0.455346*test_df2['기온'] - 0.00217*test_df2['습구온도']**2 + 0.002782*test_df2['습구온도']*test_df2['기온'] + 3"
   ]
  },
  {
   "cell_type": "code",
   "execution_count": 54,
   "id": "0a0e3c65",
   "metadata": {},
   "outputs": [],
   "source": [
    "# np.select\n",
    "#condlist = [\n",
    "#    (test_df2['더위체감지수'] < 21),\n",
    "#    (test_df2['더위체감지수'] < 25) & (test_df2['더위체감지수'] >= 21),\n",
    "#    (test_df2['더위체감지수'] < 28) & (test_df2['더위체감지수'] >= 25),\n",
    "#    (test_df2['더위체감지수'] < 31) & (test_df2['더위체감지수'] >= 28),\n",
    "#    (test_df2['더위체감지수'] >= 31)\n",
    "#           ]\n",
    "\n",
    "#choicelist = [0, 1, 2, 3, 4]"
   ]
  },
  {
   "cell_type": "code",
   "execution_count": 55,
   "id": "eef3ef31",
   "metadata": {},
   "outputs": [],
   "source": [
    "# 범주형 체감지수\n",
    "#test_df2['더위체감지수_범주'] = np.select(condlist, choicelist)"
   ]
  },
  {
   "cell_type": "code",
   "execution_count": 56,
   "id": "702a3c45",
   "metadata": {},
   "outputs": [],
   "source": [
    "# 열지수\n",
    "#test_df2['열지수'] = (5/9)*(-42.379 + (2.04901523 * ((9/5)*test_df2['기온']+32)) + (10.14333127 * test_df2['습도']) - (0.22475541 * ((9/5)*test_df2['기온']+32)*test_df2['습도']) - (6.83783e-3 * ((9/5)*test_df2['기온']+32)**2) - (5.481717e-2 * test_df2['습도']**2) + (1.22874e-3 * ((9/5)*test_df2['기온']+32)**2*test_df2['습도']) + (8.5282e-4 * ((9/5)*test_df2['기온']+32)*test_df2['습도']**2) - (1.99e-6 * ((9/5)*test_df2['기온']+32)**2*test_df2['습도']**2) - 32)"
   ]
  },
  {
   "cell_type": "code",
   "execution_count": 57,
   "id": "cffef504",
   "metadata": {},
   "outputs": [],
   "source": [
    "# 평균냉방면적\n",
    "#test_df2['평균냉방면적'] = test_df2['냉방면적']/test_df2['연면적']"
   ]
  },
  {
   "cell_type": "code",
   "execution_count": 58,
   "id": "5bc84ad4",
   "metadata": {},
   "outputs": [],
   "source": [
    "# onehot 주\n",
    "#test_df2 = pd.get_dummies(test_df2, columns=['주'], drop_first=True)"
   ]
  },
  {
   "cell_type": "code",
   "execution_count": 59,
   "id": "f0f7c0f0",
   "metadata": {},
   "outputs": [],
   "source": [
    "# test_df2 = std_scaler.fit_transform(test_df2)"
   ]
  },
  {
   "cell_type": "code",
   "execution_count": 60,
   "id": "1a6ab8cf",
   "metadata": {},
   "outputs": [],
   "source": [
    "# 훈련 및 테스트 데이터 셋\n",
    "#test_df2 = test_df2[test_df2.columns.difference(['냉방면적', '연면적', '습도', '월', '건물번호', '기온'])]"
   ]
  },
  {
   "cell_type": "code",
   "execution_count": 61,
   "id": "027dcf28",
   "metadata": {},
   "outputs": [
    {
     "data": {
      "text/html": [
       "<div>\n",
       "<style scoped>\n",
       "    .dataframe tbody tr th:only-of-type {\n",
       "        vertical-align: middle;\n",
       "    }\n",
       "\n",
       "    .dataframe tbody tr th {\n",
       "        vertical-align: top;\n",
       "    }\n",
       "\n",
       "    .dataframe thead th {\n",
       "        text-align: right;\n",
       "    }\n",
       "</style>\n",
       "<table border=\"1\" class=\"dataframe\">\n",
       "  <thead>\n",
       "    <tr style=\"text-align: right;\">\n",
       "      <th></th>\n",
       "      <th>건물번호</th>\n",
       "      <th>기온</th>\n",
       "      <th>풍속</th>\n",
       "      <th>습도</th>\n",
       "      <th>월</th>\n",
       "      <th>시</th>\n",
       "      <th>주</th>\n",
       "    </tr>\n",
       "  </thead>\n",
       "  <tbody>\n",
       "    <tr>\n",
       "      <th>0</th>\n",
       "      <td>1</td>\n",
       "      <td>23.5</td>\n",
       "      <td>2.2</td>\n",
       "      <td>72</td>\n",
       "      <td>8</td>\n",
       "      <td>0</td>\n",
       "      <td>3</td>\n",
       "    </tr>\n",
       "    <tr>\n",
       "      <th>1</th>\n",
       "      <td>1</td>\n",
       "      <td>23.0</td>\n",
       "      <td>0.9</td>\n",
       "      <td>72</td>\n",
       "      <td>8</td>\n",
       "      <td>1</td>\n",
       "      <td>3</td>\n",
       "    </tr>\n",
       "    <tr>\n",
       "      <th>2</th>\n",
       "      <td>1</td>\n",
       "      <td>22.7</td>\n",
       "      <td>1.5</td>\n",
       "      <td>75</td>\n",
       "      <td>8</td>\n",
       "      <td>2</td>\n",
       "      <td>3</td>\n",
       "    </tr>\n",
       "    <tr>\n",
       "      <th>3</th>\n",
       "      <td>1</td>\n",
       "      <td>22.1</td>\n",
       "      <td>1.3</td>\n",
       "      <td>78</td>\n",
       "      <td>8</td>\n",
       "      <td>3</td>\n",
       "      <td>3</td>\n",
       "    </tr>\n",
       "    <tr>\n",
       "      <th>4</th>\n",
       "      <td>1</td>\n",
       "      <td>21.8</td>\n",
       "      <td>1.0</td>\n",
       "      <td>77</td>\n",
       "      <td>8</td>\n",
       "      <td>4</td>\n",
       "      <td>3</td>\n",
       "    </tr>\n",
       "    <tr>\n",
       "      <th>...</th>\n",
       "      <td>...</td>\n",
       "      <td>...</td>\n",
       "      <td>...</td>\n",
       "      <td>...</td>\n",
       "      <td>...</td>\n",
       "      <td>...</td>\n",
       "      <td>...</td>\n",
       "    </tr>\n",
       "    <tr>\n",
       "      <th>16795</th>\n",
       "      <td>100</td>\n",
       "      <td>22.5</td>\n",
       "      <td>0.9</td>\n",
       "      <td>84</td>\n",
       "      <td>8</td>\n",
       "      <td>19</td>\n",
       "      <td>2</td>\n",
       "    </tr>\n",
       "    <tr>\n",
       "      <th>16796</th>\n",
       "      <td>100</td>\n",
       "      <td>20.7</td>\n",
       "      <td>0.4</td>\n",
       "      <td>95</td>\n",
       "      <td>8</td>\n",
       "      <td>20</td>\n",
       "      <td>2</td>\n",
       "    </tr>\n",
       "    <tr>\n",
       "      <th>16797</th>\n",
       "      <td>100</td>\n",
       "      <td>20.2</td>\n",
       "      <td>0.4</td>\n",
       "      <td>98</td>\n",
       "      <td>8</td>\n",
       "      <td>21</td>\n",
       "      <td>2</td>\n",
       "    </tr>\n",
       "    <tr>\n",
       "      <th>16798</th>\n",
       "      <td>100</td>\n",
       "      <td>20.1</td>\n",
       "      <td>1.1</td>\n",
       "      <td>97</td>\n",
       "      <td>8</td>\n",
       "      <td>22</td>\n",
       "      <td>2</td>\n",
       "    </tr>\n",
       "    <tr>\n",
       "      <th>16799</th>\n",
       "      <td>100</td>\n",
       "      <td>19.1</td>\n",
       "      <td>0.1</td>\n",
       "      <td>99</td>\n",
       "      <td>8</td>\n",
       "      <td>23</td>\n",
       "      <td>2</td>\n",
       "    </tr>\n",
       "  </tbody>\n",
       "</table>\n",
       "<p>16800 rows × 7 columns</p>\n",
       "</div>"
      ],
      "text/plain": [
       "       건물번호    기온   풍속  습도  월   시  주\n",
       "0         1  23.5  2.2  72  8   0  3\n",
       "1         1  23.0  0.9  72  8   1  3\n",
       "2         1  22.7  1.5  75  8   2  3\n",
       "3         1  22.1  1.3  78  8   3  3\n",
       "4         1  21.8  1.0  77  8   4  3\n",
       "...     ...   ...  ...  .. ..  .. ..\n",
       "16795   100  22.5  0.9  84  8  19  2\n",
       "16796   100  20.7  0.4  95  8  20  2\n",
       "16797   100  20.2  0.4  98  8  21  2\n",
       "16798   100  20.1  1.1  97  8  22  2\n",
       "16799   100  19.1  0.1  99  8  23  2\n",
       "\n",
       "[16800 rows x 7 columns]"
      ]
     },
     "execution_count": 61,
     "metadata": {},
     "output_type": "execute_result"
    }
   ],
   "source": [
    "test_df2"
   ]
  },
  {
   "cell_type": "code",
   "execution_count": 62,
   "id": "8d230319",
   "metadata": {},
   "outputs": [
    {
     "data": {
      "text/html": [
       "<div>\n",
       "<style scoped>\n",
       "    .dataframe tbody tr th:only-of-type {\n",
       "        vertical-align: middle;\n",
       "    }\n",
       "\n",
       "    .dataframe tbody tr th {\n",
       "        vertical-align: top;\n",
       "    }\n",
       "\n",
       "    .dataframe thead th {\n",
       "        text-align: right;\n",
       "    }\n",
       "</style>\n",
       "<table border=\"1\" class=\"dataframe\">\n",
       "  <thead>\n",
       "    <tr style=\"text-align: right;\">\n",
       "      <th></th>\n",
       "      <th>건물번호</th>\n",
       "      <th>기온</th>\n",
       "      <th>습도</th>\n",
       "      <th>시</th>\n",
       "      <th>월</th>\n",
       "      <th>주</th>\n",
       "      <th>풍속</th>\n",
       "    </tr>\n",
       "  </thead>\n",
       "  <tbody>\n",
       "    <tr>\n",
       "      <th>0</th>\n",
       "      <td>1</td>\n",
       "      <td>18.6</td>\n",
       "      <td>42.0</td>\n",
       "      <td>0</td>\n",
       "      <td>6</td>\n",
       "      <td>2</td>\n",
       "      <td>0.9</td>\n",
       "    </tr>\n",
       "    <tr>\n",
       "      <th>1</th>\n",
       "      <td>1</td>\n",
       "      <td>18.0</td>\n",
       "      <td>45.0</td>\n",
       "      <td>1</td>\n",
       "      <td>6</td>\n",
       "      <td>2</td>\n",
       "      <td>1.1</td>\n",
       "    </tr>\n",
       "    <tr>\n",
       "      <th>2</th>\n",
       "      <td>1</td>\n",
       "      <td>17.7</td>\n",
       "      <td>45.0</td>\n",
       "      <td>2</td>\n",
       "      <td>6</td>\n",
       "      <td>2</td>\n",
       "      <td>1.5</td>\n",
       "    </tr>\n",
       "    <tr>\n",
       "      <th>3</th>\n",
       "      <td>1</td>\n",
       "      <td>16.7</td>\n",
       "      <td>48.0</td>\n",
       "      <td>3</td>\n",
       "      <td>6</td>\n",
       "      <td>2</td>\n",
       "      <td>1.4</td>\n",
       "    </tr>\n",
       "    <tr>\n",
       "      <th>4</th>\n",
       "      <td>1</td>\n",
       "      <td>18.4</td>\n",
       "      <td>43.0</td>\n",
       "      <td>4</td>\n",
       "      <td>6</td>\n",
       "      <td>2</td>\n",
       "      <td>2.8</td>\n",
       "    </tr>\n",
       "    <tr>\n",
       "      <th>...</th>\n",
       "      <td>...</td>\n",
       "      <td>...</td>\n",
       "      <td>...</td>\n",
       "      <td>...</td>\n",
       "      <td>...</td>\n",
       "      <td>...</td>\n",
       "      <td>...</td>\n",
       "    </tr>\n",
       "    <tr>\n",
       "      <th>203995</th>\n",
       "      <td>100</td>\n",
       "      <td>23.1</td>\n",
       "      <td>86.0</td>\n",
       "      <td>19</td>\n",
       "      <td>8</td>\n",
       "      <td>2</td>\n",
       "      <td>0.9</td>\n",
       "    </tr>\n",
       "    <tr>\n",
       "      <th>203996</th>\n",
       "      <td>100</td>\n",
       "      <td>22.4</td>\n",
       "      <td>86.0</td>\n",
       "      <td>20</td>\n",
       "      <td>8</td>\n",
       "      <td>2</td>\n",
       "      <td>1.3</td>\n",
       "    </tr>\n",
       "    <tr>\n",
       "      <th>203997</th>\n",
       "      <td>100</td>\n",
       "      <td>21.3</td>\n",
       "      <td>92.0</td>\n",
       "      <td>21</td>\n",
       "      <td>8</td>\n",
       "      <td>2</td>\n",
       "      <td>1.0</td>\n",
       "    </tr>\n",
       "    <tr>\n",
       "      <th>203998</th>\n",
       "      <td>100</td>\n",
       "      <td>21.0</td>\n",
       "      <td>94.0</td>\n",
       "      <td>22</td>\n",
       "      <td>8</td>\n",
       "      <td>2</td>\n",
       "      <td>0.3</td>\n",
       "    </tr>\n",
       "    <tr>\n",
       "      <th>203999</th>\n",
       "      <td>100</td>\n",
       "      <td>20.7</td>\n",
       "      <td>95.0</td>\n",
       "      <td>23</td>\n",
       "      <td>8</td>\n",
       "      <td>2</td>\n",
       "      <td>0.1</td>\n",
       "    </tr>\n",
       "  </tbody>\n",
       "</table>\n",
       "<p>204000 rows × 7 columns</p>\n",
       "</div>"
      ],
      "text/plain": [
       "        건물번호    기온    습도   시  월  주   풍속\n",
       "0          1  18.6  42.0   0  6  2  0.9\n",
       "1          1  18.0  45.0   1  6  2  1.1\n",
       "2          1  17.7  45.0   2  6  2  1.5\n",
       "3          1  16.7  48.0   3  6  2  1.4\n",
       "4          1  18.4  43.0   4  6  2  2.8\n",
       "...      ...   ...   ...  .. .. ..  ...\n",
       "203995   100  23.1  86.0  19  8  2  0.9\n",
       "203996   100  22.4  86.0  20  8  2  1.3\n",
       "203997   100  21.3  92.0  21  8  2  1.0\n",
       "203998   100  21.0  94.0  22  8  2  0.3\n",
       "203999   100  20.7  95.0  23  8  2  0.1\n",
       "\n",
       "[204000 rows x 7 columns]"
      ]
     },
     "execution_count": 62,
     "metadata": {},
     "output_type": "execute_result"
    }
   ],
   "source": [
    "train_x"
   ]
  },
  {
   "cell_type": "markdown",
   "id": "ZC7hzMtOQwY0",
   "metadata": {
    "id": "ZC7hzMtOQwY0"
   },
   "source": [
    "## Regression Model Fit by"
   ]
  },
  {
   "cell_type": "code",
   "execution_count": 64,
   "id": "1b69ca92",
   "metadata": {
    "scrolled": true
   },
   "outputs": [
    {
     "data": {
      "application/vnd.jupyter.widget-view+json": {
       "model_id": "efcc93ca18774782adfa3e85167d724b",
       "version_major": 2,
       "version_minor": 0
      },
      "text/plain": [
       "  0%|          | 0/1 [00:00<?, ?it/s]"
      ]
     },
     "metadata": {},
     "output_type": "display_data"
    },
    {
     "name": "stdout",
     "output_type": "stream",
     "text": [
      "AutoML directory: ../model/bestmodel_build/build100/\n",
      "The task is regression with evaluation metric mape\n",
      "AutoML will use algorithms: ['Xgboost', 'LightGBM']\n",
      "AutoML will stack models\n",
      "AutoML will ensemble available models\n",
      "AutoML steps: ['adjust_validation', 'simple_algorithms', 'default_algorithms', 'not_so_random', 'golden_features', 'kmeans_features', 'insert_random_feature', 'features_selection', 'hill_climbing_1', 'hill_climbing_2', 'boost_on_errors', 'ensemble', 'stack', 'ensemble_stacked']\n",
      "* Step adjust_validation will try to check up to 1 model\n",
      "1_DecisionTree mape 0.018619 trained in 4.92 seconds\n",
      "Adjust validation. Remove: 1_DecisionTree\n",
      "Validation strategy: 5-fold CV Shuffle\n",
      "Skip simple_algorithms because no parameters were generated.\n",
      "* Step default_algorithms will try to check up to 2 models\n",
      "1_Default_LightGBM mape 0.011031 trained in 5.3 seconds\n",
      "2_Default_Xgboost mape 0.018857 trained in 4.64 seconds\n",
      "* Step not_so_random will try to check up to 18 models\n",
      "12_LightGBM mape 0.011502 trained in 4.19 seconds\n",
      "3_Xgboost mape 0.022559 trained in 5.09 seconds\n",
      "13_LightGBM mape 0.010786 trained in 3.7 seconds\n",
      "4_Xgboost mape 0.020602 trained in 4.0 seconds\n",
      "14_LightGBM mape 0.011146 trained in 4.39 seconds\n",
      "5_Xgboost mape 0.026651 trained in 4.26 seconds\n",
      "15_LightGBM mape 0.011791 trained in 5.65 seconds\n",
      "6_Xgboost mape 0.020797 trained in 4.29 seconds\n",
      "16_LightGBM mape 0.012372 trained in 4.19 seconds\n",
      "7_Xgboost mape 0.029043 trained in 3.74 seconds\n",
      "17_LightGBM mape 0.010908 trained in 4.15 seconds\n",
      "8_Xgboost mape 0.02723 trained in 4.41 seconds\n",
      "18_LightGBM mape 0.010903 trained in 4.41 seconds\n",
      "9_Xgboost mape 0.018296 trained in 3.96 seconds\n",
      "19_LightGBM mape 0.010991 trained in 4.6 seconds\n",
      "10_Xgboost mape 0.024236 trained in 4.76 seconds\n",
      "20_LightGBM mape 0.010983 trained in 4.23 seconds\n",
      "11_Xgboost mape 0.021065 trained in 5.25 seconds\n",
      "* Step golden_features will try to check up to 3 models\n",
      "None 10\n",
      "Add Golden Feature: 시_ratio_월\n",
      "Add Golden Feature: 월_ratio_시\n",
      "Add Golden Feature: 월_sum_시\n",
      "Add Golden Feature: 시_diff_월\n",
      "Add Golden Feature: 월_multiply_시\n",
      "Add Golden Feature: 시_diff_풍속\n",
      "Add Golden Feature: 풍속_sum_시\n",
      "Add Golden Feature: 시_ratio_습도\n",
      "Add Golden Feature: 시_multiply_기온\n",
      "Add Golden Feature: 습도_ratio_시\n",
      "Created 10 Golden Features in 10.32 seconds.\n",
      "13_LightGBM_GoldenFeatures mape 0.011045 trained in 14.75 seconds\n",
      "18_LightGBM_GoldenFeatures mape 0.01129 trained in 4.72 seconds\n",
      "17_LightGBM_GoldenFeatures mape 0.01133 trained in 4.86 seconds\n",
      "* Step kmeans_features will try to check up to 3 models\n",
      "13_LightGBM_KMeansFeatures mape 0.011276 trained in 6.46 seconds\n",
      "18_LightGBM_KMeansFeatures mape 0.011053 trained in 6.85 seconds\n",
      "17_LightGBM_KMeansFeatures mape 0.011359 trained in 6.85 seconds\n",
      "* Step insert_random_feature will try to check up to 1 model\n",
      "13_LightGBM_RandomFeature mape 0.011326 trained in 4.9 seconds\n",
      "Drop features ['random_feature']\n",
      "Skip features_selection because no parameters were generated.\n",
      "* Step hill_climbing_1 will try to check up to 8 models\n",
      "21_LightGBM mape 0.010779 trained in 4.86 seconds\n",
      "22_LightGBM mape 0.010903 trained in 4.94 seconds\n",
      "23_LightGBM mape 0.010828 trained in 4.73 seconds\n",
      "24_LightGBM mape 0.010721 trained in 5.15 seconds\n",
      "25_Xgboost mape 0.016852 trained in 4.81 seconds\n",
      "26_Xgboost mape 0.019595 trained in 5.47 seconds\n",
      "27_Xgboost mape 0.020032 trained in 5.13 seconds\n",
      "28_Xgboost mape 0.024204 trained in 4.95 seconds\n",
      "* Step hill_climbing_2 will try to check up to 9 models\n",
      "29_LightGBM mape 0.010721 trained in 5.6 seconds\n",
      "30_LightGBM mape 0.010721 trained in 5.48 seconds\n",
      "31_LightGBM mape 0.010779 trained in 5.28 seconds\n",
      "32_LightGBM mape 0.010786 trained in 4.99 seconds\n",
      "33_Xgboost mape 0.01707 trained in 5.12 seconds\n",
      "34_Xgboost mape 0.020525 trained in 5.2 seconds\n",
      "35_Xgboost mape 0.015094 trained in 5.01 seconds\n",
      "36_Xgboost mape 0.01765 trained in 5.27 seconds\n",
      "37_Xgboost mape 0.018993 trained in 5.9 seconds\n",
      "* Step boost_on_errors will try to check up to 1 model\n",
      "30_LightGBM_BoostOnErrors mape 0.010963 trained in 5.7 seconds\n",
      "* Step ensemble will try to check up to 1 model\n",
      "Ensemble mape 0.010288 trained in 5.14 seconds\n",
      "* Step stack will try to check up to 20 models\n",
      "30_LightGBM_Stacked mape 0.011826 trained in 5.8 seconds\n",
      "35_Xgboost_Stacked mape 0.014934 trained in 5.44 seconds\n",
      "29_LightGBM_Stacked mape 0.011826 trained in 5.81 seconds\n",
      "25_Xgboost_Stacked mape 0.013632 trained in 5.71 seconds\n",
      "24_LightGBM_Stacked mape 0.011826 trained in 5.83 seconds\n",
      "33_Xgboost_Stacked mape 0.016528 trained in 5.64 seconds\n",
      "31_LightGBM_Stacked mape 0.011623 trained in 5.49 seconds\n",
      "36_Xgboost_Stacked mape 0.013992 trained in 5.73 seconds\n",
      "21_LightGBM_Stacked mape 0.011623 trained in 5.5 seconds\n",
      "9_Xgboost_Stacked mape 0.013809 trained in 5.91 seconds\n",
      "32_LightGBM_Stacked mape 0.011445 trained in 5.36 seconds\n",
      "2_Default_Xgboost_Stacked mape 0.016452 trained in 6.4 seconds\n",
      "13_LightGBM_Stacked mape 0.011445 trained in 5.35 seconds\n",
      "37_Xgboost_Stacked mape 0.014737 trained in 6.48 seconds\n",
      "23_LightGBM_Stacked mape 0.011614 trained in 5.63 seconds\n",
      "26_Xgboost_Stacked mape 0.016901 trained in 6.78 seconds\n",
      "18_LightGBM_Stacked mape 0.011496 trained in 5.79 seconds\n",
      "27_Xgboost_Stacked mape 0.015369 trained in 6.41 seconds\n",
      "22_LightGBM_Stacked mape 0.011496 trained in 5.77 seconds\n",
      "34_Xgboost_Stacked mape 0.015266 trained in 6.15 seconds\n",
      "* Step ensemble_stacked will try to check up to 1 model\n",
      "Ensemble_Stacked mape 0.010288 trained in 10.82 seconds\n",
      "AutoML fit time: 434.75 seconds\n",
      "AutoML best model: Ensemble_Stacked\n"
     ]
    }
   ],
   "source": [
    "# 건물 번호별로 fitting하기\n",
    "preds = pd.DataFrame()\n",
    "num = 100\n",
    "for i in tqdm.notebook.tqdm(range(num, num+1)):\n",
    "    # train x, y 만들고 적합하기\n",
    "    globals()['train_buildnum{}_x'.format(i)] = train_x[['기온','습도','시','월','주','풍속']][train_x['건물번호'] == i]\n",
    "    globals()['train_buildnum{}_y'.format(i)] = train_y_boxcox[train_x['건물번호'] == i]\n",
    "    \n",
    "    # automl modeling\n",
    "    automl = AutoML(mode=\"Compete\",\n",
    "                    algorithms=[\"Xgboost\",\n",
    "                                \"LightGBM\"], \n",
    "                    ml_task = \"regression\",\n",
    "                    eval_metric = 'mape',\n",
    "                    random_state = 42,\n",
    "                    results_path = '../model/bestmodel_build/build' + str(i) + '/'\n",
    "                   )\n",
    "    \n",
    "    # fitting\n",
    "    automl.fit(globals()['train_buildnum{}_x'.format(i)], globals()['train_buildnum{}_y'.format(i)])\n",
    "    \n",
    "    # predict\n",
    "    globals()['pred_buildnum{}'.format(i)] = automl.predict(test_df2[['기온','습도','시','월','주','풍속']][test_df2['건물번호'] == i])\n",
    "    \n",
    "    # 혹시몰라서 saving\n",
    "    pd.DataFrame(globals()['pred_buildnum{}'.format(i)]).to_csv('../data/bestmodel_build/build{}.csv'.format(i), index = False)\n",
    "    "
   ]
  },
  {
   "cell_type": "markdown",
   "id": "5FMPeTISQwY0",
   "metadata": {
    "id": "5FMPeTISQwY0"
   },
   "source": [
    "## Submission"
   ]
  },
  {
   "cell_type": "code",
   "execution_count": 65,
   "id": "9815756b",
   "metadata": {
    "executionInfo": {
     "elapsed": 368,
     "status": "ok",
     "timestamp": 1683473316927,
     "user": {
      "displayName": "이승윤",
      "userId": "17995305622900705411"
     },
     "user_tz": -540
    },
    "id": "AXO-EmaQQwY0"
   },
   "outputs": [
    {
     "data": {
      "text/html": [
       "<div>\n",
       "<style scoped>\n",
       "    .dataframe tbody tr th:only-of-type {\n",
       "        vertical-align: middle;\n",
       "    }\n",
       "\n",
       "    .dataframe tbody tr th {\n",
       "        vertical-align: top;\n",
       "    }\n",
       "\n",
       "    .dataframe thead th {\n",
       "        text-align: right;\n",
       "    }\n",
       "</style>\n",
       "<table border=\"1\" class=\"dataframe\">\n",
       "  <thead>\n",
       "    <tr style=\"text-align: right;\">\n",
       "      <th></th>\n",
       "      <th>num_date_time</th>\n",
       "      <th>answer</th>\n",
       "    </tr>\n",
       "  </thead>\n",
       "  <tbody>\n",
       "    <tr>\n",
       "      <th>0</th>\n",
       "      <td>1_20220825 00</td>\n",
       "      <td>0</td>\n",
       "    </tr>\n",
       "    <tr>\n",
       "      <th>1</th>\n",
       "      <td>1_20220825 01</td>\n",
       "      <td>0</td>\n",
       "    </tr>\n",
       "    <tr>\n",
       "      <th>2</th>\n",
       "      <td>1_20220825 02</td>\n",
       "      <td>0</td>\n",
       "    </tr>\n",
       "    <tr>\n",
       "      <th>3</th>\n",
       "      <td>1_20220825 03</td>\n",
       "      <td>0</td>\n",
       "    </tr>\n",
       "    <tr>\n",
       "      <th>4</th>\n",
       "      <td>1_20220825 04</td>\n",
       "      <td>0</td>\n",
       "    </tr>\n",
       "    <tr>\n",
       "      <th>...</th>\n",
       "      <td>...</td>\n",
       "      <td>...</td>\n",
       "    </tr>\n",
       "    <tr>\n",
       "      <th>16795</th>\n",
       "      <td>100_20220831 19</td>\n",
       "      <td>0</td>\n",
       "    </tr>\n",
       "    <tr>\n",
       "      <th>16796</th>\n",
       "      <td>100_20220831 20</td>\n",
       "      <td>0</td>\n",
       "    </tr>\n",
       "    <tr>\n",
       "      <th>16797</th>\n",
       "      <td>100_20220831 21</td>\n",
       "      <td>0</td>\n",
       "    </tr>\n",
       "    <tr>\n",
       "      <th>16798</th>\n",
       "      <td>100_20220831 22</td>\n",
       "      <td>0</td>\n",
       "    </tr>\n",
       "    <tr>\n",
       "      <th>16799</th>\n",
       "      <td>100_20220831 23</td>\n",
       "      <td>0</td>\n",
       "    </tr>\n",
       "  </tbody>\n",
       "</table>\n",
       "<p>16800 rows × 2 columns</p>\n",
       "</div>"
      ],
      "text/plain": [
       "         num_date_time  answer\n",
       "0        1_20220825 00       0\n",
       "1        1_20220825 01       0\n",
       "2        1_20220825 02       0\n",
       "3        1_20220825 03       0\n",
       "4        1_20220825 04       0\n",
       "...                ...     ...\n",
       "16795  100_20220831 19       0\n",
       "16796  100_20220831 20       0\n",
       "16797  100_20220831 21       0\n",
       "16798  100_20220831 22       0\n",
       "16799  100_20220831 23       0\n",
       "\n",
       "[16800 rows x 2 columns]"
      ]
     },
     "execution_count": 65,
     "metadata": {},
     "output_type": "execute_result"
    }
   ],
   "source": [
    "submission = pd.read_csv('../data/sample_submission.csv')\n",
    "submission"
   ]
  },
  {
   "cell_type": "markdown",
   "id": "238d346a",
   "metadata": {},
   "source": [
    "## Data Collecting"
   ]
  },
  {
   "cell_type": "code",
   "execution_count": 66,
   "id": "c7ee502f",
   "metadata": {},
   "outputs": [
    {
     "data": {
      "application/vnd.jupyter.widget-view+json": {
       "model_id": "8f3142877d634e5981a410f0b3a59059",
       "version_major": 2,
       "version_minor": 0
      },
      "text/plain": [
       "  0%|          | 0/100 [00:00<?, ?it/s]"
      ]
     },
     "metadata": {},
     "output_type": "display_data"
    }
   ],
   "source": [
    "preds = pd.DataFrame()\n",
    "for i in tqdm.notebook.tqdm(range(1, 101)):\n",
    "    # load data\n",
    "    tmp = pd.read_csv('../data/bestmodel_build/build'+str(i)+'.csv')\n",
    "    \n",
    "    # merging\n",
    "    preds = pd.concat([preds, tmp], ignore_index=True)"
   ]
  },
  {
   "cell_type": "code",
   "execution_count": 67,
   "id": "7bb233a6",
   "metadata": {},
   "outputs": [],
   "source": [
    "preds.columns = ['pred']"
   ]
  },
  {
   "cell_type": "code",
   "execution_count": 68,
   "id": "4ff09c0c",
   "metadata": {},
   "outputs": [
    {
     "data": {
      "text/html": [
       "<div>\n",
       "<style scoped>\n",
       "    .dataframe tbody tr th:only-of-type {\n",
       "        vertical-align: middle;\n",
       "    }\n",
       "\n",
       "    .dataframe tbody tr th {\n",
       "        vertical-align: top;\n",
       "    }\n",
       "\n",
       "    .dataframe thead th {\n",
       "        text-align: right;\n",
       "    }\n",
       "</style>\n",
       "<table border=\"1\" class=\"dataframe\">\n",
       "  <thead>\n",
       "    <tr style=\"text-align: right;\">\n",
       "      <th></th>\n",
       "      <th>num_date_time</th>\n",
       "      <th>answer</th>\n",
       "    </tr>\n",
       "  </thead>\n",
       "  <tbody>\n",
       "    <tr>\n",
       "      <th>0</th>\n",
       "      <td>1_20220825 00</td>\n",
       "      <td>2045.136715</td>\n",
       "    </tr>\n",
       "    <tr>\n",
       "      <th>1</th>\n",
       "      <td>1_20220825 01</td>\n",
       "      <td>1996.488521</td>\n",
       "    </tr>\n",
       "    <tr>\n",
       "      <th>2</th>\n",
       "      <td>1_20220825 02</td>\n",
       "      <td>1855.874486</td>\n",
       "    </tr>\n",
       "    <tr>\n",
       "      <th>3</th>\n",
       "      <td>1_20220825 03</td>\n",
       "      <td>1803.297771</td>\n",
       "    </tr>\n",
       "    <tr>\n",
       "      <th>4</th>\n",
       "      <td>1_20220825 04</td>\n",
       "      <td>1828.726798</td>\n",
       "    </tr>\n",
       "    <tr>\n",
       "      <th>...</th>\n",
       "      <td>...</td>\n",
       "      <td>...</td>\n",
       "    </tr>\n",
       "    <tr>\n",
       "      <th>16795</th>\n",
       "      <td>100_20220831 19</td>\n",
       "      <td>894.039774</td>\n",
       "    </tr>\n",
       "    <tr>\n",
       "      <th>16796</th>\n",
       "      <td>100_20220831 20</td>\n",
       "      <td>790.891144</td>\n",
       "    </tr>\n",
       "    <tr>\n",
       "      <th>16797</th>\n",
       "      <td>100_20220831 21</td>\n",
       "      <td>705.022519</td>\n",
       "    </tr>\n",
       "    <tr>\n",
       "      <th>16798</th>\n",
       "      <td>100_20220831 22</td>\n",
       "      <td>601.563652</td>\n",
       "    </tr>\n",
       "    <tr>\n",
       "      <th>16799</th>\n",
       "      <td>100_20220831 23</td>\n",
       "      <td>506.315914</td>\n",
       "    </tr>\n",
       "  </tbody>\n",
       "</table>\n",
       "<p>16800 rows × 2 columns</p>\n",
       "</div>"
      ],
      "text/plain": [
       "         num_date_time       answer\n",
       "0        1_20220825 00  2045.136715\n",
       "1        1_20220825 01  1996.488521\n",
       "2        1_20220825 02  1855.874486\n",
       "3        1_20220825 03  1803.297771\n",
       "4        1_20220825 04  1828.726798\n",
       "...                ...          ...\n",
       "16795  100_20220831 19   894.039774\n",
       "16796  100_20220831 20   790.891144\n",
       "16797  100_20220831 21   705.022519\n",
       "16798  100_20220831 22   601.563652\n",
       "16799  100_20220831 23   506.315914\n",
       "\n",
       "[16800 rows x 2 columns]"
      ]
     },
     "execution_count": 68,
     "metadata": {},
     "output_type": "execute_result"
    }
   ],
   "source": [
    "submission['answer'] = preds['pred']**(1/boxcox)\n",
    "submission"
   ]
  },
  {
   "cell_type": "code",
   "execution_count": 69,
   "id": "95e55f3b",
   "metadata": {},
   "outputs": [],
   "source": [
    "submission.to_csv('../data/AutoML_0.21_NA0_bestmodel_build.csv', index=False)"
   ]
  }
 ],
 "metadata": {
  "accelerator": "GPU",
  "colab": {
   "provenance": []
  },
  "gpuClass": "standard",
  "kernelspec": {
   "display_name": "ss",
   "language": "python",
   "name": "ss"
  },
  "language_info": {
   "codemirror_mode": {
    "name": "ipython",
    "version": 3
   },
   "file_extension": ".py",
   "mimetype": "text/x-python",
   "name": "python",
   "nbconvert_exporter": "python",
   "pygments_lexer": "ipython3",
   "version": "3.8.17"
  },
  "toc": {
   "base_numbering": 1,
   "nav_menu": {},
   "number_sections": true,
   "sideBar": true,
   "skip_h1_title": false,
   "title_cell": "Table of Contents",
   "title_sidebar": "Contents",
   "toc_cell": false,
   "toc_position": {},
   "toc_section_display": true,
   "toc_window_display": false
  },
  "widgets": {
   "application/vnd.jupyter.widget-state+json": {
    "09436c3ae2a44a8ca51ee1103b963ada": {
     "model_module": "@jupyter-widgets/base",
     "model_module_version": "1.2.0",
     "model_name": "LayoutModel",
     "state": {
      "_model_module": "@jupyter-widgets/base",
      "_model_module_version": "1.2.0",
      "_model_name": "LayoutModel",
      "_view_count": null,
      "_view_module": "@jupyter-widgets/base",
      "_view_module_version": "1.2.0",
      "_view_name": "LayoutView",
      "align_content": null,
      "align_items": null,
      "align_self": null,
      "border": null,
      "bottom": null,
      "display": null,
      "flex": null,
      "flex_flow": null,
      "grid_area": null,
      "grid_auto_columns": null,
      "grid_auto_flow": null,
      "grid_auto_rows": null,
      "grid_column": null,
      "grid_gap": null,
      "grid_row": null,
      "grid_template_areas": null,
      "grid_template_columns": null,
      "grid_template_rows": null,
      "height": null,
      "justify_content": null,
      "justify_items": null,
      "left": null,
      "margin": null,
      "max_height": null,
      "max_width": null,
      "min_height": null,
      "min_width": null,
      "object_fit": null,
      "object_position": null,
      "order": null,
      "overflow": null,
      "overflow_x": null,
      "overflow_y": null,
      "padding": null,
      "right": null,
      "top": null,
      "visibility": null,
      "width": null
     }
    },
    "29d20f64d430441ea9364b13dfef101b": {
     "model_module": "@jupyter-widgets/base",
     "model_module_version": "1.2.0",
     "model_name": "LayoutModel",
     "state": {
      "_model_module": "@jupyter-widgets/base",
      "_model_module_version": "1.2.0",
      "_model_name": "LayoutModel",
      "_view_count": null,
      "_view_module": "@jupyter-widgets/base",
      "_view_module_version": "1.2.0",
      "_view_name": "LayoutView",
      "align_content": null,
      "align_items": null,
      "align_self": null,
      "border": null,
      "bottom": null,
      "display": null,
      "flex": null,
      "flex_flow": null,
      "grid_area": null,
      "grid_auto_columns": null,
      "grid_auto_flow": null,
      "grid_auto_rows": null,
      "grid_column": null,
      "grid_gap": null,
      "grid_row": null,
      "grid_template_areas": null,
      "grid_template_columns": null,
      "grid_template_rows": null,
      "height": null,
      "justify_content": null,
      "justify_items": null,
      "left": null,
      "margin": null,
      "max_height": null,
      "max_width": null,
      "min_height": null,
      "min_width": null,
      "object_fit": null,
      "object_position": null,
      "order": null,
      "overflow": null,
      "overflow_x": null,
      "overflow_y": null,
      "padding": null,
      "right": null,
      "top": null,
      "visibility": null,
      "width": null
     }
    },
    "4a9ef407319c43bcb20106c47f0db180": {
     "model_module": "@jupyter-widgets/controls",
     "model_module_version": "1.5.0",
     "model_name": "HTMLModel",
     "state": {
      "_dom_classes": [],
      "_model_module": "@jupyter-widgets/controls",
      "_model_module_version": "1.5.0",
      "_model_name": "HTMLModel",
      "_view_count": null,
      "_view_module": "@jupyter-widgets/controls",
      "_view_module_version": "1.5.0",
      "_view_name": "HTMLView",
      "description": "",
      "description_tooltip": null,
      "layout": "IPY_MODEL_09436c3ae2a44a8ca51ee1103b963ada",
      "placeholder": "​",
      "style": "IPY_MODEL_f6d802990a2344db99bf282c663efa5a",
      "value": "100%"
     }
    },
    "4c356887768a4330ab0b0eec28984484": {
     "model_module": "@jupyter-widgets/controls",
     "model_module_version": "1.5.0",
     "model_name": "DescriptionStyleModel",
     "state": {
      "_model_module": "@jupyter-widgets/controls",
      "_model_module_version": "1.5.0",
      "_model_name": "DescriptionStyleModel",
      "_view_count": null,
      "_view_module": "@jupyter-widgets/base",
      "_view_module_version": "1.2.0",
      "_view_name": "StyleView",
      "description_width": ""
     }
    },
    "520b45d5f972463da632a32f96c71ee4": {
     "model_module": "@jupyter-widgets/controls",
     "model_module_version": "1.5.0",
     "model_name": "HTMLModel",
     "state": {
      "_dom_classes": [],
      "_model_module": "@jupyter-widgets/controls",
      "_model_module_version": "1.5.0",
      "_model_name": "HTMLModel",
      "_view_count": null,
      "_view_module": "@jupyter-widgets/controls",
      "_view_module_version": "1.5.0",
      "_view_name": "HTMLView",
      "description": "",
      "description_tooltip": null,
      "layout": "IPY_MODEL_29d20f64d430441ea9364b13dfef101b",
      "placeholder": "​",
      "style": "IPY_MODEL_e7d3b9b9d1224868988e665b4c677357",
      "value": " 1881/1881 [00:24&lt;00:00, 97.61it/s]"
     }
    },
    "53ccb4062ee94e0c84618143ff39ce05": {
     "model_module": "@jupyter-widgets/base",
     "model_module_version": "1.2.0",
     "model_name": "LayoutModel",
     "state": {
      "_model_module": "@jupyter-widgets/base",
      "_model_module_version": "1.2.0",
      "_model_name": "LayoutModel",
      "_view_count": null,
      "_view_module": "@jupyter-widgets/base",
      "_view_module_version": "1.2.0",
      "_view_name": "LayoutView",
      "align_content": null,
      "align_items": null,
      "align_self": null,
      "border": null,
      "bottom": null,
      "display": null,
      "flex": null,
      "flex_flow": null,
      "grid_area": null,
      "grid_auto_columns": null,
      "grid_auto_flow": null,
      "grid_auto_rows": null,
      "grid_column": null,
      "grid_gap": null,
      "grid_row": null,
      "grid_template_areas": null,
      "grid_template_columns": null,
      "grid_template_rows": null,
      "height": null,
      "justify_content": null,
      "justify_items": null,
      "left": null,
      "margin": null,
      "max_height": null,
      "max_width": null,
      "min_height": null,
      "min_width": null,
      "object_fit": null,
      "object_position": null,
      "order": null,
      "overflow": null,
      "overflow_x": null,
      "overflow_y": null,
      "padding": null,
      "right": null,
      "top": null,
      "visibility": null,
      "width": null
     }
    },
    "55e857853048445b87cea2de151ba035": {
     "model_module": "@jupyter-widgets/base",
     "model_module_version": "1.2.0",
     "model_name": "LayoutModel",
     "state": {
      "_model_module": "@jupyter-widgets/base",
      "_model_module_version": "1.2.0",
      "_model_name": "LayoutModel",
      "_view_count": null,
      "_view_module": "@jupyter-widgets/base",
      "_view_module_version": "1.2.0",
      "_view_name": "LayoutView",
      "align_content": null,
      "align_items": null,
      "align_self": null,
      "border": null,
      "bottom": null,
      "display": null,
      "flex": null,
      "flex_flow": null,
      "grid_area": null,
      "grid_auto_columns": null,
      "grid_auto_flow": null,
      "grid_auto_rows": null,
      "grid_column": null,
      "grid_gap": null,
      "grid_row": null,
      "grid_template_areas": null,
      "grid_template_columns": null,
      "grid_template_rows": null,
      "height": null,
      "justify_content": null,
      "justify_items": null,
      "left": null,
      "margin": null,
      "max_height": null,
      "max_width": null,
      "min_height": null,
      "min_width": null,
      "object_fit": null,
      "object_position": null,
      "order": null,
      "overflow": null,
      "overflow_x": null,
      "overflow_y": null,
      "padding": null,
      "right": null,
      "top": null,
      "visibility": null,
      "width": null
     }
    },
    "790f3379b0364c88ae6bdec739b97248": {
     "model_module": "@jupyter-widgets/base",
     "model_module_version": "1.2.0",
     "model_name": "LayoutModel",
     "state": {
      "_model_module": "@jupyter-widgets/base",
      "_model_module_version": "1.2.0",
      "_model_name": "LayoutModel",
      "_view_count": null,
      "_view_module": "@jupyter-widgets/base",
      "_view_module_version": "1.2.0",
      "_view_name": "LayoutView",
      "align_content": null,
      "align_items": null,
      "align_self": null,
      "border": null,
      "bottom": null,
      "display": null,
      "flex": null,
      "flex_flow": null,
      "grid_area": null,
      "grid_auto_columns": null,
      "grid_auto_flow": null,
      "grid_auto_rows": null,
      "grid_column": null,
      "grid_gap": null,
      "grid_row": null,
      "grid_template_areas": null,
      "grid_template_columns": null,
      "grid_template_rows": null,
      "height": null,
      "justify_content": null,
      "justify_items": null,
      "left": null,
      "margin": null,
      "max_height": null,
      "max_width": null,
      "min_height": null,
      "min_width": null,
      "object_fit": null,
      "object_position": null,
      "order": null,
      "overflow": null,
      "overflow_x": null,
      "overflow_y": null,
      "padding": null,
      "right": null,
      "top": null,
      "visibility": null,
      "width": null
     }
    },
    "7a0c9eaf1d1e4a56a195dff77a7ed5f9": {
     "model_module": "@jupyter-widgets/controls",
     "model_module_version": "1.5.0",
     "model_name": "FloatProgressModel",
     "state": {
      "_dom_classes": [],
      "_model_module": "@jupyter-widgets/controls",
      "_model_module_version": "1.5.0",
      "_model_name": "FloatProgressModel",
      "_view_count": null,
      "_view_module": "@jupyter-widgets/controls",
      "_view_module_version": "1.5.0",
      "_view_name": "ProgressView",
      "bar_style": "success",
      "description": "",
      "description_tooltip": null,
      "layout": "IPY_MODEL_bb35a24296ed455a872731cef7333ffb",
      "max": 5001,
      "min": 0,
      "orientation": "horizontal",
      "style": "IPY_MODEL_dc7da92e2f454f79b07c3ca86c3cc9d4",
      "value": 5001
     }
    },
    "911d4b1f888540eb96b8b6a48134f078": {
     "model_module": "@jupyter-widgets/base",
     "model_module_version": "1.2.0",
     "model_name": "LayoutModel",
     "state": {
      "_model_module": "@jupyter-widgets/base",
      "_model_module_version": "1.2.0",
      "_model_name": "LayoutModel",
      "_view_count": null,
      "_view_module": "@jupyter-widgets/base",
      "_view_module_version": "1.2.0",
      "_view_name": "LayoutView",
      "align_content": null,
      "align_items": null,
      "align_self": null,
      "border": null,
      "bottom": null,
      "display": null,
      "flex": null,
      "flex_flow": null,
      "grid_area": null,
      "grid_auto_columns": null,
      "grid_auto_flow": null,
      "grid_auto_rows": null,
      "grid_column": null,
      "grid_gap": null,
      "grid_row": null,
      "grid_template_areas": null,
      "grid_template_columns": null,
      "grid_template_rows": null,
      "height": null,
      "justify_content": null,
      "justify_items": null,
      "left": null,
      "margin": null,
      "max_height": null,
      "max_width": null,
      "min_height": null,
      "min_width": null,
      "object_fit": null,
      "object_position": null,
      "order": null,
      "overflow": null,
      "overflow_x": null,
      "overflow_y": null,
      "padding": null,
      "right": null,
      "top": null,
      "visibility": null,
      "width": null
     }
    },
    "918b0c55f55f4b799fb41adb002c5f1f": {
     "model_module": "@jupyter-widgets/controls",
     "model_module_version": "1.5.0",
     "model_name": "HBoxModel",
     "state": {
      "_dom_classes": [],
      "_model_module": "@jupyter-widgets/controls",
      "_model_module_version": "1.5.0",
      "_model_name": "HBoxModel",
      "_view_count": null,
      "_view_module": "@jupyter-widgets/controls",
      "_view_module_version": "1.5.0",
      "_view_name": "HBoxView",
      "box_style": "",
      "children": [
       "IPY_MODEL_9a823940919d4e068c01e31276740b0f",
       "IPY_MODEL_9fe2d03a06474596b0547d0410da8064",
       "IPY_MODEL_520b45d5f972463da632a32f96c71ee4"
      ],
      "layout": "IPY_MODEL_911d4b1f888540eb96b8b6a48134f078"
     }
    },
    "9a823940919d4e068c01e31276740b0f": {
     "model_module": "@jupyter-widgets/controls",
     "model_module_version": "1.5.0",
     "model_name": "HTMLModel",
     "state": {
      "_dom_classes": [],
      "_model_module": "@jupyter-widgets/controls",
      "_model_module_version": "1.5.0",
      "_model_name": "HTMLModel",
      "_view_count": null,
      "_view_module": "@jupyter-widgets/controls",
      "_view_module_version": "1.5.0",
      "_view_name": "HTMLView",
      "description": "",
      "description_tooltip": null,
      "layout": "IPY_MODEL_53ccb4062ee94e0c84618143ff39ce05",
      "placeholder": "​",
      "style": "IPY_MODEL_df5b9e6414d449f0961eecec22b16991",
      "value": "100%"
     }
    },
    "9fe2d03a06474596b0547d0410da8064": {
     "model_module": "@jupyter-widgets/controls",
     "model_module_version": "1.5.0",
     "model_name": "FloatProgressModel",
     "state": {
      "_dom_classes": [],
      "_model_module": "@jupyter-widgets/controls",
      "_model_module_version": "1.5.0",
      "_model_name": "FloatProgressModel",
      "_view_count": null,
      "_view_module": "@jupyter-widgets/controls",
      "_view_module_version": "1.5.0",
      "_view_name": "ProgressView",
      "bar_style": "success",
      "description": "",
      "description_tooltip": null,
      "layout": "IPY_MODEL_790f3379b0364c88ae6bdec739b97248",
      "max": 1881,
      "min": 0,
      "orientation": "horizontal",
      "style": "IPY_MODEL_e5a69cc464fe42f6be81a34ed57b1686",
      "value": 1881
     }
    },
    "a194d82dd952480387bf1f599a8e52e5": {
     "model_module": "@jupyter-widgets/base",
     "model_module_version": "1.2.0",
     "model_name": "LayoutModel",
     "state": {
      "_model_module": "@jupyter-widgets/base",
      "_model_module_version": "1.2.0",
      "_model_name": "LayoutModel",
      "_view_count": null,
      "_view_module": "@jupyter-widgets/base",
      "_view_module_version": "1.2.0",
      "_view_name": "LayoutView",
      "align_content": null,
      "align_items": null,
      "align_self": null,
      "border": null,
      "bottom": null,
      "display": null,
      "flex": null,
      "flex_flow": null,
      "grid_area": null,
      "grid_auto_columns": null,
      "grid_auto_flow": null,
      "grid_auto_rows": null,
      "grid_column": null,
      "grid_gap": null,
      "grid_row": null,
      "grid_template_areas": null,
      "grid_template_columns": null,
      "grid_template_rows": null,
      "height": null,
      "justify_content": null,
      "justify_items": null,
      "left": null,
      "margin": null,
      "max_height": null,
      "max_width": null,
      "min_height": null,
      "min_width": null,
      "object_fit": null,
      "object_position": null,
      "order": null,
      "overflow": null,
      "overflow_x": null,
      "overflow_y": null,
      "padding": null,
      "right": null,
      "top": null,
      "visibility": null,
      "width": null
     }
    },
    "bb35a24296ed455a872731cef7333ffb": {
     "model_module": "@jupyter-widgets/base",
     "model_module_version": "1.2.0",
     "model_name": "LayoutModel",
     "state": {
      "_model_module": "@jupyter-widgets/base",
      "_model_module_version": "1.2.0",
      "_model_name": "LayoutModel",
      "_view_count": null,
      "_view_module": "@jupyter-widgets/base",
      "_view_module_version": "1.2.0",
      "_view_name": "LayoutView",
      "align_content": null,
      "align_items": null,
      "align_self": null,
      "border": null,
      "bottom": null,
      "display": null,
      "flex": null,
      "flex_flow": null,
      "grid_area": null,
      "grid_auto_columns": null,
      "grid_auto_flow": null,
      "grid_auto_rows": null,
      "grid_column": null,
      "grid_gap": null,
      "grid_row": null,
      "grid_template_areas": null,
      "grid_template_columns": null,
      "grid_template_rows": null,
      "height": null,
      "justify_content": null,
      "justify_items": null,
      "left": null,
      "margin": null,
      "max_height": null,
      "max_width": null,
      "min_height": null,
      "min_width": null,
      "object_fit": null,
      "object_position": null,
      "order": null,
      "overflow": null,
      "overflow_x": null,
      "overflow_y": null,
      "padding": null,
      "right": null,
      "top": null,
      "visibility": null,
      "width": null
     }
    },
    "d5a7c1d85e63402ebd0c36cb6883ab33": {
     "model_module": "@jupyter-widgets/controls",
     "model_module_version": "1.5.0",
     "model_name": "HTMLModel",
     "state": {
      "_dom_classes": [],
      "_model_module": "@jupyter-widgets/controls",
      "_model_module_version": "1.5.0",
      "_model_name": "HTMLModel",
      "_view_count": null,
      "_view_module": "@jupyter-widgets/controls",
      "_view_module_version": "1.5.0",
      "_view_name": "HTMLView",
      "description": "",
      "description_tooltip": null,
      "layout": "IPY_MODEL_a194d82dd952480387bf1f599a8e52e5",
      "placeholder": "​",
      "style": "IPY_MODEL_4c356887768a4330ab0b0eec28984484",
      "value": " 5001/5001 [01:11&lt;00:00, 106.18it/s]"
     }
    },
    "dc7da92e2f454f79b07c3ca86c3cc9d4": {
     "model_module": "@jupyter-widgets/controls",
     "model_module_version": "1.5.0",
     "model_name": "ProgressStyleModel",
     "state": {
      "_model_module": "@jupyter-widgets/controls",
      "_model_module_version": "1.5.0",
      "_model_name": "ProgressStyleModel",
      "_view_count": null,
      "_view_module": "@jupyter-widgets/base",
      "_view_module_version": "1.2.0",
      "_view_name": "StyleView",
      "bar_color": null,
      "description_width": ""
     }
    },
    "df5b9e6414d449f0961eecec22b16991": {
     "model_module": "@jupyter-widgets/controls",
     "model_module_version": "1.5.0",
     "model_name": "DescriptionStyleModel",
     "state": {
      "_model_module": "@jupyter-widgets/controls",
      "_model_module_version": "1.5.0",
      "_model_name": "DescriptionStyleModel",
      "_view_count": null,
      "_view_module": "@jupyter-widgets/base",
      "_view_module_version": "1.2.0",
      "_view_name": "StyleView",
      "description_width": ""
     }
    },
    "e5a69cc464fe42f6be81a34ed57b1686": {
     "model_module": "@jupyter-widgets/controls",
     "model_module_version": "1.5.0",
     "model_name": "ProgressStyleModel",
     "state": {
      "_model_module": "@jupyter-widgets/controls",
      "_model_module_version": "1.5.0",
      "_model_name": "ProgressStyleModel",
      "_view_count": null,
      "_view_module": "@jupyter-widgets/base",
      "_view_module_version": "1.2.0",
      "_view_name": "StyleView",
      "bar_color": null,
      "description_width": ""
     }
    },
    "e7d3b9b9d1224868988e665b4c677357": {
     "model_module": "@jupyter-widgets/controls",
     "model_module_version": "1.5.0",
     "model_name": "DescriptionStyleModel",
     "state": {
      "_model_module": "@jupyter-widgets/controls",
      "_model_module_version": "1.5.0",
      "_model_name": "DescriptionStyleModel",
      "_view_count": null,
      "_view_module": "@jupyter-widgets/base",
      "_view_module_version": "1.2.0",
      "_view_name": "StyleView",
      "description_width": ""
     }
    },
    "f6d802990a2344db99bf282c663efa5a": {
     "model_module": "@jupyter-widgets/controls",
     "model_module_version": "1.5.0",
     "model_name": "DescriptionStyleModel",
     "state": {
      "_model_module": "@jupyter-widgets/controls",
      "_model_module_version": "1.5.0",
      "_model_name": "DescriptionStyleModel",
      "_view_count": null,
      "_view_module": "@jupyter-widgets/base",
      "_view_module_version": "1.2.0",
      "_view_name": "StyleView",
      "description_width": ""
     }
    },
    "fca0079f6a714ac7885e1474711d7913": {
     "model_module": "@jupyter-widgets/controls",
     "model_module_version": "1.5.0",
     "model_name": "HBoxModel",
     "state": {
      "_dom_classes": [],
      "_model_module": "@jupyter-widgets/controls",
      "_model_module_version": "1.5.0",
      "_model_name": "HBoxModel",
      "_view_count": null,
      "_view_module": "@jupyter-widgets/controls",
      "_view_module_version": "1.5.0",
      "_view_name": "HBoxView",
      "box_style": "",
      "children": [
       "IPY_MODEL_4a9ef407319c43bcb20106c47f0db180",
       "IPY_MODEL_7a0c9eaf1d1e4a56a195dff77a7ed5f9",
       "IPY_MODEL_d5a7c1d85e63402ebd0c36cb6883ab33"
      ],
      "layout": "IPY_MODEL_55e857853048445b87cea2de151ba035"
     }
    }
   }
  }
 },
 "nbformat": 4,
 "nbformat_minor": 5
}
