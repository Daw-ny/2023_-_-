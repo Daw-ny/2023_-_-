{
 "cells": [
  {
   "cell_type": "markdown",
   "id": "k7eulrgaQwYy",
   "metadata": {
    "id": "k7eulrgaQwYy"
   },
   "source": [
    "## Import"
   ]
  },
  {
   "cell_type": "code",
   "execution_count": 1,
   "id": "rBvX-8P2QwYy",
   "metadata": {
    "ExecuteTime": {
     "end_time": "2022-07-11T08:41:57.003103Z",
     "start_time": "2022-07-11T08:41:53.892893Z"
    },
    "executionInfo": {
     "elapsed": 2132,
     "status": "ok",
     "timestamp": 1683473184964,
     "user": {
      "displayName": "이승윤",
      "userId": "17995305622900705411"
     },
     "user_tz": -540
    },
    "id": "rBvX-8P2QwYy"
   },
   "outputs": [],
   "source": [
    "# preprocessing\n",
    "import numpy as np\n",
    "import pandas as pd\n",
    "import tqdm\n",
    "import random\n",
    "import os\n",
    "\n",
    "# imputer\n",
    "from sklearn.experimental import enable_iterative_imputer\n",
    "from sklearn.impute import IterativeImputer\n",
    "from sklearn.preprocessing import LabelEncoder\n",
    "\n",
    "# 경고 무시\n",
    "import warnings\n",
    "warnings.filterwarnings('ignore')\n",
    "\n",
    "# model learning\n",
    "from sklearn.model_selection import train_test_split\n",
    "from supervised.automl import AutoML\n",
    "from sklearn.utils.class_weight import compute_sample_weight\n",
    "\n",
    "# 평가 지표\n",
    "from sklearn.metrics import mean_absolute_error\n",
    "\n",
    "# 모델 저장\n",
    "import pickle"
   ]
  },
  {
   "cell_type": "markdown",
   "id": "QT7_IBn9QwYz",
   "metadata": {
    "id": "QT7_IBn9QwYz"
   },
   "source": [
    "## Fixed Random-Seed"
   ]
  },
  {
   "cell_type": "code",
   "execution_count": 2,
   "id": "KgyHxME7QwYz",
   "metadata": {
    "ExecuteTime": {
     "end_time": "2022-07-11T08:41:57.009050Z",
     "start_time": "2022-07-11T08:41:57.006949Z"
    },
    "executionInfo": {
     "elapsed": 2,
     "status": "ok",
     "timestamp": 1683473189486,
     "user": {
      "displayName": "이승윤",
      "userId": "17995305622900705411"
     },
     "user_tz": -540
    },
    "id": "KgyHxME7QwYz"
   },
   "outputs": [],
   "source": [
    "def seed_everything(seed):\n",
    "    random.seed(seed)\n",
    "    os.environ['PYTHONHASHSEED'] = str(seed)\n",
    "    np.random.seed(seed)\n",
    "\n",
    "seed_everything(42) # Seed 고정"
   ]
  },
  {
   "cell_type": "markdown",
   "id": "a0b96368",
   "metadata": {},
   "source": [
    "## Load Data"
   ]
  },
  {
   "cell_type": "code",
   "execution_count": 3,
   "id": "3979c375",
   "metadata": {},
   "outputs": [],
   "source": [
    "train_df = pd.read_csv('../data/train.csv')\n",
    "test_df = pd.read_csv('../data/test.csv')\n",
    "building_info = pd.read_csv('../data/building_info.csv')"
   ]
  },
  {
   "cell_type": "code",
   "execution_count": 4,
   "id": "78d84d29",
   "metadata": {},
   "outputs": [],
   "source": [
    "translation_dict = {\n",
    "    '건물기타': 'Other Buildings',\n",
    "    '공공': 'Public',\n",
    "    '대학교': 'University',\n",
    "    '데이터센터': 'Data Center',\n",
    "    '백화점및아울렛': 'Department Store and Outlet',\n",
    "    '병원': 'Hospital',\n",
    "    '상용': 'Commercial',\n",
    "    '아파트': 'Apartment',\n",
    "    '연구소': 'Research Institute',\n",
    "    '지식산업센터': 'Knowledge Industry Center',\n",
    "    '할인마트': 'Discount Mart',\n",
    "    '호텔및리조트': 'Hotel and Resort'\n",
    "}\n",
    "\n",
    "building_info['건물유형'] = building_info['건물유형'].replace(translation_dict)\n",
    "# building_info.drop('Unnamed: 0', axis = 1 , inplace=True)"
   ]
  },
  {
   "cell_type": "markdown",
   "id": "d97e1337",
   "metadata": {},
   "source": [
    "## Encoding"
   ]
  },
  {
   "cell_type": "code",
   "execution_count": 5,
   "id": "51a7a3b8",
   "metadata": {},
   "outputs": [],
   "source": [
    "# one hot encoding 생성\n",
    "building_info = pd.get_dummies(building_info, columns=['건물유형'], drop_first=True)"
   ]
  },
  {
   "cell_type": "markdown",
   "id": "5ae00c02",
   "metadata": {},
   "source": [
    "## Merge building info"
   ]
  },
  {
   "cell_type": "code",
   "execution_count": 6,
   "id": "d67ef797",
   "metadata": {},
   "outputs": [],
   "source": [
    "building_info['태양광용량(kW)'][building_info['태양광용량(kW)'] == '-'] = np.nan\n",
    "building_info['ESS저장용량(kWh)'][building_info['ESS저장용량(kWh)'] == '-'] = np.nan\n",
    "building_info['PCS용량(kW)'][building_info['PCS용량(kW)'] == '-'] = np.nan"
   ]
  },
  {
   "cell_type": "code",
   "execution_count": 7,
   "id": "56c0c425",
   "metadata": {},
   "outputs": [],
   "source": [
    "train_df = pd.merge(train_df, building_info, on='건물번호', how='left')\n",
    "test_df = pd.merge(test_df, building_info, on='건물번호', how='left')"
   ]
  },
  {
   "cell_type": "markdown",
   "id": "r-3_zmrwQwYz",
   "metadata": {
    "id": "r-3_zmrwQwYz"
   },
   "source": [
    "## Train Data Pre-Processing"
   ]
  },
  {
   "cell_type": "code",
   "execution_count": 8,
   "id": "c358c077",
   "metadata": {},
   "outputs": [
    {
     "data": {
      "text/plain": [
       "num_date_time                            0\n",
       "건물번호                                     0\n",
       "일시                                       0\n",
       "기온(C)                                    0\n",
       "강수량(mm)                             160069\n",
       "풍속(m/s)                                 19\n",
       "습도(%)                                    9\n",
       "일조(hr)                               75182\n",
       "일사(MJ/m2)                            87913\n",
       "전력소비량(kWh)                               0\n",
       "연면적(m2)                                  0\n",
       "냉방면적(m2)                                 0\n",
       "태양광용량(kW)                           130560\n",
       "ESS저장용량(kWh)                        193800\n",
       "PCS용량(kW)                           193800\n",
       "건물유형_Commercial                          0\n",
       "건물유형_Data Center                         0\n",
       "건물유형_Department Store and Outlet         0\n",
       "건물유형_Discount Mart                       0\n",
       "건물유형_Hospital                            0\n",
       "건물유형_Hotel and Resort                    0\n",
       "건물유형_Knowledge Industry Center           0\n",
       "건물유형_Other Buildings                     0\n",
       "건물유형_Public                              0\n",
       "건물유형_Research Institute                  0\n",
       "건물유형_University                          0\n",
       "dtype: int64"
      ]
     },
     "execution_count": 8,
     "metadata": {},
     "output_type": "execute_result"
    }
   ],
   "source": [
    "train_df.isna().sum()"
   ]
  },
  {
   "cell_type": "markdown",
   "id": "72dcd233",
   "metadata": {},
   "source": [
    "- 결측치가 시급하다. 아무리봐도 처리 해야할 것 같다."
   ]
  },
  {
   "cell_type": "code",
   "execution_count": 9,
   "id": "5e6cae2e",
   "metadata": {},
   "outputs": [],
   "source": [
    "#시계열 특성을 학습에 반영하기 위해 일시를 월, 일, 시간으로 나눕니다\n",
    "train_df['월'] = train_df['일시'].apply(lambda x : int(x[4:6]))\n",
    "train_df['일'] = train_df['일시'].apply(lambda x : int(x[6:8]))\n",
    "train_df['시'] = train_df['일시'].apply(lambda x : int(x[9:11]))"
   ]
  },
  {
   "cell_type": "code",
   "execution_count": 10,
   "id": "10a29c1a",
   "metadata": {},
   "outputs": [],
   "source": [
    "train_df['일시'] = pd.to_datetime(train_df['일시'], format='%Y%m%d %H')"
   ]
  },
  {
   "cell_type": "code",
   "execution_count": 11,
   "id": "5db467cb",
   "metadata": {},
   "outputs": [],
   "source": [
    "# 요일 추가 (0이 월요일 6이 일요일)\n",
    "train_df['주'] = train_df['일시'].dt.dayofweek"
   ]
  },
  {
   "cell_type": "code",
   "execution_count": 12,
   "id": "ea73aaba",
   "metadata": {},
   "outputs": [],
   "source": [
    "# 변수 정리\n",
    "train_df2 = train_df.drop(columns=['num_date_time', '일시', '일조(hr)', '일사(MJ/m2)',\n",
    "                                 '태양광용량(kW)','ESS저장용량(kWh)','PCS용량(kW)', '강수량(mm)'])"
   ]
  },
  {
   "cell_type": "code",
   "execution_count": 13,
   "id": "4f4779c5",
   "metadata": {},
   "outputs": [],
   "source": [
    "# 강수량 결측치는 0으로 보정 -> 비 안왔을것이라 예상하고 진행함\n",
    "# train_df2['강수량(mm)'][train_df2['강수량(mm)'].isna()] = 0"
   ]
  },
  {
   "cell_type": "code",
   "execution_count": 14,
   "id": "77cca1b7",
   "metadata": {},
   "outputs": [],
   "source": [
    "# imputation for mice\n",
    "imputer_mice = IterativeImputer(random_state=42)\n",
    "imputer_mice.fit(train_df2)\n",
    "\n",
    "# 데이터 변환 (array로 반환하기 때문에 필요에 맞는 형태로 변환 후 사용)\n",
    "train_df2 = pd.DataFrame(imputer_mice.transform(train_df2),\n",
    "                         columns=train_df2.columns)"
   ]
  },
  {
   "cell_type": "markdown",
   "id": "43512dd9",
   "metadata": {},
   "source": [
    "## Change Name"
   ]
  },
  {
   "cell_type": "code",
   "execution_count": 15,
   "id": "52698cb9",
   "metadata": {},
   "outputs": [
    {
     "data": {
      "text/plain": [
       "Index(['건물번호', '기온(C)', '풍속(m/s)', '습도(%)', '전력소비량(kWh)', '연면적(m2)',\n",
       "       '냉방면적(m2)', '건물유형_Commercial', '건물유형_Data Center',\n",
       "       '건물유형_Department Store and Outlet', '건물유형_Discount Mart',\n",
       "       '건물유형_Hospital', '건물유형_Hotel and Resort',\n",
       "       '건물유형_Knowledge Industry Center', '건물유형_Other Buildings', '건물유형_Public',\n",
       "       '건물유형_Research Institute', '건물유형_University', '월', '일', '시', '주'],\n",
       "      dtype='object')"
      ]
     },
     "execution_count": 15,
     "metadata": {},
     "output_type": "execute_result"
    }
   ],
   "source": [
    "train_df2.columns"
   ]
  },
  {
   "cell_type": "code",
   "execution_count": 16,
   "id": "6ef1f8bd",
   "metadata": {},
   "outputs": [],
   "source": [
    "train_df2.columns = ['건물번호', '기온', '풍속', '습도', '전력소비량', '연면적',\n",
    "       '냉방면적', 'Commercial', 'Data Center',\n",
    "       'Department Store and Outlet', 'Discount Mart',\n",
    "       'Hospital', 'Hotel and Resort',\n",
    "       'Knowledge Industry Center', 'Other Buildings', 'Public',\n",
    "       'Research Institute', 'University', '월', '일', '시', '주']"
   ]
  },
  {
   "cell_type": "markdown",
   "id": "7eba5985",
   "metadata": {},
   "source": [
    "## Append Value"
   ]
  },
  {
   "cell_type": "code",
   "execution_count": 17,
   "id": "1dcde3e7",
   "metadata": {},
   "outputs": [
    {
     "data": {
      "text/plain": [
       "건물번호                           0\n",
       "기온                             0\n",
       "풍속                             0\n",
       "습도                             0\n",
       "전력소비량                          0\n",
       "연면적                            0\n",
       "냉방면적                           0\n",
       "Commercial                     0\n",
       "Data Center                    0\n",
       "Department Store and Outlet    0\n",
       "Discount Mart                  0\n",
       "Hospital                       0\n",
       "Hotel and Resort               0\n",
       "Knowledge Industry Center      0\n",
       "Other Buildings                0\n",
       "Public                         0\n",
       "Research Institute             0\n",
       "University                     0\n",
       "월                              0\n",
       "일                              0\n",
       "시                              0\n",
       "주                              0\n",
       "dtype: int64"
      ]
     },
     "execution_count": 17,
     "metadata": {},
     "output_type": "execute_result"
    }
   ],
   "source": [
    "train_df2.isna().sum()"
   ]
  },
  {
   "cell_type": "code",
   "execution_count": 18,
   "id": "f46d03f3",
   "metadata": {},
   "outputs": [],
   "source": [
    "# 체감온도(℃)\n",
    "train_df2['체감온도'] = 13.12 + 0.6215*train_df2['기온'] - 11.37*(train_df2['풍속']**0.16) + 0.3965*(train_df2['풍속']**0.16)*(train_df2['기온'])"
   ]
  },
  {
   "cell_type": "code",
   "execution_count": 19,
   "id": "01db2158",
   "metadata": {},
   "outputs": [],
   "source": [
    "# 온도에 따른 포화 수증기압(mb)\n",
    "train_df2['포화수증기압'] = 6.11*10**((7.5*train_df2['기온'])/(237.3 + train_df2['기온']))"
   ]
  },
  {
   "cell_type": "code",
   "execution_count": 20,
   "id": "41eba007",
   "metadata": {},
   "outputs": [],
   "source": [
    "# 현재 대기의 수증기압(mb)\n",
    "train_df2['대기압'] = train_df2['습도'] * train_df2['포화수증기압'] / 100"
   ]
  },
  {
   "cell_type": "code",
   "execution_count": 21,
   "id": "6a84b061",
   "metadata": {},
   "outputs": [],
   "source": [
    "# 절대습도(g/m^3)\n",
    "train_df2['절대습도'] = (0.794*train_df2['대기압'])/(1+0.00366*train_df2['기온'])"
   ]
  },
  {
   "cell_type": "code",
   "execution_count": 22,
   "id": "8741d129",
   "metadata": {},
   "outputs": [],
   "source": [
    "# 공기중의 혼합비(mb)\n",
    "train_df2['혼합비'] = 0.622 * train_df2['대기압']/(1013.25 - train_df2['대기압'])"
   ]
  },
  {
   "cell_type": "code",
   "execution_count": 23,
   "id": "b8130d86",
   "metadata": {},
   "outputs": [],
   "source": [
    "# 습구온도\n",
    "train_df2['습구온도'] = train_df2['기온']*np.arctan(0.151977+(train_df2['습도'] + 8.313659)**0.5) + np.arctan(train_df2['기온'] + train_df2['습도']) - np.arctan(train_df2['습도'] - 1.676331) +0.00391838*(train_df2['습도']**1.5)*np.arctan(0.023101*train_df2['습도'])-4.686035"
   ]
  },
  {
   "cell_type": "code",
   "execution_count": 24,
   "id": "4c80407d",
   "metadata": {},
   "outputs": [],
   "source": [
    "# 불쾌지수\n",
    "train_df2['불쾌지수'] = 9/5*train_df2['기온'] - 0.55*(1-0.01*train_df2['습도'])*(9/5*train_df2['기온'] - 26) + 32"
   ]
  },
  {
   "cell_type": "code",
   "execution_count": 25,
   "id": "03c978c0",
   "metadata": {},
   "outputs": [],
   "source": [
    "# 더위체감지수\n",
    "train_df2['더위체감지수'] = -0.24418 + 0.553991*train_df2['습구온도'] + 0.455346*train_df2['기온'] - 0.00217*train_df2['습구온도']**2 + 0.002782*train_df2['습구온도']*train_df2['기온']"
   ]
  },
  {
   "cell_type": "code",
   "execution_count": 26,
   "id": "420da51a",
   "metadata": {},
   "outputs": [],
   "source": [
    "# 열지수\n",
    "train_df2['열지수'] = (5/9)*(-42.379 + (2.04901523 * ((9/5)*train_df2['기온']+32)) + (10.14333127 * train_df2['습도']) - (0.22475541 * ((9/5)*train_df2['기온']+32)*train_df2['습도']) - (6.83783e-3 * ((9/5)*train_df2['기온']+32)**2) - (5.481717e-2 * train_df2['습도']**2) + (1.22874e-3 * ((9/5)*train_df2['기온']+32)**2*train_df2['습도']) + (8.5282e-4 * ((9/5)*train_df2['기온']+32)*train_df2['습도']**2) - (1.99e-6 * ((9/5)*train_df2['기온']+32)**2*train_df2['습도']**2) - 32)"
   ]
  },
  {
   "cell_type": "code",
   "execution_count": 27,
   "id": "e8c0a111",
   "metadata": {},
   "outputs": [],
   "source": [
    "# 훈련 및 테스트 데이터 셋\n",
    "train_x = train_df2[train_df2.columns.difference(['전력소비량'])]\n",
    "train_y = train_df2['전력소비량']"
   ]
  },
  {
   "cell_type": "code",
   "execution_count": 28,
   "id": "c80947a8",
   "metadata": {},
   "outputs": [
    {
     "data": {
      "text/plain": [
       "Index(['Commercial', 'Data Center', 'Department Store and Outlet',\n",
       "       'Discount Mart', 'Hospital', 'Hotel and Resort',\n",
       "       'Knowledge Industry Center', 'Other Buildings', 'Public',\n",
       "       'Research Institute', 'University', '건물번호', '기온', '냉방면적', '대기압',\n",
       "       '더위체감지수', '불쾌지수', '습구온도', '습도', '시', '연면적', '열지수', '월', '일', '절대습도',\n",
       "       '주', '체감온도', '포화수증기압', '풍속', '혼합비'],\n",
       "      dtype='object')"
      ]
     },
     "execution_count": 28,
     "metadata": {},
     "output_type": "execute_result"
    }
   ],
   "source": [
    "train_x.columns"
   ]
  },
  {
   "cell_type": "code",
   "execution_count": 29,
   "id": "4df4a3a0",
   "metadata": {},
   "outputs": [],
   "source": [
    "train_x.columns = ['Commercial', 'Data Center', 'Department Store and Outlet',\n",
    "       'Discount Mart', 'Hospital', 'Hotel and Resort',\n",
    "       'Knowledge Industry Center', 'Other Buildings', 'Public',\n",
    "       'Research Institute', 'University','buildnum', 'temperature', 'icearea', 'air', 'hotskinindex', 'madindex', 'humidtemp',\n",
    "       'humid', 'hh', 'area', 'heatindex', 'mm', 'dd', 'abshumid', 'week', 'skinindex', 'humidairpressure', 'wind',\n",
    "       'mixture']"
   ]
  },
  {
   "cell_type": "code",
   "execution_count": 30,
   "id": "6f677e84",
   "metadata": {},
   "outputs": [],
   "source": [
    "train_y.name = 'power'"
   ]
  },
  {
   "cell_type": "code",
   "execution_count": 31,
   "id": "9fd98d43",
   "metadata": {},
   "outputs": [],
   "source": [
    "train_y_root_twice = train_y**0.25"
   ]
  },
  {
   "cell_type": "markdown",
   "id": "ZC7hzMtOQwY0",
   "metadata": {
    "id": "ZC7hzMtOQwY0"
   },
   "source": [
    "## Regression Model Fit"
   ]
  },
  {
   "cell_type": "code",
   "execution_count": 32,
   "id": "ab705b0a",
   "metadata": {},
   "outputs": [],
   "source": [
    "# smape\n",
    "def smape(y_true, y_predicted, sample_weight=None):\n",
    "    score = 100 / len(y_true) * np.sum(np.abs(y_predicted - y_true) / (np.abs(y_true) + np.abs(y_predicted)))\n",
    "    return score"
   ]
  },
  {
   "cell_type": "code",
   "execution_count": 33,
   "id": "ce2eaf6c",
   "metadata": {},
   "outputs": [
    {
     "data": {
      "text/plain": [
       "supervised.automl.AutoML"
      ]
     },
     "execution_count": 33,
     "metadata": {},
     "output_type": "execute_result"
    }
   ],
   "source": [
    "AutoML"
   ]
  },
  {
   "cell_type": "code",
   "execution_count": 34,
   "id": "1aX-3v6JrpX6",
   "metadata": {
    "colab": {
     "base_uri": "https://localhost:8080/",
     "height": 75
    },
    "executionInfo": {
     "elapsed": 22,
     "status": "ok",
     "timestamp": 1683473315989,
     "user": {
      "displayName": "이승윤",
      "userId": "17995305622900705411"
     },
     "user_tz": -540
    },
    "id": "1aX-3v6JrpX6",
    "outputId": "99876b02-be42-4e2a-8b13-844328b558fe"
   },
   "outputs": [],
   "source": [
    "# automl modeling\n",
    "automl = AutoML(mode=\"Compete\",\n",
    "                total_time_limit = 3600,\n",
    "                algorithms=[\"Baseline\",\n",
    "                            \"CatBoost\",\n",
    "                            \"Xgboost\",\n",
    "                            \"Random Forest\",\n",
    "                            \"Extra Trees\",\n",
    "                            \"LightGBM\",\n",
    "                            \"Neural Network\",\n",
    "                            \"CatBoost\"],\n",
    "                ml_task = \"regression\",\n",
    "                eval_metric = 'mae',\n",
    "                random_state = 42,\n",
    "                results_path = '../model/AutoML_UpValue/'\n",
    "               )"
   ]
  },
  {
   "cell_type": "code",
   "execution_count": 35,
   "id": "f587fb63",
   "metadata": {
    "scrolled": false
   },
   "outputs": [
    {
     "name": "stdout",
     "output_type": "stream",
     "text": [
      "AutoML directory: ../model/AutoML_UpValue/\n",
      "The task is regression with evaluation metric mae\n",
      "AutoML will use algorithms: ['Baseline', 'CatBoost', 'Xgboost', 'Random Forest', 'Extra Trees', 'LightGBM', 'Neural Network', 'CatBoost']\n",
      "AutoML will stack models\n",
      "AutoML will ensemble available models\n",
      "AutoML steps: ['adjust_validation', 'simple_algorithms', 'default_algorithms', 'not_so_random', 'golden_features', 'kmeans_features', 'insert_random_feature', 'features_selection', 'hill_climbing_1', 'hill_climbing_2', 'boost_on_errors', 'ensemble', 'stack', 'ensemble_stacked']\n",
      "* Step adjust_validation will try to check up to 1 model\n",
      "1_DecisionTree mae 0.692193 trained in 2.05 seconds\n",
      "Adjust validation. Remove: 1_DecisionTree\n",
      "Validation strategy: 10-fold CV Shuffle\n",
      "* Step simple_algorithms will try to check up to 1 model\n",
      "1_Baseline mae 1.00311 trained in 5.78 seconds\n",
      "* Step default_algorithms will try to check up to 6 models\n",
      "2_Default_LightGBM mae 0.059964 trained in 1863.55 seconds\n",
      "Skip not_so_random because of the time limit.\n",
      "* Step golden_features will try to check up to 1 model\n",
      "None 10\n",
      "Add Golden Feature: area_sum_icearea\n",
      "Add Golden Feature: mixture_sum_buildnum\n",
      "Add Golden Feature: buildnum_diff_mixture\n",
      "Add Golden Feature: Commercial_diff_buildnum\n",
      "Add Golden Feature: Hospital_diff_buildnum\n",
      "Add Golden Feature: Knowledge Industry Center_diff_buildnum\n",
      "Add Golden Feature: Other Buildings_diff_buildnum\n",
      "Add Golden Feature: Discount Mart_diff_buildnum\n",
      "Add Golden Feature: Research Institute_diff_buildnum\n",
      "Add Golden Feature: Public_diff_buildnum\n",
      "Created 10 Golden Features in 15.13 seconds.\n",
      "1_Baseline_GoldenFeatures mae 1.00311 trained in 21.19 seconds\n",
      "* Step kmeans_features will try to check up to 1 model\n",
      "1_Baseline_KMeansFeatures mae 1.00311 trained in 25.77 seconds\n",
      "* Step insert_random_feature will try to check up to 1 model\n",
      "1_Baseline_RandomFeature mae 1.00311 trained in 4.73 seconds\n",
      "Skip features_selection because no parameters were generated.\n",
      "* Step hill_climbing_1 will try to check up to 2 models\n",
      "* Step hill_climbing_2 will try to check up to 2 models\n",
      "* Step boost_on_errors will try to check up to 1 model\n",
      "1_Baseline_BoostOnErrors mae 1.003773 trained in 4.58 seconds\n",
      "* Step ensemble will try to check up to 1 model\n",
      "Ensemble mae 0.059964 trained in 0.36 seconds\n",
      "* Step stack will try to check up to 1 model\n",
      "2_Default_LightGBM_Stacked mae 0.058168 trained in 177.44 seconds\n",
      "* Step ensemble_stacked will try to check up to 1 model\n",
      "Ensemble_Stacked mae 0.058032 trained in 0.52 seconds\n",
      "AutoML fit time: 2123.63 seconds\n",
      "AutoML best model: Ensemble_Stacked\n"
     ]
    },
    {
     "data": {
      "text/plain": [
       "AutoML(algorithms=['Baseline', 'CatBoost', 'Xgboost', 'Random Forest',\n",
       "                   'Extra Trees', 'LightGBM', 'Neural Network', 'CatBoost'],\n",
       "       eval_metric='mae', ml_task='regression', mode='Compete', random_state=42,\n",
       "       results_path='../model/AutoML_UpValue/')"
      ]
     },
     "execution_count": 35,
     "metadata": {},
     "output_type": "execute_result"
    }
   ],
   "source": [
    "# fitting\n",
    "automl.fit(train_x, train_y_root_twice)"
   ]
  },
  {
   "cell_type": "markdown",
   "id": "e59c15c2",
   "metadata": {},
   "source": [
    "## Test Data Pre-Processing"
   ]
  },
  {
   "cell_type": "code",
   "execution_count": 36,
   "id": "4ef9d2af",
   "metadata": {},
   "outputs": [],
   "source": [
    "test_df['월'] = test_df['일시'].apply(lambda x : int(x[4:6]))\n",
    "test_df['일'] = test_df['일시'].apply(lambda x : int(x[6:8]))\n",
    "test_df['시'] = test_df['일시'].apply(lambda x : int(x[9:11]))"
   ]
  },
  {
   "cell_type": "code",
   "execution_count": 37,
   "id": "6b2c409b",
   "metadata": {},
   "outputs": [],
   "source": [
    "test_df['일시'] = pd.to_datetime(test_df['일시'], format='%Y%m%d %H')"
   ]
  },
  {
   "cell_type": "code",
   "execution_count": 38,
   "id": "d807185f",
   "metadata": {},
   "outputs": [],
   "source": [
    "# 요일 추가 (0이 월요일 6이 일요일)\n",
    "test_df['주'] = test_df['일시'].dt.dayofweek"
   ]
  },
  {
   "cell_type": "code",
   "execution_count": 39,
   "id": "3ffcb2ae",
   "metadata": {},
   "outputs": [],
   "source": [
    "# 변수 정리\n",
    "test_df2 = test_df.drop(columns=['num_date_time', '일시',\n",
    "                                 '태양광용량(kW)','ESS저장용량(kWh)','PCS용량(kW)','강수량(mm)'])"
   ]
  },
  {
   "cell_type": "markdown",
   "id": "4f9d2d3c",
   "metadata": {},
   "source": [
    "- test는 결측치가 없기 때문에 impute 안해도됨."
   ]
  },
  {
   "cell_type": "markdown",
   "id": "612ceae5",
   "metadata": {},
   "source": [
    "## Change Name"
   ]
  },
  {
   "cell_type": "code",
   "execution_count": 40,
   "id": "cad39af3",
   "metadata": {},
   "outputs": [
    {
     "data": {
      "text/plain": [
       "Index(['건물번호', '기온(C)', '풍속(m/s)', '습도(%)', '연면적(m2)', '냉방면적(m2)',\n",
       "       '건물유형_Commercial', '건물유형_Data Center',\n",
       "       '건물유형_Department Store and Outlet', '건물유형_Discount Mart',\n",
       "       '건물유형_Hospital', '건물유형_Hotel and Resort',\n",
       "       '건물유형_Knowledge Industry Center', '건물유형_Other Buildings', '건물유형_Public',\n",
       "       '건물유형_Research Institute', '건물유형_University', '월', '일', '시', '주'],\n",
       "      dtype='object')"
      ]
     },
     "execution_count": 40,
     "metadata": {},
     "output_type": "execute_result"
    }
   ],
   "source": [
    "test_df2.columns"
   ]
  },
  {
   "cell_type": "code",
   "execution_count": 41,
   "id": "fc860a73",
   "metadata": {},
   "outputs": [],
   "source": [
    "test_df2.columns = ['건물번호', '기온', '풍속', '습도', '연면적', '냉방면적',\n",
    "       'Commercial', 'Data Center',\n",
    "       'Department Store and Outlet', 'Discount Mart',\n",
    "       'Hospital', 'Hotel and Resort',\n",
    "       'Knowledge Industry Center', 'Other Buildings', 'Public',\n",
    "       'Research Institute', 'University', '월', '일', '시', '주']"
   ]
  },
  {
   "cell_type": "markdown",
   "id": "8a7096fc",
   "metadata": {},
   "source": [
    "## Append Value"
   ]
  },
  {
   "cell_type": "code",
   "execution_count": 42,
   "id": "328ace80",
   "metadata": {},
   "outputs": [],
   "source": [
    "# 체감온도(℃)\n",
    "test_df2['체감온도'] = 13.12 + 0.6215*test_df2['기온'] - 11.37*(test_df2['풍속']**0.16) + 0.3965*(test_df2['풍속']**0.16)*(test_df2['기온'])"
   ]
  },
  {
   "cell_type": "code",
   "execution_count": 43,
   "id": "12e36f72",
   "metadata": {},
   "outputs": [],
   "source": [
    "# 온도에 따른 포화 수증기압(mb)\n",
    "test_df2['포화수증기압'] = 6.11*10**((7.5*test_df2['기온'])/(237.3 + test_df2['기온']))"
   ]
  },
  {
   "cell_type": "code",
   "execution_count": 44,
   "id": "72352918",
   "metadata": {},
   "outputs": [],
   "source": [
    "# 현재 대기의 수증기압(mb)\n",
    "test_df2['대기압'] = test_df2['습도'] * test_df2['포화수증기압'] / 100"
   ]
  },
  {
   "cell_type": "code",
   "execution_count": 45,
   "id": "a44cbfb5",
   "metadata": {},
   "outputs": [],
   "source": [
    "# 절대습도(g/m^3)\n",
    "test_df2['절대습도'] = (0.794*test_df2['대기압'])/(1+0.00366*test_df2['기온'])"
   ]
  },
  {
   "cell_type": "code",
   "execution_count": 46,
   "id": "b62398c5",
   "metadata": {},
   "outputs": [],
   "source": [
    "# 공기중의 혼합비(mb)\n",
    "test_df2['혼합비'] = 0.622 * test_df2['대기압']/(1013.25 - test_df2['대기압'])"
   ]
  },
  {
   "cell_type": "code",
   "execution_count": 47,
   "id": "238a44d4",
   "metadata": {},
   "outputs": [],
   "source": [
    "# 습구온도\n",
    "test_df2['습구온도'] = test_df2['기온']*np.arctan(0.151977+(test_df2['습도'] + 8.313659)**0.5) + np.arctan(test_df2['기온'] + test_df2['습도']) - np.arctan(test_df2['습도'] - 1.676331) +0.00391838*(test_df2['습도']**1.5)*np.arctan(0.023101*test_df2['습도'])-4.686035"
   ]
  },
  {
   "cell_type": "code",
   "execution_count": 48,
   "id": "b8152801",
   "metadata": {},
   "outputs": [],
   "source": [
    "# 불쾌지수\n",
    "test_df2['불쾌지수'] = 9/5*test_df2['기온'] - 0.55*(1-0.01*test_df2['습도'])*(9/5*test_df2['기온'] - 26) + 32"
   ]
  },
  {
   "cell_type": "code",
   "execution_count": 49,
   "id": "ebc89e1f",
   "metadata": {},
   "outputs": [],
   "source": [
    "# 더위체감지수\n",
    "test_df2['더위체감지수'] = -0.24418 + 0.553991*test_df2['습구온도'] + 0.455346*test_df2['기온'] - 0.00217*test_df2['습구온도']**2 + 0.002782*test_df2['습구온도']*test_df2['기온']"
   ]
  },
  {
   "cell_type": "code",
   "execution_count": 50,
   "id": "e293fdd7",
   "metadata": {},
   "outputs": [],
   "source": [
    "# 열지수\n",
    "test_df2['열지수'] = (5/9)*(-42.379 + (2.04901523 * ((9/5)*test_df2['기온']+32)) + (10.14333127 * test_df2['습도']) - (0.22475541 * ((9/5)*test_df2['기온']+32)*test_df2['습도']) - (6.83783e-3 * ((9/5)*test_df2['기온']+32)**2) - (5.481717e-2 * test_df2['습도']**2) + (1.22874e-3 * ((9/5)*test_df2['기온']+32)**2*test_df2['습도']) + (8.5282e-4 * ((9/5)*test_df2['기온']+32)*test_df2['습도']**2) - (1.99e-6 * ((9/5)*test_df2['기온']+32)**2*test_df2['습도']**2) - 32)"
   ]
  },
  {
   "cell_type": "code",
   "execution_count": 51,
   "id": "c6379988",
   "metadata": {},
   "outputs": [],
   "source": [
    "test_x = test_df2[['Commercial', 'Data Center', 'Department Store and Outlet',\n",
    "       'Discount Mart', 'Hospital', 'Hotel and Resort',\n",
    "       'Knowledge Industry Center', 'Other Buildings', 'Public',\n",
    "       'Research Institute', 'University', '건물번호', '기온', '냉방면적', '대기압',\n",
    "       '더위체감지수', '불쾌지수', '습구온도', '습도', '시', '연면적', '열지수', '월', '일', '절대습도',\n",
    "       '주', '체감온도', '포화수증기압', '풍속', '혼합비']]"
   ]
  },
  {
   "cell_type": "code",
   "execution_count": 52,
   "id": "2bfa4a7c",
   "metadata": {
    "scrolled": true
   },
   "outputs": [
    {
     "data": {
      "text/plain": [
       "Index(['Commercial', 'Data Center', 'Department Store and Outlet',\n",
       "       'Discount Mart', 'Hospital', 'Hotel and Resort',\n",
       "       'Knowledge Industry Center', 'Other Buildings', 'Public',\n",
       "       'Research Institute', 'University', '건물번호', '기온', '냉방면적', '대기압',\n",
       "       '더위체감지수', '불쾌지수', '습구온도', '습도', '시', '연면적', '열지수', '월', '일', '절대습도',\n",
       "       '주', '체감온도', '포화수증기압', '풍속', '혼합비'],\n",
       "      dtype='object')"
      ]
     },
     "execution_count": 52,
     "metadata": {},
     "output_type": "execute_result"
    }
   ],
   "source": [
    "test_x.columns"
   ]
  },
  {
   "cell_type": "code",
   "execution_count": 53,
   "id": "2f36ee5d",
   "metadata": {},
   "outputs": [],
   "source": [
    "test_x.columns = ['Commercial', 'Data Center', 'Department Store and Outlet',\n",
    "       'Discount Mart', 'Hospital', 'Hotel and Resort',\n",
    "       'Knowledge Industry Center', 'Other Buildings', 'Public',\n",
    "       'Research Institute', 'University','buildnum', 'temperature', 'icearea', 'air', 'hotskinindex', 'madindex', 'humidtemp',\n",
    "       'humid', 'hh', 'area', 'heatindex', 'mm', 'dd', 'abshumid', 'week', 'skinindex', 'humidairpressure', 'wind',\n",
    "       'mixture']"
   ]
  },
  {
   "cell_type": "markdown",
   "id": "Uj-WTX6oQwY0",
   "metadata": {
    "id": "Uj-WTX6oQwY0"
   },
   "source": [
    "## Inference"
   ]
  },
  {
   "cell_type": "code",
   "execution_count": 54,
   "id": "ENCOoU00QwY0",
   "metadata": {
    "executionInfo": {
     "elapsed": 7,
     "status": "ok",
     "timestamp": 1683473315989,
     "user": {
      "displayName": "이승윤",
      "userId": "17995305622900705411"
     },
     "user_tz": -540
    },
    "id": "ENCOoU00QwY0"
   },
   "outputs": [],
   "source": [
    "preds = automl.predict(test_x)"
   ]
  },
  {
   "cell_type": "markdown",
   "id": "5FMPeTISQwY0",
   "metadata": {
    "id": "5FMPeTISQwY0"
   },
   "source": [
    "## Submission"
   ]
  },
  {
   "cell_type": "code",
   "execution_count": 55,
   "id": "AXO-EmaQQwY0",
   "metadata": {
    "executionInfo": {
     "elapsed": 368,
     "status": "ok",
     "timestamp": 1683473316927,
     "user": {
      "displayName": "이승윤",
      "userId": "17995305622900705411"
     },
     "user_tz": -540
    },
    "id": "AXO-EmaQQwY0"
   },
   "outputs": [
    {
     "data": {
      "text/html": [
       "<div>\n",
       "<style scoped>\n",
       "    .dataframe tbody tr th:only-of-type {\n",
       "        vertical-align: middle;\n",
       "    }\n",
       "\n",
       "    .dataframe tbody tr th {\n",
       "        vertical-align: top;\n",
       "    }\n",
       "\n",
       "    .dataframe thead th {\n",
       "        text-align: right;\n",
       "    }\n",
       "</style>\n",
       "<table border=\"1\" class=\"dataframe\">\n",
       "  <thead>\n",
       "    <tr style=\"text-align: right;\">\n",
       "      <th></th>\n",
       "      <th>num_date_time</th>\n",
       "      <th>answer</th>\n",
       "    </tr>\n",
       "  </thead>\n",
       "  <tbody>\n",
       "    <tr>\n",
       "      <th>0</th>\n",
       "      <td>1_20220825 00</td>\n",
       "      <td>0</td>\n",
       "    </tr>\n",
       "    <tr>\n",
       "      <th>1</th>\n",
       "      <td>1_20220825 01</td>\n",
       "      <td>0</td>\n",
       "    </tr>\n",
       "    <tr>\n",
       "      <th>2</th>\n",
       "      <td>1_20220825 02</td>\n",
       "      <td>0</td>\n",
       "    </tr>\n",
       "    <tr>\n",
       "      <th>3</th>\n",
       "      <td>1_20220825 03</td>\n",
       "      <td>0</td>\n",
       "    </tr>\n",
       "    <tr>\n",
       "      <th>4</th>\n",
       "      <td>1_20220825 04</td>\n",
       "      <td>0</td>\n",
       "    </tr>\n",
       "    <tr>\n",
       "      <th>...</th>\n",
       "      <td>...</td>\n",
       "      <td>...</td>\n",
       "    </tr>\n",
       "    <tr>\n",
       "      <th>16795</th>\n",
       "      <td>100_20220831 19</td>\n",
       "      <td>0</td>\n",
       "    </tr>\n",
       "    <tr>\n",
       "      <th>16796</th>\n",
       "      <td>100_20220831 20</td>\n",
       "      <td>0</td>\n",
       "    </tr>\n",
       "    <tr>\n",
       "      <th>16797</th>\n",
       "      <td>100_20220831 21</td>\n",
       "      <td>0</td>\n",
       "    </tr>\n",
       "    <tr>\n",
       "      <th>16798</th>\n",
       "      <td>100_20220831 22</td>\n",
       "      <td>0</td>\n",
       "    </tr>\n",
       "    <tr>\n",
       "      <th>16799</th>\n",
       "      <td>100_20220831 23</td>\n",
       "      <td>0</td>\n",
       "    </tr>\n",
       "  </tbody>\n",
       "</table>\n",
       "<p>16800 rows × 2 columns</p>\n",
       "</div>"
      ],
      "text/plain": [
       "         num_date_time  answer\n",
       "0        1_20220825 00       0\n",
       "1        1_20220825 01       0\n",
       "2        1_20220825 02       0\n",
       "3        1_20220825 03       0\n",
       "4        1_20220825 04       0\n",
       "...                ...     ...\n",
       "16795  100_20220831 19       0\n",
       "16796  100_20220831 20       0\n",
       "16797  100_20220831 21       0\n",
       "16798  100_20220831 22       0\n",
       "16799  100_20220831 23       0\n",
       "\n",
       "[16800 rows x 2 columns]"
      ]
     },
     "execution_count": 55,
     "metadata": {},
     "output_type": "execute_result"
    }
   ],
   "source": [
    "submission = pd.read_csv('../data/sample_submission.csv')\n",
    "submission"
   ]
  },
  {
   "cell_type": "code",
   "execution_count": 56,
   "id": "a4bfa9ac",
   "metadata": {},
   "outputs": [
    {
     "data": {
      "text/html": [
       "<div>\n",
       "<style scoped>\n",
       "    .dataframe tbody tr th:only-of-type {\n",
       "        vertical-align: middle;\n",
       "    }\n",
       "\n",
       "    .dataframe tbody tr th {\n",
       "        vertical-align: top;\n",
       "    }\n",
       "\n",
       "    .dataframe thead th {\n",
       "        text-align: right;\n",
       "    }\n",
       "</style>\n",
       "<table border=\"1\" class=\"dataframe\">\n",
       "  <thead>\n",
       "    <tr style=\"text-align: right;\">\n",
       "      <th></th>\n",
       "      <th>num_date_time</th>\n",
       "      <th>answer</th>\n",
       "    </tr>\n",
       "  </thead>\n",
       "  <tbody>\n",
       "    <tr>\n",
       "      <th>0</th>\n",
       "      <td>1_20220825 00</td>\n",
       "      <td>2090.829482</td>\n",
       "    </tr>\n",
       "    <tr>\n",
       "      <th>1</th>\n",
       "      <td>1_20220825 01</td>\n",
       "      <td>2150.440273</td>\n",
       "    </tr>\n",
       "    <tr>\n",
       "      <th>2</th>\n",
       "      <td>1_20220825 02</td>\n",
       "      <td>1994.058556</td>\n",
       "    </tr>\n",
       "    <tr>\n",
       "      <th>3</th>\n",
       "      <td>1_20220825 03</td>\n",
       "      <td>1806.047785</td>\n",
       "    </tr>\n",
       "    <tr>\n",
       "      <th>4</th>\n",
       "      <td>1_20220825 04</td>\n",
       "      <td>1779.849622</td>\n",
       "    </tr>\n",
       "    <tr>\n",
       "      <th>...</th>\n",
       "      <td>...</td>\n",
       "      <td>...</td>\n",
       "    </tr>\n",
       "    <tr>\n",
       "      <th>16795</th>\n",
       "      <td>100_20220831 19</td>\n",
       "      <td>907.067036</td>\n",
       "    </tr>\n",
       "    <tr>\n",
       "      <th>16796</th>\n",
       "      <td>100_20220831 20</td>\n",
       "      <td>862.938483</td>\n",
       "    </tr>\n",
       "    <tr>\n",
       "      <th>16797</th>\n",
       "      <td>100_20220831 21</td>\n",
       "      <td>781.049005</td>\n",
       "    </tr>\n",
       "    <tr>\n",
       "      <th>16798</th>\n",
       "      <td>100_20220831 22</td>\n",
       "      <td>665.198841</td>\n",
       "    </tr>\n",
       "    <tr>\n",
       "      <th>16799</th>\n",
       "      <td>100_20220831 23</td>\n",
       "      <td>517.481362</td>\n",
       "    </tr>\n",
       "  </tbody>\n",
       "</table>\n",
       "<p>16800 rows × 2 columns</p>\n",
       "</div>"
      ],
      "text/plain": [
       "         num_date_time       answer\n",
       "0        1_20220825 00  2090.829482\n",
       "1        1_20220825 01  2150.440273\n",
       "2        1_20220825 02  1994.058556\n",
       "3        1_20220825 03  1806.047785\n",
       "4        1_20220825 04  1779.849622\n",
       "...                ...          ...\n",
       "16795  100_20220831 19   907.067036\n",
       "16796  100_20220831 20   862.938483\n",
       "16797  100_20220831 21   781.049005\n",
       "16798  100_20220831 22   665.198841\n",
       "16799  100_20220831 23   517.481362\n",
       "\n",
       "[16800 rows x 2 columns]"
      ]
     },
     "execution_count": 56,
     "metadata": {},
     "output_type": "execute_result"
    }
   ],
   "source": [
    "submission['answer'] = preds**4\n",
    "submission"
   ]
  },
  {
   "cell_type": "code",
   "execution_count": 57,
   "id": "830d6036",
   "metadata": {},
   "outputs": [],
   "source": [
    "submission.to_csv('../data/upvalue_mape_norain_submission.csv', index=False)"
   ]
  }
 ],
 "metadata": {
  "accelerator": "GPU",
  "colab": {
   "provenance": []
  },
  "gpuClass": "standard",
  "kernelspec": {
   "display_name": "please",
   "language": "python",
   "name": "please"
  },
  "language_info": {
   "codemirror_mode": {
    "name": "ipython",
    "version": 3
   },
   "file_extension": ".py",
   "mimetype": "text/x-python",
   "name": "python",
   "nbconvert_exporter": "python",
   "pygments_lexer": "ipython3",
   "version": "3.7.13"
  },
  "toc": {
   "base_numbering": 1,
   "nav_menu": {},
   "number_sections": true,
   "sideBar": true,
   "skip_h1_title": false,
   "title_cell": "Table of Contents",
   "title_sidebar": "Contents",
   "toc_cell": false,
   "toc_position": {},
   "toc_section_display": true,
   "toc_window_display": false
  },
  "widgets": {
   "application/vnd.jupyter.widget-state+json": {
    "09436c3ae2a44a8ca51ee1103b963ada": {
     "model_module": "@jupyter-widgets/base",
     "model_module_version": "1.2.0",
     "model_name": "LayoutModel",
     "state": {
      "_model_module": "@jupyter-widgets/base",
      "_model_module_version": "1.2.0",
      "_model_name": "LayoutModel",
      "_view_count": null,
      "_view_module": "@jupyter-widgets/base",
      "_view_module_version": "1.2.0",
      "_view_name": "LayoutView",
      "align_content": null,
      "align_items": null,
      "align_self": null,
      "border": null,
      "bottom": null,
      "display": null,
      "flex": null,
      "flex_flow": null,
      "grid_area": null,
      "grid_auto_columns": null,
      "grid_auto_flow": null,
      "grid_auto_rows": null,
      "grid_column": null,
      "grid_gap": null,
      "grid_row": null,
      "grid_template_areas": null,
      "grid_template_columns": null,
      "grid_template_rows": null,
      "height": null,
      "justify_content": null,
      "justify_items": null,
      "left": null,
      "margin": null,
      "max_height": null,
      "max_width": null,
      "min_height": null,
      "min_width": null,
      "object_fit": null,
      "object_position": null,
      "order": null,
      "overflow": null,
      "overflow_x": null,
      "overflow_y": null,
      "padding": null,
      "right": null,
      "top": null,
      "visibility": null,
      "width": null
     }
    },
    "29d20f64d430441ea9364b13dfef101b": {
     "model_module": "@jupyter-widgets/base",
     "model_module_version": "1.2.0",
     "model_name": "LayoutModel",
     "state": {
      "_model_module": "@jupyter-widgets/base",
      "_model_module_version": "1.2.0",
      "_model_name": "LayoutModel",
      "_view_count": null,
      "_view_module": "@jupyter-widgets/base",
      "_view_module_version": "1.2.0",
      "_view_name": "LayoutView",
      "align_content": null,
      "align_items": null,
      "align_self": null,
      "border": null,
      "bottom": null,
      "display": null,
      "flex": null,
      "flex_flow": null,
      "grid_area": null,
      "grid_auto_columns": null,
      "grid_auto_flow": null,
      "grid_auto_rows": null,
      "grid_column": null,
      "grid_gap": null,
      "grid_row": null,
      "grid_template_areas": null,
      "grid_template_columns": null,
      "grid_template_rows": null,
      "height": null,
      "justify_content": null,
      "justify_items": null,
      "left": null,
      "margin": null,
      "max_height": null,
      "max_width": null,
      "min_height": null,
      "min_width": null,
      "object_fit": null,
      "object_position": null,
      "order": null,
      "overflow": null,
      "overflow_x": null,
      "overflow_y": null,
      "padding": null,
      "right": null,
      "top": null,
      "visibility": null,
      "width": null
     }
    },
    "4a9ef407319c43bcb20106c47f0db180": {
     "model_module": "@jupyter-widgets/controls",
     "model_module_version": "1.5.0",
     "model_name": "HTMLModel",
     "state": {
      "_dom_classes": [],
      "_model_module": "@jupyter-widgets/controls",
      "_model_module_version": "1.5.0",
      "_model_name": "HTMLModel",
      "_view_count": null,
      "_view_module": "@jupyter-widgets/controls",
      "_view_module_version": "1.5.0",
      "_view_name": "HTMLView",
      "description": "",
      "description_tooltip": null,
      "layout": "IPY_MODEL_09436c3ae2a44a8ca51ee1103b963ada",
      "placeholder": "​",
      "style": "IPY_MODEL_f6d802990a2344db99bf282c663efa5a",
      "value": "100%"
     }
    },
    "4c356887768a4330ab0b0eec28984484": {
     "model_module": "@jupyter-widgets/controls",
     "model_module_version": "1.5.0",
     "model_name": "DescriptionStyleModel",
     "state": {
      "_model_module": "@jupyter-widgets/controls",
      "_model_module_version": "1.5.0",
      "_model_name": "DescriptionStyleModel",
      "_view_count": null,
      "_view_module": "@jupyter-widgets/base",
      "_view_module_version": "1.2.0",
      "_view_name": "StyleView",
      "description_width": ""
     }
    },
    "520b45d5f972463da632a32f96c71ee4": {
     "model_module": "@jupyter-widgets/controls",
     "model_module_version": "1.5.0",
     "model_name": "HTMLModel",
     "state": {
      "_dom_classes": [],
      "_model_module": "@jupyter-widgets/controls",
      "_model_module_version": "1.5.0",
      "_model_name": "HTMLModel",
      "_view_count": null,
      "_view_module": "@jupyter-widgets/controls",
      "_view_module_version": "1.5.0",
      "_view_name": "HTMLView",
      "description": "",
      "description_tooltip": null,
      "layout": "IPY_MODEL_29d20f64d430441ea9364b13dfef101b",
      "placeholder": "​",
      "style": "IPY_MODEL_e7d3b9b9d1224868988e665b4c677357",
      "value": " 1881/1881 [00:24&lt;00:00, 97.61it/s]"
     }
    },
    "53ccb4062ee94e0c84618143ff39ce05": {
     "model_module": "@jupyter-widgets/base",
     "model_module_version": "1.2.0",
     "model_name": "LayoutModel",
     "state": {
      "_model_module": "@jupyter-widgets/base",
      "_model_module_version": "1.2.0",
      "_model_name": "LayoutModel",
      "_view_count": null,
      "_view_module": "@jupyter-widgets/base",
      "_view_module_version": "1.2.0",
      "_view_name": "LayoutView",
      "align_content": null,
      "align_items": null,
      "align_self": null,
      "border": null,
      "bottom": null,
      "display": null,
      "flex": null,
      "flex_flow": null,
      "grid_area": null,
      "grid_auto_columns": null,
      "grid_auto_flow": null,
      "grid_auto_rows": null,
      "grid_column": null,
      "grid_gap": null,
      "grid_row": null,
      "grid_template_areas": null,
      "grid_template_columns": null,
      "grid_template_rows": null,
      "height": null,
      "justify_content": null,
      "justify_items": null,
      "left": null,
      "margin": null,
      "max_height": null,
      "max_width": null,
      "min_height": null,
      "min_width": null,
      "object_fit": null,
      "object_position": null,
      "order": null,
      "overflow": null,
      "overflow_x": null,
      "overflow_y": null,
      "padding": null,
      "right": null,
      "top": null,
      "visibility": null,
      "width": null
     }
    },
    "55e857853048445b87cea2de151ba035": {
     "model_module": "@jupyter-widgets/base",
     "model_module_version": "1.2.0",
     "model_name": "LayoutModel",
     "state": {
      "_model_module": "@jupyter-widgets/base",
      "_model_module_version": "1.2.0",
      "_model_name": "LayoutModel",
      "_view_count": null,
      "_view_module": "@jupyter-widgets/base",
      "_view_module_version": "1.2.0",
      "_view_name": "LayoutView",
      "align_content": null,
      "align_items": null,
      "align_self": null,
      "border": null,
      "bottom": null,
      "display": null,
      "flex": null,
      "flex_flow": null,
      "grid_area": null,
      "grid_auto_columns": null,
      "grid_auto_flow": null,
      "grid_auto_rows": null,
      "grid_column": null,
      "grid_gap": null,
      "grid_row": null,
      "grid_template_areas": null,
      "grid_template_columns": null,
      "grid_template_rows": null,
      "height": null,
      "justify_content": null,
      "justify_items": null,
      "left": null,
      "margin": null,
      "max_height": null,
      "max_width": null,
      "min_height": null,
      "min_width": null,
      "object_fit": null,
      "object_position": null,
      "order": null,
      "overflow": null,
      "overflow_x": null,
      "overflow_y": null,
      "padding": null,
      "right": null,
      "top": null,
      "visibility": null,
      "width": null
     }
    },
    "790f3379b0364c88ae6bdec739b97248": {
     "model_module": "@jupyter-widgets/base",
     "model_module_version": "1.2.0",
     "model_name": "LayoutModel",
     "state": {
      "_model_module": "@jupyter-widgets/base",
      "_model_module_version": "1.2.0",
      "_model_name": "LayoutModel",
      "_view_count": null,
      "_view_module": "@jupyter-widgets/base",
      "_view_module_version": "1.2.0",
      "_view_name": "LayoutView",
      "align_content": null,
      "align_items": null,
      "align_self": null,
      "border": null,
      "bottom": null,
      "display": null,
      "flex": null,
      "flex_flow": null,
      "grid_area": null,
      "grid_auto_columns": null,
      "grid_auto_flow": null,
      "grid_auto_rows": null,
      "grid_column": null,
      "grid_gap": null,
      "grid_row": null,
      "grid_template_areas": null,
      "grid_template_columns": null,
      "grid_template_rows": null,
      "height": null,
      "justify_content": null,
      "justify_items": null,
      "left": null,
      "margin": null,
      "max_height": null,
      "max_width": null,
      "min_height": null,
      "min_width": null,
      "object_fit": null,
      "object_position": null,
      "order": null,
      "overflow": null,
      "overflow_x": null,
      "overflow_y": null,
      "padding": null,
      "right": null,
      "top": null,
      "visibility": null,
      "width": null
     }
    },
    "7a0c9eaf1d1e4a56a195dff77a7ed5f9": {
     "model_module": "@jupyter-widgets/controls",
     "model_module_version": "1.5.0",
     "model_name": "FloatProgressModel",
     "state": {
      "_dom_classes": [],
      "_model_module": "@jupyter-widgets/controls",
      "_model_module_version": "1.5.0",
      "_model_name": "FloatProgressModel",
      "_view_count": null,
      "_view_module": "@jupyter-widgets/controls",
      "_view_module_version": "1.5.0",
      "_view_name": "ProgressView",
      "bar_style": "success",
      "description": "",
      "description_tooltip": null,
      "layout": "IPY_MODEL_bb35a24296ed455a872731cef7333ffb",
      "max": 5001,
      "min": 0,
      "orientation": "horizontal",
      "style": "IPY_MODEL_dc7da92e2f454f79b07c3ca86c3cc9d4",
      "value": 5001
     }
    },
    "911d4b1f888540eb96b8b6a48134f078": {
     "model_module": "@jupyter-widgets/base",
     "model_module_version": "1.2.0",
     "model_name": "LayoutModel",
     "state": {
      "_model_module": "@jupyter-widgets/base",
      "_model_module_version": "1.2.0",
      "_model_name": "LayoutModel",
      "_view_count": null,
      "_view_module": "@jupyter-widgets/base",
      "_view_module_version": "1.2.0",
      "_view_name": "LayoutView",
      "align_content": null,
      "align_items": null,
      "align_self": null,
      "border": null,
      "bottom": null,
      "display": null,
      "flex": null,
      "flex_flow": null,
      "grid_area": null,
      "grid_auto_columns": null,
      "grid_auto_flow": null,
      "grid_auto_rows": null,
      "grid_column": null,
      "grid_gap": null,
      "grid_row": null,
      "grid_template_areas": null,
      "grid_template_columns": null,
      "grid_template_rows": null,
      "height": null,
      "justify_content": null,
      "justify_items": null,
      "left": null,
      "margin": null,
      "max_height": null,
      "max_width": null,
      "min_height": null,
      "min_width": null,
      "object_fit": null,
      "object_position": null,
      "order": null,
      "overflow": null,
      "overflow_x": null,
      "overflow_y": null,
      "padding": null,
      "right": null,
      "top": null,
      "visibility": null,
      "width": null
     }
    },
    "918b0c55f55f4b799fb41adb002c5f1f": {
     "model_module": "@jupyter-widgets/controls",
     "model_module_version": "1.5.0",
     "model_name": "HBoxModel",
     "state": {
      "_dom_classes": [],
      "_model_module": "@jupyter-widgets/controls",
      "_model_module_version": "1.5.0",
      "_model_name": "HBoxModel",
      "_view_count": null,
      "_view_module": "@jupyter-widgets/controls",
      "_view_module_version": "1.5.0",
      "_view_name": "HBoxView",
      "box_style": "",
      "children": [
       "IPY_MODEL_9a823940919d4e068c01e31276740b0f",
       "IPY_MODEL_9fe2d03a06474596b0547d0410da8064",
       "IPY_MODEL_520b45d5f972463da632a32f96c71ee4"
      ],
      "layout": "IPY_MODEL_911d4b1f888540eb96b8b6a48134f078"
     }
    },
    "9a823940919d4e068c01e31276740b0f": {
     "model_module": "@jupyter-widgets/controls",
     "model_module_version": "1.5.0",
     "model_name": "HTMLModel",
     "state": {
      "_dom_classes": [],
      "_model_module": "@jupyter-widgets/controls",
      "_model_module_version": "1.5.0",
      "_model_name": "HTMLModel",
      "_view_count": null,
      "_view_module": "@jupyter-widgets/controls",
      "_view_module_version": "1.5.0",
      "_view_name": "HTMLView",
      "description": "",
      "description_tooltip": null,
      "layout": "IPY_MODEL_53ccb4062ee94e0c84618143ff39ce05",
      "placeholder": "​",
      "style": "IPY_MODEL_df5b9e6414d449f0961eecec22b16991",
      "value": "100%"
     }
    },
    "9fe2d03a06474596b0547d0410da8064": {
     "model_module": "@jupyter-widgets/controls",
     "model_module_version": "1.5.0",
     "model_name": "FloatProgressModel",
     "state": {
      "_dom_classes": [],
      "_model_module": "@jupyter-widgets/controls",
      "_model_module_version": "1.5.0",
      "_model_name": "FloatProgressModel",
      "_view_count": null,
      "_view_module": "@jupyter-widgets/controls",
      "_view_module_version": "1.5.0",
      "_view_name": "ProgressView",
      "bar_style": "success",
      "description": "",
      "description_tooltip": null,
      "layout": "IPY_MODEL_790f3379b0364c88ae6bdec739b97248",
      "max": 1881,
      "min": 0,
      "orientation": "horizontal",
      "style": "IPY_MODEL_e5a69cc464fe42f6be81a34ed57b1686",
      "value": 1881
     }
    },
    "a194d82dd952480387bf1f599a8e52e5": {
     "model_module": "@jupyter-widgets/base",
     "model_module_version": "1.2.0",
     "model_name": "LayoutModel",
     "state": {
      "_model_module": "@jupyter-widgets/base",
      "_model_module_version": "1.2.0",
      "_model_name": "LayoutModel",
      "_view_count": null,
      "_view_module": "@jupyter-widgets/base",
      "_view_module_version": "1.2.0",
      "_view_name": "LayoutView",
      "align_content": null,
      "align_items": null,
      "align_self": null,
      "border": null,
      "bottom": null,
      "display": null,
      "flex": null,
      "flex_flow": null,
      "grid_area": null,
      "grid_auto_columns": null,
      "grid_auto_flow": null,
      "grid_auto_rows": null,
      "grid_column": null,
      "grid_gap": null,
      "grid_row": null,
      "grid_template_areas": null,
      "grid_template_columns": null,
      "grid_template_rows": null,
      "height": null,
      "justify_content": null,
      "justify_items": null,
      "left": null,
      "margin": null,
      "max_height": null,
      "max_width": null,
      "min_height": null,
      "min_width": null,
      "object_fit": null,
      "object_position": null,
      "order": null,
      "overflow": null,
      "overflow_x": null,
      "overflow_y": null,
      "padding": null,
      "right": null,
      "top": null,
      "visibility": null,
      "width": null
     }
    },
    "bb35a24296ed455a872731cef7333ffb": {
     "model_module": "@jupyter-widgets/base",
     "model_module_version": "1.2.0",
     "model_name": "LayoutModel",
     "state": {
      "_model_module": "@jupyter-widgets/base",
      "_model_module_version": "1.2.0",
      "_model_name": "LayoutModel",
      "_view_count": null,
      "_view_module": "@jupyter-widgets/base",
      "_view_module_version": "1.2.0",
      "_view_name": "LayoutView",
      "align_content": null,
      "align_items": null,
      "align_self": null,
      "border": null,
      "bottom": null,
      "display": null,
      "flex": null,
      "flex_flow": null,
      "grid_area": null,
      "grid_auto_columns": null,
      "grid_auto_flow": null,
      "grid_auto_rows": null,
      "grid_column": null,
      "grid_gap": null,
      "grid_row": null,
      "grid_template_areas": null,
      "grid_template_columns": null,
      "grid_template_rows": null,
      "height": null,
      "justify_content": null,
      "justify_items": null,
      "left": null,
      "margin": null,
      "max_height": null,
      "max_width": null,
      "min_height": null,
      "min_width": null,
      "object_fit": null,
      "object_position": null,
      "order": null,
      "overflow": null,
      "overflow_x": null,
      "overflow_y": null,
      "padding": null,
      "right": null,
      "top": null,
      "visibility": null,
      "width": null
     }
    },
    "d5a7c1d85e63402ebd0c36cb6883ab33": {
     "model_module": "@jupyter-widgets/controls",
     "model_module_version": "1.5.0",
     "model_name": "HTMLModel",
     "state": {
      "_dom_classes": [],
      "_model_module": "@jupyter-widgets/controls",
      "_model_module_version": "1.5.0",
      "_model_name": "HTMLModel",
      "_view_count": null,
      "_view_module": "@jupyter-widgets/controls",
      "_view_module_version": "1.5.0",
      "_view_name": "HTMLView",
      "description": "",
      "description_tooltip": null,
      "layout": "IPY_MODEL_a194d82dd952480387bf1f599a8e52e5",
      "placeholder": "​",
      "style": "IPY_MODEL_4c356887768a4330ab0b0eec28984484",
      "value": " 5001/5001 [01:11&lt;00:00, 106.18it/s]"
     }
    },
    "dc7da92e2f454f79b07c3ca86c3cc9d4": {
     "model_module": "@jupyter-widgets/controls",
     "model_module_version": "1.5.0",
     "model_name": "ProgressStyleModel",
     "state": {
      "_model_module": "@jupyter-widgets/controls",
      "_model_module_version": "1.5.0",
      "_model_name": "ProgressStyleModel",
      "_view_count": null,
      "_view_module": "@jupyter-widgets/base",
      "_view_module_version": "1.2.0",
      "_view_name": "StyleView",
      "bar_color": null,
      "description_width": ""
     }
    },
    "df5b9e6414d449f0961eecec22b16991": {
     "model_module": "@jupyter-widgets/controls",
     "model_module_version": "1.5.0",
     "model_name": "DescriptionStyleModel",
     "state": {
      "_model_module": "@jupyter-widgets/controls",
      "_model_module_version": "1.5.0",
      "_model_name": "DescriptionStyleModel",
      "_view_count": null,
      "_view_module": "@jupyter-widgets/base",
      "_view_module_version": "1.2.0",
      "_view_name": "StyleView",
      "description_width": ""
     }
    },
    "e5a69cc464fe42f6be81a34ed57b1686": {
     "model_module": "@jupyter-widgets/controls",
     "model_module_version": "1.5.0",
     "model_name": "ProgressStyleModel",
     "state": {
      "_model_module": "@jupyter-widgets/controls",
      "_model_module_version": "1.5.0",
      "_model_name": "ProgressStyleModel",
      "_view_count": null,
      "_view_module": "@jupyter-widgets/base",
      "_view_module_version": "1.2.0",
      "_view_name": "StyleView",
      "bar_color": null,
      "description_width": ""
     }
    },
    "e7d3b9b9d1224868988e665b4c677357": {
     "model_module": "@jupyter-widgets/controls",
     "model_module_version": "1.5.0",
     "model_name": "DescriptionStyleModel",
     "state": {
      "_model_module": "@jupyter-widgets/controls",
      "_model_module_version": "1.5.0",
      "_model_name": "DescriptionStyleModel",
      "_view_count": null,
      "_view_module": "@jupyter-widgets/base",
      "_view_module_version": "1.2.0",
      "_view_name": "StyleView",
      "description_width": ""
     }
    },
    "f6d802990a2344db99bf282c663efa5a": {
     "model_module": "@jupyter-widgets/controls",
     "model_module_version": "1.5.0",
     "model_name": "DescriptionStyleModel",
     "state": {
      "_model_module": "@jupyter-widgets/controls",
      "_model_module_version": "1.5.0",
      "_model_name": "DescriptionStyleModel",
      "_view_count": null,
      "_view_module": "@jupyter-widgets/base",
      "_view_module_version": "1.2.0",
      "_view_name": "StyleView",
      "description_width": ""
     }
    },
    "fca0079f6a714ac7885e1474711d7913": {
     "model_module": "@jupyter-widgets/controls",
     "model_module_version": "1.5.0",
     "model_name": "HBoxModel",
     "state": {
      "_dom_classes": [],
      "_model_module": "@jupyter-widgets/controls",
      "_model_module_version": "1.5.0",
      "_model_name": "HBoxModel",
      "_view_count": null,
      "_view_module": "@jupyter-widgets/controls",
      "_view_module_version": "1.5.0",
      "_view_name": "HBoxView",
      "box_style": "",
      "children": [
       "IPY_MODEL_4a9ef407319c43bcb20106c47f0db180",
       "IPY_MODEL_7a0c9eaf1d1e4a56a195dff77a7ed5f9",
       "IPY_MODEL_d5a7c1d85e63402ebd0c36cb6883ab33"
      ],
      "layout": "IPY_MODEL_55e857853048445b87cea2de151ba035"
     }
    }
   }
  }
 },
 "nbformat": 4,
 "nbformat_minor": 5
}
